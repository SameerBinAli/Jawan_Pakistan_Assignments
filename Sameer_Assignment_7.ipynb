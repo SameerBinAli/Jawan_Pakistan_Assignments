{
 "cells": [
  {
   "cell_type": "markdown",
   "id": "a7578004-d75a-49bc-a739-5f4cbf361aad",
   "metadata": {},
   "source": [
    "## ***Question No.1***"
   ]
  },
  {
   "cell_type": "markdown",
   "id": "581ceec9-7a0b-4d5d-81d4-96a2a5db422f",
   "metadata": {},
   "source": [
    "Question 1:\n",
    "\n",
    "Write a Python program that prints numbers from 1 to 20, but skips all even numbers.\n",
    "\n",
    "Use a while loop.\n",
    "\n",
    "Use the continue statement\n",
    "\n",
    "The numbers should be printed on the same line separated by spaces.\n",
    "\n",
    "Expected Output:\n",
    "\n",
    "1 3 5 7 9 11 13 15 17 19"
   ]
  },
  {
   "cell_type": "markdown",
   "id": "2fe26e75-e082-4ff5-8344-83ef32f10f67",
   "metadata": {},
   "source": [
    "## ***Answer No.1***"
   ]
  },
  {
   "cell_type": "code",
   "execution_count": 1,
   "id": "bf741b4a-c96d-4555-851b-35ad910d269b",
   "metadata": {},
   "outputs": [
    {
     "name": "stdout",
     "output_type": "stream",
     "text": [
      "1 3 5 7 9 11 13 15 17 19 "
     ]
    }
   ],
   "source": [
    "numbers = 1\n",
    "\n",
    "while numbers <= 20:\n",
    "    if numbers %2 == 0:               \n",
    "        numbers += 1\n",
    "        continue\n",
    "    print(numbers, end =\" \")   \n",
    "    numbers += 1"
   ]
  },
  {
   "cell_type": "markdown",
   "id": "ec4e5b10-07d1-4554-9b03-ede42fa46a93",
   "metadata": {},
   "source": [
    "## ***Question No.2***"
   ]
  },
  {
   "cell_type": "markdown",
   "id": "92457495-db91-40b1-aef1-c13ea44a573a",
   "metadata": {},
   "source": [
    "Question 2:\n",
    "\n",
    "Write a Python program that keeps asking the user to enter numbers and prints them.\n",
    "\n",
    "The program should stop the loop if the user enters a negative number.\n",
    "\n",
    "Use a while True loop with a break statement\n",
    "\n",
    "Expected Output:\n",
    "\n",
    "Enter a number (negative to stop): 5\n",
    "\n",
    "You entered: 5\n",
    "\n",
    "Enter a number (negative to stop): 10\n",
    "\n",
    "You entered: 10\n",
    "\n",
    "Enter a number (negative to stop): -3\n",
    "\n",
    "Negative number entered. Loop stopped!\n"
   ]
  },
  {
   "cell_type": "markdown",
   "id": "00ae33b9-48fa-4cce-b7e7-d689dabe4dde",
   "metadata": {},
   "source": [
    "## ***Answer No.2***"
   ]
  },
  {
   "cell_type": "code",
   "execution_count": 2,
   "id": "25292dc4-f0dd-4f56-b225-3f91f0be3b46",
   "metadata": {},
   "outputs": [
    {
     "name": "stdin",
     "output_type": "stream",
     "text": [
      "Enter a number (negative to stop):  22\n"
     ]
    },
    {
     "name": "stdout",
     "output_type": "stream",
     "text": [
      "You entered: 22\n"
     ]
    },
    {
     "name": "stdin",
     "output_type": "stream",
     "text": [
      "Enter a number (negative to stop):  42\n"
     ]
    },
    {
     "name": "stdout",
     "output_type": "stream",
     "text": [
      "You entered: 42\n"
     ]
    },
    {
     "name": "stdin",
     "output_type": "stream",
     "text": [
      "Enter a number (negative to stop):  -4\n"
     ]
    },
    {
     "name": "stdout",
     "output_type": "stream",
     "text": [
      "Negative number entered. Loop stopped!\n"
     ]
    }
   ],
   "source": [
    "while True:\n",
    "    num = int(input(\"Enter a number (negative to stop): \"))\n",
    "    if num < 0:\n",
    "        print(\"Negative number entered. Loop stopped!\")\n",
    "        break\n",
    "    print(f\"You entered: {num}\")"
   ]
  },
  {
   "cell_type": "markdown",
   "id": "0d585b45-814f-4cc8-8c6c-be1e708ff086",
   "metadata": {},
   "source": [
    "## ***Question No.3***"
   ]
  },
  {
   "cell_type": "markdown",
   "id": "bb7525d3-bc05-4c78-87d3-06af83b0ed91",
   "metadata": {},
   "source": [
    "Question 3:\n",
    "\n",
    "\n",
    "Write a Python program that asks the user to guess a secret word.\n",
    "\n",
    "Keep asking until the user enters the correct word (\"python\").\n",
    "\n",
    "When guessed correctly, print \"🎉 You guessed it!\"\n",
    "\n",
    "Expected Output:\n",
    "\n",
    "Guess the word: java\n",
    "\n",
    "Guess the word: ruby\n",
    "\n",
    "Guess the word: python\n",
    "\n",
    "🎉 You guessed it!"
   ]
  },
  {
   "cell_type": "markdown",
   "id": "e0ed176c-bc0d-4895-be7d-54b330f2a12c",
   "metadata": {},
   "source": [
    "## ***Answer No.3***"
   ]
  },
  {
   "cell_type": "code",
   "execution_count": 3,
   "id": "e1530a7c-72ef-4828-a6d7-949476899496",
   "metadata": {},
   "outputs": [
    {
     "name": "stdin",
     "output_type": "stream",
     "text": [
      "Guess the word:  java\n",
      "Guess the word:  ruby\n",
      "Guess the word:  python\n"
     ]
    },
    {
     "name": "stdout",
     "output_type": "stream",
     "text": [
      "🎉 You guessed it!\n"
     ]
    }
   ],
   "source": [
    "while True:\n",
    "    word = input(\"Guess the word: \")\n",
    "    if word == \"python\":\n",
    "        print(\"🎉 You guessed it!\")\n",
    "        break"
   ]
  },
  {
   "cell_type": "markdown",
   "id": "5562257a-8575-46cd-8b51-4b86dd169a86",
   "metadata": {},
   "source": [
    "## ***Question No.4***"
   ]
  },
  {
   "cell_type": "markdown",
   "id": "8aed3938-a18b-4307-9912-aa27f8e0f5e4",
   "metadata": {},
   "source": [
    "Question 4:\n",
    "\n",
    "orders = [\n",
    "    {\"order_id\": 1, \"customer\": \"Ali\", \"items\": [120, 80, 50]},\n",
    "    {\"order_id\": 2, \"customer\": \"Sara\", \"items\": [200, 150]},\n",
    "    {\"order_id\": 3, \"customer\": \"Raheel\", \"items\": [90, 60, 40, 30]},\n",
    "    {\"order_id\": 4, \"customer\": \"Naveed\", \"items\": [300]},\n",
    "]\n",
    "\n",
    "You are given a list of e-commerce orders. Each order has:\n",
    "\n",
    "an order ID\n",
    "\n",
    "a customer name\n",
    "\n",
    "a list of items with prices\n",
    "\n",
    "Write a Python program to print all items for each order using nested while loops.\n",
    "\n",
    "Expected Output:\n",
    "\n",
    "Order ID: 1 Customer: Ali\n",
    "\n",
    " Item Price: 120\n",
    " \n",
    " Item Price: 80\n",
    " \n",
    " Item Price: 50\n",
    "\n",
    "Order ID: 2 Customer: Sara\n",
    "\n",
    " Item Price: 200\n",
    " \n",
    " Item Price: 150\n",
    "\n",
    "Order ID: 3 Customer: Raheel\n",
    "\n",
    " Item Price: 90\n",
    " \n",
    " Item Price: 60\n",
    " \n",
    " Item Price: 40\n",
    " \n",
    " Item Price: 30\n",
    "\n",
    "Order ID: 4 Customer: Naveed\n",
    "\n",
    " Item Price: 300"
   ]
  },
  {
   "cell_type": "markdown",
   "id": "45bb2d4f-3348-448e-b4f2-3a33bf807b04",
   "metadata": {},
   "source": [
    "## ***Answer No.4***"
   ]
  },
  {
   "cell_type": "code",
   "execution_count": 4,
   "id": "6e49b2ee-42c5-456e-b3cd-cbbf309a4fff",
   "metadata": {},
   "outputs": [],
   "source": [
    "orders = [ \n",
    "    {\"order_id\": 1, \"customer\": \"Ali\", \"items\": [120, 80, 50]}, \n",
    "    {\"order_id\": 2, \"customer\": \"Sara\", \"items\": [200, 150]}, \n",
    "    {\"order_id\": 3, \"customer\": \"Raheel\", \"items\": [90, 60, 40, 30]}, \n",
    "    {\"order_id\": 4, \"customer\": \"Naveed\", \"items\": [300]}, \n",
    "]"
   ]
  },
  {
   "cell_type": "code",
   "execution_count": 5,
   "id": "348be4e6-b14c-49ab-b656-de46f4321108",
   "metadata": {},
   "outputs": [
    {
     "name": "stdout",
     "output_type": "stream",
     "text": [
      "Order ID: 1 Customer: Ali\n",
      "Item Price: 120\n",
      "Item Price: 80\n",
      "Item Price: 50\n",
      "\n",
      "Order ID: 2 Customer: Sara\n",
      "Item Price: 200\n",
      "Item Price: 150\n",
      "\n",
      "Order ID: 3 Customer: Raheel\n",
      "Item Price: 90\n",
      "Item Price: 60\n",
      "Item Price: 40\n",
      "Item Price: 30\n",
      "\n",
      "Order ID: 4 Customer: Naveed\n",
      "Item Price: 300\n",
      "\n"
     ]
    }
   ],
   "source": [
    "i = 0\n",
    "while i < len(orders):\n",
    "    order = orders[i]\n",
    "    print(f\"Order ID: {order[\"order_id\"]} Customer: {order[\"customer\"]}\")\n",
    "\n",
    "    j = 0\n",
    "    while j < len(order[\"items\"]):\n",
    "        print(f\"Item Price: {order[\"items\"][j]}\")\n",
    "        j += 1\n",
    "    print()\n",
    "    i += 1"
   ]
  },
  {
   "cell_type": "markdown",
   "id": "98aacfb6-b068-4f58-9c2f-505607339f20",
   "metadata": {},
   "source": [
    "## ***Question No.5***"
   ]
  },
  {
   "cell_type": "markdown",
   "id": "4af758b8-6ebf-4ebe-b202-20fe06e270fe",
   "metadata": {},
   "source": [
    "Question 5:\n",
    "\n",
    "Print total amount spent by each customer (Using nested while loop)\n",
    "\n",
    "orders = [\n",
    "    {\"order_id\": 1, \"customer\": \"Ali\", \"items\": [120, 80, 50]},\n",
    "    {\"order_id\": 2, \"customer\": \"Sara\", \"items\": [200, 150]},\n",
    "    {\"order_id\": 3, \"customer\": \"Raheel\", \"items\": [90, 60, 40, 30]},\n",
    "    {\"order_id\": 4, \"customer\": \"Naveed\", \"items\": [300]},\n",
    "]\n",
    "\n",
    "Expected Output:\n",
    "\n",
    "Ali spent total: 250\n",
    "\n",
    "Sara spent total: 350\n",
    "\n",
    "Raheel spent total: 220\n",
    "\n",
    "Naveed spent total: 300"
   ]
  },
  {
   "cell_type": "markdown",
   "id": "615376bc-8eb0-4162-912c-95442ebe4d3c",
   "metadata": {},
   "source": [
    "## ***Answer No.5***"
   ]
  },
  {
   "cell_type": "code",
   "execution_count": 6,
   "id": "a510b694-0116-4a01-af4e-3cd68c633266",
   "metadata": {},
   "outputs": [],
   "source": [
    "orders = [ \n",
    "    {\"order_id\": 1, \"customer\": \"Ali\", \"items\": [120, 80, 50]}, \n",
    "    {\"order_id\": 2, \"customer\": \"Sara\", \"items\": [200, 150]}, \n",
    "    {\"order_id\": 3, \"customer\": \"Raheel\", \"items\": [90, 60, 40, 30]}, \n",
    "    {\"order_id\": 4, \"customer\": \"Naveed\", \"items\": [300]}, \n",
    "]"
   ]
  },
  {
   "cell_type": "code",
   "execution_count": 7,
   "id": "b3e0f5c6-28f1-4100-9e23-571242070e96",
   "metadata": {},
   "outputs": [
    {
     "name": "stdout",
     "output_type": "stream",
     "text": [
      "Ali spent total: 250\n",
      "Sara spent total: 350\n",
      "Raheel spent total: 220\n",
      "Naveed spent total: 300\n"
     ]
    }
   ],
   "source": [
    "i = 0\n",
    "while i < len(orders):\n",
    "    total = 0\n",
    "    j = 0\n",
    "    while j < len(orders[i][\"items\"]):\n",
    "        total += orders[i][\"items\"][j]\n",
    "        j += 1\n",
    "    print(f\"{orders[i][\"customer\"]} spent total: {total}\")\n",
    "    i +=1"
   ]
  },
  {
   "cell_type": "markdown",
   "id": "b685e8fd-a827-46db-89d1-5d54273c799a",
   "metadata": {},
   "source": [
    "## ***Question No.6***"
   ]
  },
  {
   "cell_type": "markdown",
   "id": "a03b7b1f-3551-40be-8e0b-e65a3a88a457",
   "metadata": {},
   "source": [
    "Question 6:\n",
    "\n",
    "Print the maximum item price for each order. (Using nested while loop)\n",
    "\n",
    "orders = [ {\"order_id\": 1, \"customer\": \"Ali\", \"items\": [120, 80, 50]}, {\"order_id\": 2, \"customer\": \"Sara\", \"items\": [200, 150]}, {\"order_id\": 3, \"customer\": \"Raheel\", \"items\": [90, 60, 40, 30]}, {\"order_id\": 4, \"customer\": \"Naveed\", \"items\": [300]}, ]\n",
    "\n",
    "Expected Output:\n",
    "\n",
    "Most expensive item in Order 1 = 120\n",
    "\n",
    "Most expensive item in Order 2 = 200\n",
    "\n",
    "Most expensive item in Order 3 = 90\n",
    "\n",
    "Most expensive item in Order 4 = 300"
   ]
  },
  {
   "cell_type": "markdown",
   "id": "2902b229-cbda-498c-bc1e-ba6272899e97",
   "metadata": {},
   "source": [
    "## ***Answer No.6***"
   ]
  },
  {
   "cell_type": "code",
   "execution_count": 8,
   "id": "77010e0e-de81-4223-889d-6ed4c7227fcc",
   "metadata": {},
   "outputs": [],
   "source": [
    "orders = [ \n",
    "    {\"order_id\": 1, \"customer\": \"Ali\", \"items\": [120, 80, 50]}, \n",
    "    {\"order_id\": 2, \"customer\": \"Sara\", \"items\": [200, 150]}, \n",
    "    {\"order_id\": 3, \"customer\": \"Raheel\", \"items\": [90, 60, 40, 30]}, \n",
    "    {\"order_id\": 4, \"customer\": \"Naveed\", \"items\": [300]}, \n",
    "]"
   ]
  },
  {
   "cell_type": "code",
   "execution_count": 9,
   "id": "05ad47bf-019b-4051-bc0a-e43286596b34",
   "metadata": {},
   "outputs": [
    {
     "name": "stdout",
     "output_type": "stream",
     "text": [
      "Most expensive order in Order 1 = 120\n",
      "Most expensive order in Order 2 = 200\n",
      "Most expensive order in Order 3 = 90\n",
      "Most expensive order in Order 4 = 300\n"
     ]
    }
   ],
   "source": [
    "i = 0\n",
    "while i < len(orders):\n",
    "    items = orders[i][\"items\"]\n",
    "    max_price = items[0]                 #Initializing the first item in \"items\" like 120 in first one.\n",
    "    \n",
    "    j = 1\n",
    "    while j < len(items):\n",
    "        if items[j] > max_price:\n",
    "            max_price == items[j]\n",
    "        j += 1\n",
    "        \n",
    "    print(f\"Most expensive order in Order {i+1} = {max_price}\")\n",
    "    i += 1"
   ]
  },
  {
   "cell_type": "markdown",
   "id": "4cf95aeb-d387-4a77-94cc-404219c62552",
   "metadata": {},
   "source": [
    "## ***Question No.7***"
   ]
  },
  {
   "cell_type": "markdown",
   "id": "f6266c7d-faec-43ac-92f2-8da1bfc3bb36",
   "metadata": {},
   "source": [
    "Question 7:\n",
    "\n",
    "Write a Python program to create a single list (list comprehension) that contains all numbers from 1 to 50 which are multiples of 5 and 10.\n",
    "\n",
    "Expected Output:\n",
    "\n",
    "Multiples of 5 and 10 from 1 to 50: [10, 20, 30, 40, 50]\n"
   ]
  },
  {
   "cell_type": "markdown",
   "id": "2fc1b331-9150-4e30-a9b1-ec2d8729ac64",
   "metadata": {},
   "source": [
    "## ***Answer No.7***"
   ]
  },
  {
   "cell_type": "code",
   "execution_count": 10,
   "id": "f56c63e4-f6c5-4a19-be6f-dfd5cba9a7c2",
   "metadata": {},
   "outputs": [],
   "source": [
    "multiples = [x for x in range(1,51) if x % 10 == 0]"
   ]
  },
  {
   "cell_type": "code",
   "execution_count": 11,
   "id": "246fba99-acc0-4c8b-8373-6ca4e0cbf436",
   "metadata": {},
   "outputs": [
    {
     "name": "stdout",
     "output_type": "stream",
     "text": [
      "Multiples of 5 and 10 from 1 to 50: [10, 20, 30, 40, 50]\n"
     ]
    }
   ],
   "source": [
    "print(f\"Multiples of 5 and 10 from 1 to 50: {multiples}\")"
   ]
  },
  {
   "cell_type": "markdown",
   "id": "ddad7668-2833-4892-93b9-2a2b7a610a02",
   "metadata": {},
   "source": [
    "## ***Question No.8***"
   ]
  },
  {
   "cell_type": "markdown",
   "id": "504e6c26-2f4a-4878-a6c9-aed4de31dc54",
   "metadata": {},
   "source": [
    "Question 8:\n",
    "\n",
    "employees = [\n",
    "    {\"emp_id\": 1, \"name\": \"Ali\", \"dept\": \"Sales\", \"salary\": 50000, \"experience\": 2},\n",
    "    {\"emp_id\": 2, \"name\": \"Sara\", \"dept\": \"IT\", \"salary\": 65000, \"experience\": 5},\n",
    "    {\"emp_id\": 3, \"name\": \"Raheel\", \"dept\": \"HR\", \"salary\": 45000, \"experience\": 1},\n",
    "    {\"emp_id\": 4, \"name\": \"Naveed\", \"dept\": \"Finance\", \"salary\": 70000, \"experience\": 7},\n",
    "    {\"emp_id\": 5, \"name\": \"Ayesha\", \"dept\": \"IT\", \"salary\": 72000, \"experience\": 6},\n",
    "    {\"emp_id\": 6, \"name\": \"Talha\", \"dept\": \"Sales\", \"salary\": 55000, \"experience\": 3},\n",
    "    {\"emp_id\": 7, \"name\": \"Sana\", \"dept\": \"Finance\", \"salary\": 80000, \"experience\": 8},\n",
    "    {\"emp_id\": 8, \"name\": \"Hina\", \"dept\": \"HR\", \"salary\": 48000, \"experience\": 2},\n",
    "]\n",
    "\n",
    "Using List Comprehension\n",
    "\n",
    "Employees with salary > 60,000 AND experience > 5 years\n",
    "\n",
    "Expected Output:\n",
    "['Naveed', 'Ayesha', 'Sana']\n"
   ]
  },
  {
   "cell_type": "markdown",
   "id": "97f6cebd-46aa-4ac7-bac4-6839ee961a94",
   "metadata": {},
   "source": [
    "## ***Answer No.8***"
   ]
  },
  {
   "cell_type": "code",
   "execution_count": 12,
   "id": "79fd9642-8afa-4e3b-b9a1-e751e9de53ea",
   "metadata": {},
   "outputs": [],
   "source": [
    "employees = [ \n",
    "    {\"emp_id\": 1, \"name\": \"Ali\", \"dept\": \"Sales\", \"salary\": 50000, \"experience\": 2}, \n",
    "    {\"emp_id\": 2, \"name\": \"Sara\", \"dept\": \"IT\", \"salary\": 65000, \"experience\": 5}, \n",
    "    {\"emp_id\": 3, \"name\": \"Raheel\", \"dept\": \"HR\", \"salary\": 45000, \"experience\": 1}, \n",
    "    {\"emp_id\": 4, \"name\": \"Naveed\", \"dept\": \"Finance\", \"salary\": 70000, \"experience\": 7}, \n",
    "    {\"emp_id\": 5, \"name\": \"Ayesha\", \"dept\": \"IT\", \"salary\": 72000, \"experience\": 6}, \n",
    "    {\"emp_id\": 6, \"name\": \"Talha\", \"dept\": \"Sales\", \"salary\": 55000, \"experience\": 3}, \n",
    "    {\"emp_id\": 7, \"name\": \"Sana\", \"dept\": \"Finance\", \"salary\": 80000, \"experience\": 8}, \n",
    "    {\"emp_id\": 8, \"name\": \"Hina\", \"dept\": \"HR\", \"salary\": 48000, \"experience\": 2}, \n",
    "]"
   ]
  },
  {
   "cell_type": "code",
   "execution_count": 13,
   "id": "6ad0dbde-792c-4b56-b310-379e32696563",
   "metadata": {},
   "outputs": [],
   "source": [
    "employee = [e[\"name\"] for e in employees if e[\"salary\"] > 60000 and e[\"experience\"] > 5]"
   ]
  },
  {
   "cell_type": "code",
   "execution_count": 14,
   "id": "a099841e-3adb-4158-b533-69ec8feda2d7",
   "metadata": {},
   "outputs": [
    {
     "data": {
      "text/plain": [
       "['Naveed', 'Ayesha', 'Sana']"
      ]
     },
     "execution_count": 14,
     "metadata": {},
     "output_type": "execute_result"
    }
   ],
   "source": [
    "employee"
   ]
  },
  {
   "cell_type": "markdown",
   "id": "ac88dcdf-7f98-4a2b-8cd9-484671cadc63",
   "metadata": {},
   "source": [
    "## ***Question No.9***"
   ]
  },
  {
   "cell_type": "markdown",
   "id": "6aacc7de-41ae-42e5-9a90-c6903d3e6675",
   "metadata": {},
   "source": [
    "Question 9:\n",
    "\n",
    "Employees with NOT HR department\n",
    "\n",
    "Expected Output:\n",
    "['Ali', 'Sara', 'Naveed', 'Ayesha', 'Talha', 'Sana']\n"
   ]
  },
  {
   "cell_type": "markdown",
   "id": "99c87549-b65a-4d4e-bb8a-b4d64715f7b1",
   "metadata": {},
   "source": [
    "## ***Answer No.9***"
   ]
  },
  {
   "cell_type": "code",
   "execution_count": 15,
   "id": "dcba8601-1b49-4eb9-884b-769b5e0086fa",
   "metadata": {},
   "outputs": [],
   "source": [
    "employee = [e[\"name\"] for e in employees if e[\"dept\"] != \"HR\"]"
   ]
  },
  {
   "cell_type": "code",
   "execution_count": 16,
   "id": "ba1b1fe0-08bb-47e3-8de9-c9ce995524f9",
   "metadata": {},
   "outputs": [
    {
     "data": {
      "text/plain": [
       "['Ali', 'Sara', 'Naveed', 'Ayesha', 'Talha', 'Sana']"
      ]
     },
     "execution_count": 16,
     "metadata": {},
     "output_type": "execute_result"
    }
   ],
   "source": [
    "employee"
   ]
  },
  {
   "cell_type": "markdown",
   "id": "d4cbb533-f1c4-4118-8713-9552703c413d",
   "metadata": {},
   "source": [
    "## ***Question No.10***"
   ]
  },
  {
   "cell_type": "markdown",
   "id": "0917b7a1-65ed-4358-af88-9680d1502307",
   "metadata": {},
   "source": [
    "Question 10:\n",
    "\n",
    "Employees NOT in Sales OR experience > 5\n",
    "\n",
    "Expected Output:\n",
    "['Sara', 'Raheel', 'Naveed', 'Ayesha', 'Sana', 'Hina']\n"
   ]
  },
  {
   "cell_type": "markdown",
   "id": "b792515c-9ca0-476f-8571-3a8a504044d3",
   "metadata": {},
   "source": [
    "## ***Answer No.10***"
   ]
  },
  {
   "cell_type": "code",
   "execution_count": 17,
   "id": "15b0452a-58e3-410f-b72f-bd73306ef96f",
   "metadata": {},
   "outputs": [],
   "source": [
    "employee = [e[\"name\"] for e in employees if e[\"dept\"] != \"Sales\" or e[\"experience\"] > 5]"
   ]
  },
  {
   "cell_type": "code",
   "execution_count": 18,
   "id": "ddf2cef7-8078-49c2-9a60-2516f7c5a26d",
   "metadata": {},
   "outputs": [
    {
     "data": {
      "text/plain": [
       "['Sara', 'Raheel', 'Naveed', 'Ayesha', 'Sana', 'Hina']"
      ]
     },
     "execution_count": 18,
     "metadata": {},
     "output_type": "execute_result"
    }
   ],
   "source": [
    "employee"
   ]
  }
 ],
 "metadata": {
  "kernelspec": {
   "display_name": "Python [conda env:base] *",
   "language": "python",
   "name": "conda-base-py"
  },
  "language_info": {
   "codemirror_mode": {
    "name": "ipython",
    "version": 3
   },
   "file_extension": ".py",
   "mimetype": "text/x-python",
   "name": "python",
   "nbconvert_exporter": "python",
   "pygments_lexer": "ipython3",
   "version": "3.13.5"
  }
 },
 "nbformat": 4,
 "nbformat_minor": 5
}
