{
 "cells": [
  {
   "cell_type": "markdown",
   "id": "b2db1a7d-16c8-4d33-bdb6-9d21ff6031d7",
   "metadata": {},
   "source": [
    "# ***Name: Sameer Bin Ali***\n",
    "# ***Email: Alisameer516854@gmail.com***\n",
    "# ***Jawan Pakistan Data Analytics Course Assignment #2***"
   ]
  },
  {
   "cell_type": "markdown",
   "id": "f314640f-8ccd-4772-949b-c887b2c145c9",
   "metadata": {},
   "source": [
    "### ***Question No.1***"
   ]
  },
  {
   "cell_type": "raw",
   "id": "e1b0b36a-bab8-48ef-93df-dc9628d5d287",
   "metadata": {},
   "source": [
    "Q1. Write a program that takes two numbers (a = 15 , b = 4) and prints their:\n",
    "\n",
    "\n",
    "- Sum\n",
    "\n",
    "- Difference\n",
    "\n",
    "- Product\n",
    "\n",
    "- Division\n",
    "\n",
    "- Floor Division\n",
    "\n",
    "- Modulus"
   ]
  },
  {
   "cell_type": "markdown",
   "id": "06329241-cca5-43cc-ba38-6a7aeb069942",
   "metadata": {},
   "source": [
    "### ***Answer No.1*** \n",
    "\n",
    "\n",
    "\n",
    "\n",
    "\n",
    "\n",
    "\n",
    "\n",
    "\n",
    "\n",
    "\n",
    "\n",
    "\n"
   ]
  },
  {
   "cell_type": "code",
   "execution_count": 1,
   "id": "0f5f1e9b-6eae-4960-9e11-55294e096748",
   "metadata": {},
   "outputs": [
    {
     "name": "stdout",
     "output_type": "stream",
     "text": [
      "19\n",
      "\n",
      "11\n",
      "\n",
      "60\n",
      "\n",
      "3.75\n",
      "\n",
      "3\n",
      "\n",
      "3\n"
     ]
    }
   ],
   "source": [
    "# Numbers or Variables we have:\n",
    "a = 15\n",
    "b = 4\n",
    "\n",
    "\n",
    "# Code\n",
    "\n",
    "print(f\"{a + b}\\n\\n{a - b}\\n\\n{a * b}\\n\\n{a / b}\\n\\n{a // b}\\n\\n{a % b}\")        # Used F-String in the code to get Output vertically in single print"
   ]
  },
  {
   "cell_type": "markdown",
   "id": "9a28b230-6bb7-48b5-bad7-a32e4967a454",
   "metadata": {},
   "source": [
    "### ***Question No.2***"
   ]
  },
  {
   "cell_type": "raw",
   "id": "a75c2d83-3f7c-4def-94fe-3d1dc6f1e751",
   "metadata": {},
   "source": [
    "Q2. Check the type and convert: \n",
    "(num1 = 10, num2 = 5.6, num3 = 4.43, num4='23')\n",
    "\n",
    "- Integer to float\n",
    "\n",
    "- Float to integer\n",
    "\n",
    "- Float to String\n",
    "\n",
    "- String to Integer"
   ]
  },
  {
   "cell_type": "markdown",
   "id": "035bdd2f-11f6-4052-8b29-2b2e5ecb2a58",
   "metadata": {},
   "source": [
    "### ***Answer No.2***"
   ]
  },
  {
   "cell_type": "code",
   "execution_count": 2,
   "id": "9c6dea6b-4b65-45a0-a8b3-e33244207253",
   "metadata": {},
   "outputs": [
    {
     "name": "stdout",
     "output_type": "stream",
     "text": [
      "Integer to Float: 10.0\n",
      "\n",
      "Float to Integer: 5\n",
      "\n",
      "Float to String: 4.43\n",
      "\n",
      "String to Integer: 23\n"
     ]
    }
   ],
   "source": [
    "# Numbers we have\n",
    "\n",
    "num1 = 10     # integer\n",
    "num2 = 5.6    # float\n",
    "num3 = 4.43   # float\n",
    "num4 = \"23\"   # string\n",
    "\n",
    "# Converting the Numbers through code using F-String\n",
    "\n",
    "print(f\"Integer to Float: {float(num1)}\\n\\nFloat to Integer: {int(num2)}\\n\\nFloat to String: {str(num3)}\\n\\nString to Integer: {int(num4)}\")"
   ]
  },
  {
   "cell_type": "markdown",
   "id": "a52fe3ee-b3fd-462b-87a1-77ebde3cfb20",
   "metadata": {},
   "source": [
    "### ***Question No.3***"
   ]
  },
  {
   "cell_type": "raw",
   "id": "9627be75-5562-4e1f-a8a7-724c002e5927",
   "metadata": {},
   "source": [
    "Q3. Write a code to store your favorite food in a variable and print it."
   ]
  },
  {
   "cell_type": "markdown",
   "id": "81a1dfb6-f2f6-4d76-9c81-ee8dc24d08d8",
   "metadata": {},
   "source": [
    "### ***Answer No.3***"
   ]
  },
  {
   "cell_type": "code",
   "execution_count": 3,
   "id": "0ec681d8-406a-4f9a-b04c-cb19e21c8893",
   "metadata": {},
   "outputs": [
    {
     "name": "stdout",
     "output_type": "stream",
     "text": [
      "Biryani\n"
     ]
    }
   ],
   "source": [
    "favorite_food = \"Biryani\"\n",
    "\n",
    "print(favorite_food)"
   ]
  },
  {
   "cell_type": "markdown",
   "id": "3a893707-d653-42a0-8005-85042c8699ae",
   "metadata": {},
   "source": [
    "### ***Question No.4***"
   ]
  },
  {
   "cell_type": "raw",
   "id": "1c0ebf0f-1cfb-4741-a9ee-95bfdd2140ee",
   "metadata": {},
   "source": [
    "Q4. \"I have 22 apples and 33 mangoes. How many fruits do I have in total?\"\n",
    "\n",
    "apple = '22'\n",
    "\n",
    "mangoes = 33"
   ]
  },
  {
   "cell_type": "markdown",
   "id": "ff5e059a-e4f9-422c-a58b-335a38796161",
   "metadata": {},
   "source": [
    "### ***Answer No.4***"
   ]
  },
  {
   "cell_type": "code",
   "execution_count": 4,
   "id": "97521d15-52ad-4ab4-8950-13c2231548e6",
   "metadata": {},
   "outputs": [
    {
     "name": "stdout",
     "output_type": "stream",
     "text": [
      "Total_Fruits: 55\n"
     ]
    }
   ],
   "source": [
    "apple = '22'\n",
    "\n",
    "mangoes = 33\n",
    "\n",
    "print(f\"Total_Fruits: {int(apple) + mangoes}\")     # first convert apple = '22' str into int then add with mangoes = 33"
   ]
  },
  {
   "cell_type": "markdown",
   "id": "bb6c370b-b635-4c36-977d-cef705088bcd",
   "metadata": {},
   "source": [
    "### ***Question No.5***"
   ]
  },
  {
   "cell_type": "raw",
   "id": "bd4bc3f7-a07c-4a70-a320-4bbee91053b5",
   "metadata": {},
   "source": [
    "Q5. Store in a variable: Write Your name , Your age, Add 1 to your age using a variable, Print final age"
   ]
  },
  {
   "cell_type": "markdown",
   "id": "1e597a93-5710-49c6-83c5-3bcf8c3ab7af",
   "metadata": {},
   "source": [
    "### ***Answer No.5***"
   ]
  },
  {
   "cell_type": "code",
   "execution_count": 5,
   "id": "c969c3a5-be42-4aef-b072-dd4c6c3ba166",
   "metadata": {},
   "outputs": [
    {
     "name": "stdout",
     "output_type": "stream",
     "text": [
      "Name:  Sameer Bin Ali\n",
      "\n",
      "Age: 26\n",
      "\n",
      "New Age Adding 1: 27\n"
     ]
    }
   ],
   "source": [
    "Name = \" Sameer Bin Ali\"\n",
    "Age = 26\n",
    "New_Age_Adding_1 = Age + 1\n",
    "\n",
    "print(f\"Name: {Name}\\n\\nAge: {Age}\\n\\nNew Age Adding 1: {New_Age_Adding_1}\")"
   ]
  },
  {
   "cell_type": "markdown",
   "id": "ab80b403-28d9-4ac1-a2fc-c308afa84eef",
   "metadata": {},
   "source": [
    "### ***Question No.6***"
   ]
  },
  {
   "cell_type": "raw",
   "id": "55c8c886-bdec-4e5e-85bd-bc756d90db6c",
   "metadata": {},
   "source": [
    "Q6.\n",
    "\n",
    "a = 2\n",
    "\n",
    "b = 1\n",
    "\n",
    "c = 6\n",
    "\n",
    "d = 3\n",
    "\n",
    "- Add a and b\n",
    "\n",
    "- Subtract c and a\n",
    "\n",
    "- Multiply d and b\n",
    "\n",
    "- Divide c and d (float division)\n",
    "\n",
    "- Find modulus of c divided by d\n",
    "\n",
    "- Square of (d+a)"
   ]
  },
  {
   "cell_type": "markdown",
   "id": "b8c4acc0-1643-487d-83ec-eedc9d722040",
   "metadata": {},
   "source": [
    "### ***Answer No.6***"
   ]
  },
  {
   "cell_type": "code",
   "execution_count": 6,
   "id": "f3c42f35-9a2f-46d6-902f-f8288d19a9c0",
   "metadata": {},
   "outputs": [
    {
     "name": "stdout",
     "output_type": "stream",
     "text": [
      "Addition of a and b: 3\n",
      "\n",
      "Subtraction of c and a: 4\n",
      "\n",
      "Multiplication of d and b: 3\n",
      "\n",
      "Division of c and d: 2.0\n",
      "\n",
      "Modulus of c divided by d: 0\n",
      "\n",
      "Square of (d+a): 25\n"
     ]
    }
   ],
   "source": [
    "# Given Numbers or Variables are:\n",
    "\n",
    "a = 2\n",
    "b = 1\n",
    "c = 6\n",
    "d = 3\n",
    "\n",
    "# Code\n",
    "\n",
    "print(f\"Addition of a and b: {a+b}\\n\\nSubtraction of c and a: {c-a}\\n\\nMultiplication of d and b: {d*b}\\n\\nDivision of c and d: {c/d}\\n\\nModulus of c divided by d: {c%d}\\n\\nSquare of (d+a): {(d+a)**2}\")"
   ]
  },
  {
   "cell_type": "markdown",
   "id": "f8877d44-2737-44ca-8ef3-1b84eaaf7356",
   "metadata": {},
   "source": [
    "### ***Question No.7***"
   ]
  },
  {
   "cell_type": "raw",
   "id": "44dcd48c-d709-4ee3-979b-e5fc3fd78dc0",
   "metadata": {},
   "source": [
    "Q7.\n",
    "\n",
    "a = '2'\n",
    "\n",
    "b = '11'\n",
    "\n",
    "c = 6.3\n",
    "\n",
    "Convert a to integer then add to c\n",
    "\n",
    "Convert b to float then multiply by c\n",
    "\n",
    "Convert c to integer then add to c"
   ]
  },
  {
   "cell_type": "markdown",
   "id": "aab39025-b30a-4e02-adeb-e859d061b801",
   "metadata": {},
   "source": [
    "### ***Answer No.7***"
   ]
  },
  {
   "cell_type": "code",
   "execution_count": 7,
   "id": "9a2ee5b1-bf20-4756-9504-17210a0abd3b",
   "metadata": {},
   "outputs": [
    {
     "name": "stdout",
     "output_type": "stream",
     "text": [
      "Conversion of a to int then adding c: 8.3\n",
      "\n",
      "Conversion of b to float then multiplying by c: 69.3\n",
      "\n",
      "Conversion of c to int and adding c: 12.3\n"
     ]
    }
   ],
   "source": [
    "# Given Number or Variables are:\n",
    "\n",
    "a = '2'\n",
    "b = '11'\n",
    "c = 6.3\n",
    "\n",
    "# Code\n",
    "\n",
    "print(f\"Conversion of a to int then adding c: {int(a)+c}\\n\\nConversion of b to float then multiplying by c: {float(b)*c}\\n\\nConversion of c to int and adding c: {int(c)+c}\")"
   ]
  },
  {
   "cell_type": "markdown",
   "id": "e73c39c9-d2ef-4c3a-af5a-a9aceaa500d0",
   "metadata": {},
   "source": [
    "### ***Question No.8***"
   ]
  },
  {
   "cell_type": "raw",
   "id": "00d91ceb-17cb-40bc-b15b-a53db3c0a108",
   "metadata": {},
   "source": [
    "Q8.\n",
    "\n",
    "You were 20 years old in the year 2020. Now add 5 more years to your age. What is your current age now?\n",
    "\n",
    "Store age in a variable called age. Print final output in same variable"
   ]
  },
  {
   "cell_type": "markdown",
   "id": "0539259f-d801-448a-b49d-a1ee04dfd7e8",
   "metadata": {},
   "source": [
    "### ***Answer No.8***"
   ]
  },
  {
   "cell_type": "code",
   "execution_count": 8,
   "id": "38050192-fc0f-448a-a423-bf16afd6c79d",
   "metadata": {},
   "outputs": [
    {
     "name": "stdout",
     "output_type": "stream",
     "text": [
      "Age: 25\n"
     ]
    }
   ],
   "source": [
    "Age = 20                             #Age in 2020\n",
    "print(F\"Age: {Age + 5}\")             #Age after adding 5 years\n"
   ]
  },
  {
   "cell_type": "markdown",
   "id": "76b43e66-90cb-4af2-ab5c-eab41d277955",
   "metadata": {},
   "source": [
    "### ***Question No.9***"
   ]
  },
  {
   "cell_type": "raw",
   "id": "983543ca-d028-45d7-9596-fbe461b3c7af",
   "metadata": {},
   "source": [
    "Q9.\n",
    "\n",
    "You had 12 books, and you gave 4 to your friend. How many books do you have now?\n",
    "\n",
    "Store books in a variable called books. Print final output in same variable"
   ]
  },
  {
   "cell_type": "markdown",
   "id": "e4af9ba0-b20a-443a-a586-9d821c3c4146",
   "metadata": {},
   "source": [
    "### ***Answer No.9***"
   ]
  },
  {
   "cell_type": "code",
   "execution_count": 9,
   "id": "a3699c58-8d2e-4462-8eb2-10e62e959174",
   "metadata": {},
   "outputs": [
    {
     "name": "stdout",
     "output_type": "stream",
     "text": [
      "books: 8\n"
     ]
    }
   ],
   "source": [
    "books = 12                          #Total books i have\n",
    "print(f\"books: {books-4}\")          #Remaining books after giving 4 to my friend"
   ]
  },
  {
   "cell_type": "markdown",
   "id": "e6e158a0-243c-4bbf-a709-e6da26611932",
   "metadata": {},
   "source": [
    "### ***Question No.10***"
   ]
  },
  {
   "cell_type": "raw",
   "id": "56b065c5-b918-4843-90d1-866085a6826b",
   "metadata": {},
   "source": [
    "Q10.\n",
    "\n",
    "You baked 5 cookies. You baked 3 times more cookies today. How many cookies did you bake today?\n",
    "\n",
    "Store cookies in a variable called cookies. Print final output in same variable"
   ]
  },
  {
   "cell_type": "markdown",
   "id": "1238cae3-bff0-4cba-ad6a-910575c4f572",
   "metadata": {},
   "source": [
    "### ***Answer No.10***"
   ]
  },
  {
   "cell_type": "code",
   "execution_count": 10,
   "id": "d6c05381-4e58-464c-812f-fae9a10b39b3",
   "metadata": {},
   "outputs": [
    {
     "name": "stdout",
     "output_type": "stream",
     "text": [
      "cookies: 15\n"
     ]
    }
   ],
   "source": [
    "cookies = 5                           #cookies i baked\n",
    "print(f\"cookies: {cookies*3}\")        #3 times more cookies baked"
   ]
  }
 ],
 "metadata": {
  "kernelspec": {
   "display_name": "Python [conda env:base] *",
   "language": "python",
   "name": "conda-base-py"
  },
  "language_info": {
   "codemirror_mode": {
    "name": "ipython",
    "version": 3
   },
   "file_extension": ".py",
   "mimetype": "text/x-python",
   "name": "python",
   "nbconvert_exporter": "python",
   "pygments_lexer": "ipython3",
   "version": "3.13.5"
  }
 },
 "nbformat": 4,
 "nbformat_minor": 5
}
