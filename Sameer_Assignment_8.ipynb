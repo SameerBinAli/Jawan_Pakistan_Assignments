{
 "cells": [
  {
   "cell_type": "markdown",
   "id": "5f5de0b7-0278-4c4b-990c-548e063e18fe",
   "metadata": {},
   "source": [
    "## ***Question No.1***"
   ]
  },
  {
   "cell_type": "markdown",
   "id": "48b75ba1-1e23-4c43-a753-5aa3aa3780b4",
   "metadata": {},
   "source": [
    "Q1. Write a Python function called add_numbers that takes two numbers as arguments and returns their sum. Then, test the function by calling it with two numbers of your choice.\n"
   ]
  },
  {
   "cell_type": "markdown",
   "id": "38f2c9a2-a5e2-46af-b2d2-93bab7032a44",
   "metadata": {},
   "source": [
    "## ***Answer No.1***"
   ]
  },
  {
   "cell_type": "code",
   "execution_count": 1,
   "id": "b7d96510-1af6-4643-91fd-d6c032a82fd9",
   "metadata": {},
   "outputs": [
    {
     "data": {
      "text/plain": [
       "11"
      ]
     },
     "execution_count": 1,
     "metadata": {},
     "output_type": "execute_result"
    }
   ],
   "source": [
    "def add_numbers(c, d):\n",
    "    return c + d\n",
    "    \n",
    "add_numbers(4, 7)"
   ]
  },
  {
   "cell_type": "markdown",
   "id": "d9a0328a-ef28-45fa-a607-91b7fa501b0a",
   "metadata": {},
   "source": [
    "## ***Question No.2***"
   ]
  },
  {
   "cell_type": "markdown",
   "id": "c8a1f950-c8eb-4c30-81f2-660b2f5b389e",
   "metadata": {},
   "source": [
    "Q2. Write a Python function count_vowels that accepts a string and returns the number of vowels a, e, i, o, u, A, E, I, O, U in that string.\n",
    "\n",
    "- Example: 'Welcome'\n",
    "- Output: 3 vowels"
   ]
  },
  {
   "cell_type": "markdown",
   "id": "04091ece-7210-499f-83cd-ff137f177b5b",
   "metadata": {},
   "source": [
    "## ***Answer No.2***"
   ]
  },
  {
   "cell_type": "code",
   "execution_count": 2,
   "id": "42672016-b5b5-4968-a505-0f169926f165",
   "metadata": {},
   "outputs": [
    {
     "name": "stdout",
     "output_type": "stream",
     "text": [
      "3 vowels\n"
     ]
    }
   ],
   "source": [
    "def count_vowels(text_string):\n",
    "   \n",
    "    \"\"\" counting vowels a,e,i,o,u using a string called text_string \"\"\"\n",
    "    \n",
    "    vowels = \"aeiouAEIOU\"\n",
    "    \n",
    "    count = sum(1 for character in text_string if character in vowels)\n",
    "    \n",
    "    return f'{count} vowels'\n",
    "\n",
    "print(count_vowels('welcome'))"
   ]
  },
  {
   "cell_type": "markdown",
   "id": "f8fd8b5c-79a2-4863-a3f7-5f574bad3faf",
   "metadata": {},
   "source": [
    "## ***Question No.3***"
   ]
  },
  {
   "cell_type": "markdown",
   "id": "4647730b-131c-4bc6-a67a-11edcb6fefd4",
   "metadata": {},
   "source": [
    "Q3. Create a Python function called currency_converter() that takes two arguments:\n",
    "\n",
    "- amount: The amount of money to be converted (in USD).\n",
    "- exchange_rate (default is 280): The conversion rate from USD to another currency (e.g., PKR). You can assume the default rate is 1 USD = 280 PKR.\n",
    "- \n",
    "The function should return a message showing how much the given amount is worth in the target currency (PKR).\n",
    "\n",
    "Expected Output:\n",
    "\n",
    "'100 USD is equivalent to 28000 PKR'"
   ]
  },
  {
   "cell_type": "markdown",
   "id": "432a5b06-b70e-4420-a7d6-9a3d7e900d9c",
   "metadata": {},
   "source": [
    "## ***Answer No.3***"
   ]
  },
  {
   "cell_type": "code",
   "execution_count": 3,
   "id": "92fd791f-f2a7-44a9-b294-7eb1adb54755",
   "metadata": {},
   "outputs": [
    {
     "name": "stdout",
     "output_type": "stream",
     "text": [
      "100 USD is equivalent to 28000 PKR\n"
     ]
    }
   ],
   "source": [
    "def currency_converter(amount, exchange_rate = 280):\n",
    "    \n",
    "    \"\"\"\n",
    "    This function converts USD to other currency (like PKR in our case) by the given exchange rate.\n",
    "\n",
    "    Parameters are: \n",
    "    amount (float): the amount given in USD.\n",
    "    exchange_rate (float): default as 280. \n",
    "\n",
    "    Returns a string which shows the converted USD amount.  \n",
    "    \"\"\"\n",
    "\n",
    "    converted_amount = amount * exchange_rate\n",
    "    return f'{amount} USD is equivalent to {converted_amount} PKR'\n",
    "\n",
    "print(currency_converter(100))\n",
    "    "
   ]
  },
  {
   "cell_type": "markdown",
   "id": "3374154a-c003-40ec-bb9a-3562d32d2ec6",
   "metadata": {},
   "source": [
    "## ***Question No.4***"
   ]
  },
  {
   "cell_type": "markdown",
   "id": "85befaef-dfe0-4189-b0c4-3750ec6f232f",
   "metadata": {},
   "source": [
    "Q4. Write a Python function display_student_info that accepts the following details about a student:\n",
    "\n",
    "- name (Keyword argument): The name of the student.\n",
    "- age (Keyword argument): The age of the student.\n",
    "- grade (Keyword argument): The grade the student is in.\n",
    "- school (Keyword argument): The name of the school the student attends.\n",
    "\n",
    "Expected Output:\n",
    "\n",
    "- Name: John Doe\n",
    "- Age: 15\n",
    "- Grade: 10th\n",
    "- School: Greenwood High"
   ]
  },
  {
   "cell_type": "markdown",
   "id": "9cba6bc0-dabb-4789-970c-291ae4f9793b",
   "metadata": {},
   "source": [
    "## ***Answer No.4***"
   ]
  },
  {
   "cell_type": "code",
   "execution_count": 4,
   "id": "7f7bd19e-99bf-4095-a97e-6343a972e282",
   "metadata": {},
   "outputs": [
    {
     "name": "stdout",
     "output_type": "stream",
     "text": [
      "Name: John Doe\n",
      "Age: 15\n",
      "Grade: 10th\n",
      "School: Greenwood High\n"
     ]
    }
   ],
   "source": [
    "def display_student_info(name, age, grade, school):\n",
    "    print('Name:', name)\n",
    "    print('Age:', age)\n",
    "    print('Grade:', grade)\n",
    "    print('School:', school)\n",
    "\n",
    "display_student_info(name = \"John Doe\", age = 15, grade = '10th', school = 'Greenwood High')"
   ]
  },
  {
   "cell_type": "markdown",
   "id": "5a50227e-8118-4271-9409-168758d1c550",
   "metadata": {},
   "source": [
    "## ***Question No.5***"
   ]
  },
  {
   "cell_type": "markdown",
   "id": "50b08ead-5239-4c86-bc18-f84c9fde3368",
   "metadata": {},
   "source": [
    "Q5. Write a Python function calculate_price that accepts two positional arguments:\n",
    "\n",
    "- price: The price of a single item.\n",
    "- quantity: The number of items bought.\n",
    "- The function should return the total price by multiplying price and quantity.\n"
   ]
  },
  {
   "cell_type": "markdown",
   "id": "af74e611-887d-4f11-be5d-3d973b4901e2",
   "metadata": {},
   "source": [
    "## ***Answer No.5***"
   ]
  },
  {
   "cell_type": "code",
   "execution_count": 5,
   "id": "72d39a35-f3af-4b3a-a2ba-aa409457b0f7",
   "metadata": {},
   "outputs": [
    {
     "name": "stdout",
     "output_type": "stream",
     "text": [
      "1800\n"
     ]
    }
   ],
   "source": [
    "def calculate_price(price, quantity):\n",
    "    total_price = price * quantity\n",
    "    return total_price\n",
    "\n",
    "print(calculate_price(150, 12))"
   ]
  },
  {
   "cell_type": "markdown",
   "id": "98e53205-cddf-4902-867e-21f204d64ae4",
   "metadata": {},
   "source": [
    "## ***Question No.6***"
   ]
  },
  {
   "cell_type": "markdown",
   "id": "4fe703c0-9a7c-4cec-81ff-45253b9c9ab0",
   "metadata": {},
   "source": [
    "Q6. Write a Python function display_prices that takes a product name and an arbitrary number of keyword arguments representing product prices. The function should display each product and its price.\n",
    "\n",
    "Expected Output:\n",
    "\n",
    "Product: Laptop\n",
    "\n",
    "Amazon: $800\n",
    "\n",
    "eBay: $750\n",
    "\n",
    "Walmart: $780"
   ]
  },
  {
   "cell_type": "markdown",
   "id": "148aa298-a18b-4f8c-900f-b780eee943d8",
   "metadata": {},
   "source": [
    "## ***Answer No.6***"
   ]
  },
  {
   "cell_type": "code",
   "execution_count": 6,
   "id": "eccf03cf-f557-4cb4-8758-4a3015ae2e58",
   "metadata": {},
   "outputs": [
    {
     "name": "stdout",
     "output_type": "stream",
     "text": [
      "Product: Laptop\n",
      "\n",
      "Amazon: $800\n",
      "\n",
      "eBay: $750\n",
      "\n",
      "Walmart: $780\n"
     ]
    }
   ],
   "source": [
    "def display_prices(product_name, **prices):\n",
    "    \n",
    "    print(f'Product: {product_name}')\n",
    "    \n",
    "    for product, price in prices.items():\n",
    "    \n",
    "        print(f'\\n{product}: ${price}')\n",
    "\n",
    "display_prices('Laptop', Amazon = 800, eBay = 750, Walmart = 780)"
   ]
  },
  {
   "cell_type": "markdown",
   "id": "155aa9f1-cffb-4627-b873-de46a32c83f6",
   "metadata": {},
   "source": [
    "## ***Question No.7***"
   ]
  },
  {
   "cell_type": "markdown",
   "id": "b771311f-df8f-4ff0-bdf4-8aeb4f68bbcf",
   "metadata": {},
   "source": [
    "Q7. Write a Python function find_max that takes arbitrary number of positional arguments and returns the maximum number."
   ]
  },
  {
   "cell_type": "markdown",
   "id": "20ffe13d-4ccb-416f-8046-6eacd9f29749",
   "metadata": {},
   "source": [
    "## ***Answer No.7***"
   ]
  },
  {
   "cell_type": "code",
   "execution_count": 7,
   "id": "905b27c8-6bcb-4412-b814-8d06d9fe9d99",
   "metadata": {},
   "outputs": [
    {
     "data": {
      "text/plain": [
       "84"
      ]
     },
     "execution_count": 7,
     "metadata": {},
     "output_type": "execute_result"
    }
   ],
   "source": [
    "def find_max(*numbers):\n",
    "\n",
    "    if not numbers:\n",
    "        return None\n",
    "    \n",
    "    return max(numbers)\n",
    "\n",
    "find_max(12,44,15,84)"
   ]
  },
  {
   "cell_type": "markdown",
   "id": "4ea5ab31-57f7-470b-84e6-507b911089d5",
   "metadata": {},
   "source": [
    "## ***Question No.8***"
   ]
  },
  {
   "cell_type": "markdown",
   "id": "e5a4eb77-4c92-4771-b28f-2d3e5552e094",
   "metadata": {},
   "source": [
    "Q8. \n",
    "\n",
    "Write a Python function calculate_rectangle that accepts the length and width of a rectangle as arguments. Inside this function, create two nested functions:\n",
    "\n",
    "- calculate_area: This function should calculate the area of the rectangle.\n",
    "- calculate_perimeter: This function should calculate the perimeter of the rectangle.\n",
    "- The main function should return both the area and the perimeter of the rectangle.\n",
    "\n",
    "Expected Output:\n",
    "\n",
    "Area: 15\n",
    "\n",
    "Perimeter: 16\n"
   ]
  },
  {
   "cell_type": "markdown",
   "id": "52b47b62-e95e-4f7b-940c-949e50a7ca33",
   "metadata": {},
   "source": [
    "## ***Answer No.8***"
   ]
  },
  {
   "cell_type": "code",
   "execution_count": 8,
   "id": "70637611-2f27-4514-bc58-f97481ca879f",
   "metadata": {},
   "outputs": [
    {
     "name": "stdout",
     "output_type": "stream",
     "text": [
      "Area: 15\n",
      "\n",
      "Perimeter: 16\n"
     ]
    }
   ],
   "source": [
    "def calculate_rectangle(length, width):\n",
    "    \n",
    "    def calculate_area():\n",
    "        return length * width\n",
    "    \n",
    "    def calculate_perimeter():\n",
    "        return (length + width) * 2\n",
    "\n",
    "    print('Area:' ,calculate_area())\n",
    "    print('\\nPerimeter:', calculate_perimeter())\n",
    "\n",
    "calculate_rectangle(5, 3)"
   ]
  },
  {
   "cell_type": "markdown",
   "id": "ca7d589c-ab30-4425-be1a-115cd8815115",
   "metadata": {},
   "source": [
    "## ***Question No.9***"
   ]
  },
  {
   "cell_type": "markdown",
   "id": "48ebf2d5-cad0-48d5-b210-611cb40a5337",
   "metadata": {},
   "source": [
    "Q9. Write a Python function taxi_fare(distance, rate=100) that calculates the taxi fare.\n",
    "The default rate is 100 PKR per km, but the user can also enter a custom rate.\n",
    "\n",
    "FORMULA: distance * rate\n",
    "\n",
    "Expected Output:\n",
    "\n",
    "- Taxi fare for 10 km = 1000 PKR (using default parameter)\n",
    "- Taxi fare for 15 km = 1800 PKR (custom rate)"
   ]
  },
  {
   "cell_type": "markdown",
   "id": "83d7b65f-af5d-4f90-84b8-ceb605f342d5",
   "metadata": {},
   "source": [
    "## ***Answer No.9***"
   ]
  },
  {
   "cell_type": "code",
   "execution_count": 9,
   "id": "36baa33b-5f94-4224-9149-5c39a6119f72",
   "metadata": {},
   "outputs": [
    {
     "name": "stdout",
     "output_type": "stream",
     "text": [
      "Taxi fare for 10 km = 1000 PKR\n",
      "Taxi fare for 15 km = 1800 PKR\n"
     ]
    }
   ],
   "source": [
    "def taxi_fare(distance, rate = 100):\n",
    "    \n",
    "    fare = distance * rate\n",
    "    \n",
    "    print(f'Taxi fare for {distance} km = {fare} PKR')\n",
    "\n",
    "\n",
    "taxi_fare(10)\n",
    "\n",
    "taxi_fare(15, 120)"
   ]
  },
  {
   "cell_type": "markdown",
   "id": "f9bbbe8d-f15c-4b29-925f-8c7fb0589637",
   "metadata": {},
   "source": [
    "## ***Question No.10***"
   ]
  },
  {
   "cell_type": "markdown",
   "id": "500ac0aa-8d03-46be-a84e-96ddd21611ea",
   "metadata": {},
   "source": [
    "Q10.\n",
    "\n",
    "Write a Python function shopping_bill(price, quantity, discount=0) that uses nested functions:\n",
    "\n",
    "- An inner function calculate_total() → multiplies price * quantity.\n",
    "- An inner function apply_discount(total) → subtracts discount from total (but never below 0).\n",
    "\n",
    "The outer function should return the final bill amount.\n",
    "\n",
    "Expected Output:\n",
    "\n",
    "- Final Bill = 600 PKR (no discount)\n",
    "- Final Bill = 500 PKR (with discount)"
   ]
  },
  {
   "cell_type": "markdown",
   "id": "793bfbf4-03f9-444e-8e92-718335eb075c",
   "metadata": {},
   "source": [
    "## ***Answer No.10***"
   ]
  },
  {
   "cell_type": "code",
   "execution_count": 10,
   "id": "cf5e84b8-7df4-4286-be19-ac9da5b45e36",
   "metadata": {},
   "outputs": [
    {
     "name": "stdout",
     "output_type": "stream",
     "text": [
      "Final Bill = 600 PKR\n",
      "Final Bill = 500 PKR\n"
     ]
    }
   ],
   "source": [
    "def shopping_bill(price, quantity, discount=0):\n",
    "    \n",
    "    def calculate_total():\n",
    "        return price * quantity\n",
    "    \n",
    "    def apply_discount(total):\n",
    "        discounted = total - discount\n",
    "        return max(discounted, 0)\n",
    "\n",
    "    total_amount = calculate_total()\n",
    "    final_bill = apply_discount(total_amount)\n",
    "\n",
    "    print(f'Final Bill = {final_bill} PKR')\n",
    "\n",
    "shopping_bill(60, 10)\n",
    "shopping_bill(60, 10, 100)"
   ]
  },
  {
   "cell_type": "code",
   "execution_count": 11,
   "id": "c4c31834-c1f2-40bc-8032-9a151cc3131c",
   "metadata": {},
   "outputs": [
    {
     "name": "stdout",
     "output_type": "stream",
     "text": [
      "Final Bill = 1050 PKR\n",
      "Final Bill = 750 PKR\n"
     ]
    }
   ],
   "source": [
    "#Alternative approach:\n",
    "\n",
    "def shopping_billl(pricee, quantityy, discountt=0):\n",
    "    \n",
    "    def calculate_totall():\n",
    "        return pricee * quantityy\n",
    "    \n",
    "    def apply_discountt():\n",
    "        return max(calculate_totall() - discountt, 0)\n",
    "    \n",
    "    final_amount = apply_discountt()\n",
    "\n",
    "    print(f'Final Bill = {final_amount} PKR')\n",
    "\n",
    "shopping_billl(70, 15)\n",
    "shopping_billl(70, 15, 300)"
   ]
  }
 ],
 "metadata": {
  "kernelspec": {
   "display_name": "Python [conda env:base] *",
   "language": "python",
   "name": "conda-base-py"
  },
  "language_info": {
   "codemirror_mode": {
    "name": "ipython",
    "version": 3
   },
   "file_extension": ".py",
   "mimetype": "text/x-python",
   "name": "python",
   "nbconvert_exporter": "python",
   "pygments_lexer": "ipython3",
   "version": "3.13.5"
  }
 },
 "nbformat": 4,
 "nbformat_minor": 5
}
