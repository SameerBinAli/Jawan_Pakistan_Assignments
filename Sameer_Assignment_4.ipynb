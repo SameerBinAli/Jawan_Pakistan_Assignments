{
 "cells": [
  {
   "cell_type": "markdown",
   "id": "7a48ad70-3f22-4d47-ae4f-8b40dfed5263",
   "metadata": {},
   "source": [
    "## ***Question No.1***"
   ]
  },
  {
   "cell_type": "markdown",
   "id": "d375055e-f420-41df-a9c1-483bce6e7d0f",
   "metadata": {},
   "source": [
    "1-\n",
    "\n",
    "text = 'hello python world'\n",
    "\n",
    "Replace spaces with underscores in the string (e.g., \"hello python world\" → \"hello_python_world\").\n",
    "\n",
    "Split the modified string (e.g., \"hello_python_world\" → ['hello', 'python', 'world']).\n",
    "\n",
    "Print all two results\n",
    "\n",
    "Hint: Use string methods"
   ]
  },
  {
   "cell_type": "markdown",
   "id": "ec0fd6fb-99ae-4a73-ae1c-d0f84737f5b2",
   "metadata": {},
   "source": [
    "## ***Answer No.1***"
   ]
  },
  {
   "cell_type": "code",
   "execution_count": 1,
   "id": "32919d8e-e06a-49a3-97ee-14f2588b1dfc",
   "metadata": {},
   "outputs": [],
   "source": [
    "text = \"hello python world\""
   ]
  },
  {
   "cell_type": "code",
   "execution_count": 2,
   "id": "8c93452c-2287-4ee7-807e-abfe4ed25319",
   "metadata": {},
   "outputs": [],
   "source": [
    "underscore_text = text.replace(' ','_')          #Replaced spaces with underscore by Replace method"
   ]
  },
  {
   "cell_type": "code",
   "execution_count": 3,
   "id": "8d5fa021-1713-404c-9d57-2d1d37e7c818",
   "metadata": {},
   "outputs": [
    {
     "name": "stdout",
     "output_type": "stream",
     "text": [
      "hello_python_world\n"
     ]
    }
   ],
   "source": [
    "print(underscore_text)"
   ]
  },
  {
   "cell_type": "code",
   "execution_count": 4,
   "id": "be1d54c2-3652-4ab6-9221-73da0db63204",
   "metadata": {},
   "outputs": [],
   "source": [
    "split_text = underscore_text.split(\"_\")          #Splitting the underscore text by Split method"
   ]
  },
  {
   "cell_type": "code",
   "execution_count": 5,
   "id": "faf87305-a235-4ba9-9842-fd46f71e1242",
   "metadata": {},
   "outputs": [
    {
     "name": "stdout",
     "output_type": "stream",
     "text": [
      "['hello', 'python', 'world']\n"
     ]
    }
   ],
   "source": [
    "print(split_text)"
   ]
  },
  {
   "cell_type": "markdown",
   "id": "dd68cc0e-6906-48b3-8394-daba3d239492",
   "metadata": {},
   "source": [
    "## ***Question No.2***"
   ]
  },
  {
   "cell_type": "markdown",
   "id": "2324abc9-5d35-42ca-a5c1-7e6796be73be",
   "metadata": {},
   "source": [
    "2- You have a product code that follows the format \"SKU-12345-XYZ\".\n",
    "\n",
    "Find the first position of the dash (-).\n",
    "\n",
    "Count the number of dashes (-) in the product code.\n",
    "\n",
    "Remove the \"SKU-\" prefix and \"-XYZ\" suffix from the product code, Extract the numeric part 12345\n",
    "\n",
    "product_code = \"SKU-12345-XYZ\"\n",
    "\n",
    "Hint: Use String Methods"
   ]
  },
  {
   "cell_type": "markdown",
   "id": "fa2334fa-eb65-4228-b3ec-cb9a8f747d6c",
   "metadata": {},
   "source": [
    "## ***Answer No.2***"
   ]
  },
  {
   "cell_type": "code",
   "execution_count": 6,
   "id": "093718e2-ca43-4ac1-9db2-0c1a30637af9",
   "metadata": {},
   "outputs": [],
   "source": [
    "product_code = \"SKU-12345-XYZ\""
   ]
  },
  {
   "cell_type": "code",
   "execution_count": 7,
   "id": "c54d5997-cbbe-4885-9152-1c08ed4cfd6f",
   "metadata": {},
   "outputs": [],
   "source": [
    "first_position_of_dash = product_code.find(\"-\")          #Finding first position of dash using find method"
   ]
  },
  {
   "cell_type": "code",
   "execution_count": 8,
   "id": "9be898a0-492d-4dd4-b836-59aadaf4a1fe",
   "metadata": {},
   "outputs": [
    {
     "name": "stdout",
     "output_type": "stream",
     "text": [
      "3\n"
     ]
    }
   ],
   "source": [
    "print(first_position_of_dash)"
   ]
  },
  {
   "cell_type": "code",
   "execution_count": 9,
   "id": "65139049-4b4a-40e5-b4ca-1ef3ce897ddd",
   "metadata": {},
   "outputs": [],
   "source": [
    "number_of_dashes = product_code.count(\"-\")               #Counting number of dashes using count method."
   ]
  },
  {
   "cell_type": "code",
   "execution_count": 10,
   "id": "4e226453-f2bc-4700-9d4e-c1c1d03bac71",
   "metadata": {},
   "outputs": [
    {
     "name": "stdout",
     "output_type": "stream",
     "text": [
      "2\n"
     ]
    }
   ],
   "source": [
    "print(number_of_dashes)"
   ]
  },
  {
   "cell_type": "code",
   "execution_count": 11,
   "id": "2ede459f-45b3-4920-a508-b39d4467d54d",
   "metadata": {},
   "outputs": [],
   "source": [
    "numeric_part = product_code.split(\"-\")[1]                #Extracting only the numeric part"
   ]
  },
  {
   "cell_type": "code",
   "execution_count": 12,
   "id": "a15a0bf5-3fbe-4e04-b399-3fecc4b1852b",
   "metadata": {},
   "outputs": [
    {
     "name": "stdout",
     "output_type": "stream",
     "text": [
      "12345\n"
     ]
    }
   ],
   "source": [
    "print(numeric_part)"
   ]
  },
  {
   "cell_type": "markdown",
   "id": "b43feabd-fdb2-45a1-b4f7-6cd294b943d7",
   "metadata": {},
   "source": [
    "## ***Question No.3***"
   ]
  },
  {
   "cell_type": "markdown",
   "id": "68f7db43-262d-4e41-807b-923604f8c80c",
   "metadata": {},
   "source": [
    "3- Convert a string to Title Case.\n",
    "\n",
    "text_1 = \"hello world\"\n"
   ]
  },
  {
   "cell_type": "markdown",
   "id": "3a80aefa-c830-4de8-b9f3-d7bb3b3415d1",
   "metadata": {},
   "source": [
    "## ***Answer No.3***"
   ]
  },
  {
   "cell_type": "code",
   "execution_count": 13,
   "id": "f1ae70a3-26fd-4ddd-88b7-712d899c73bc",
   "metadata": {},
   "outputs": [],
   "source": [
    "text_1 = \"hello world\""
   ]
  },
  {
   "cell_type": "code",
   "execution_count": 14,
   "id": "da28fda8-eda4-41df-b8e1-0906cb2ba522",
   "metadata": {},
   "outputs": [],
   "source": [
    "title_case = text_1.title()"
   ]
  },
  {
   "cell_type": "code",
   "execution_count": 15,
   "id": "0d0fc332-bb51-4323-bf45-4e9abd8e9f2d",
   "metadata": {},
   "outputs": [
    {
     "name": "stdout",
     "output_type": "stream",
     "text": [
      "Hello World\n"
     ]
    }
   ],
   "source": [
    "print(title_case)"
   ]
  },
  {
   "cell_type": "markdown",
   "id": "291fe626-8cf8-4b4b-8d3a-01ce32938134",
   "metadata": {},
   "source": [
    "## ***Question No.4***"
   ]
  },
  {
   "cell_type": "markdown",
   "id": "0e48a1fe-2af7-40cd-8b07-86849d3bf0bf",
   "metadata": {},
   "source": [
    "4- Capitalize the first letter of a string.\n",
    "\n",
    "text_2 = \"python programming\""
   ]
  },
  {
   "cell_type": "markdown",
   "id": "c998e9fa-0aef-4c22-8c25-dac0c12808d6",
   "metadata": {},
   "source": [
    "## ***Answer No.4***"
   ]
  },
  {
   "cell_type": "code",
   "execution_count": 16,
   "id": "8cfe284e-add1-4f84-883a-285e4b20a2f4",
   "metadata": {},
   "outputs": [],
   "source": [
    "text_2 = \"python programming\""
   ]
  },
  {
   "cell_type": "code",
   "execution_count": 17,
   "id": "ca91ec3a-8b7b-4fa2-8861-67698898f86c",
   "metadata": {},
   "outputs": [],
   "source": [
    "capitalized_first_letter = text_2.capitalize()           #Capitalizing the first letter"
   ]
  },
  {
   "cell_type": "code",
   "execution_count": 18,
   "id": "e38014fc-3546-43b1-ac89-98913b959d74",
   "metadata": {},
   "outputs": [
    {
     "name": "stdout",
     "output_type": "stream",
     "text": [
      "Python programming\n"
     ]
    }
   ],
   "source": [
    "print(capitalized_first_letter)"
   ]
  },
  {
   "cell_type": "markdown",
   "id": "416e886d-1a51-46e0-9d87-a1456ff14362",
   "metadata": {},
   "source": [
    "## ***Question No.5***"
   ]
  },
  {
   "cell_type": "markdown",
   "id": "d86fa805-2b3d-4659-b0fb-a93098a30509",
   "metadata": {},
   "source": [
    "5- Given the string below, write Python code to:\n",
    "\n",
    "Convert the string so that each word starts with a capital letter\n",
    "\n",
    "Then swap the case of every letter in the resulting string\n",
    "\n",
    "Print the final result.\n",
    "\n",
    "text1 = \"learning PYTHON is AWESOME\""
   ]
  },
  {
   "cell_type": "markdown",
   "id": "4926ab5f-8806-4687-8678-85fb64bde675",
   "metadata": {},
   "source": [
    "## ***Answer No.5***"
   ]
  },
  {
   "cell_type": "code",
   "execution_count": 19,
   "id": "09c45b18-b482-4485-981d-5c6e90f19ffd",
   "metadata": {},
   "outputs": [],
   "source": [
    "text1 = \"learning PYTHON is AWESOME\""
   ]
  },
  {
   "cell_type": "code",
   "execution_count": 20,
   "id": "973665c4-3116-4f71-a323-902f2fc0f74f",
   "metadata": {},
   "outputs": [],
   "source": [
    "capital_first_letter = text1.title()               #Using title method to convert every word's first letter capital"
   ]
  },
  {
   "cell_type": "code",
   "execution_count": 21,
   "id": "f9ce3f57-e954-4b99-8fa6-9122bf55d27e",
   "metadata": {},
   "outputs": [
    {
     "name": "stdout",
     "output_type": "stream",
     "text": [
      "Learning Python Is Awesome\n"
     ]
    }
   ],
   "source": [
    "print(capital_first_letter)"
   ]
  },
  {
   "cell_type": "code",
   "execution_count": 22,
   "id": "e0ce0c40-9cd8-4ea9-b39a-b4063efc28d4",
   "metadata": {},
   "outputs": [],
   "source": [
    "swap_text = capital_first_letter.swapcase()        #Using swapcase to swap first letter of every word"
   ]
  },
  {
   "cell_type": "code",
   "execution_count": 23,
   "id": "49308d7f-a724-4ab7-bf8b-f3980c2990d1",
   "metadata": {},
   "outputs": [
    {
     "name": "stdout",
     "output_type": "stream",
     "text": [
      "lEARNING pYTHON iS aWESOME\n"
     ]
    }
   ],
   "source": [
    "print(swap_text)"
   ]
  },
  {
   "cell_type": "markdown",
   "id": "67188458-dc1e-4483-b342-7a2ea2526409",
   "metadata": {},
   "source": [
    "## ***Question No.6***"
   ]
  },
  {
   "cell_type": "markdown",
   "id": "068b5bb0-df76-46dd-b87b-48783a2dc019",
   "metadata": {},
   "source": [
    "6- \n",
    "\n",
    "Write Python code to check and print whether the string satisfies the following:\n",
    "\n",
    "Is alphanumeric?\n",
    "\n",
    "Is alphabetic only?\n",
    "\n",
    "text2 = \"HelloWorld123\"\n"
   ]
  },
  {
   "cell_type": "markdown",
   "id": "3c27e113-c635-45b9-ba1d-1f968d362ffa",
   "metadata": {},
   "source": [
    "## ***Answer No.6***"
   ]
  },
  {
   "cell_type": "code",
   "execution_count": 24,
   "id": "299eaa62-b07e-4dc7-a154-50a500a7b09d",
   "metadata": {},
   "outputs": [],
   "source": [
    "text2 = \"HelloWorld123\""
   ]
  },
  {
   "cell_type": "code",
   "execution_count": 25,
   "id": "4bb58550-83fd-4eb2-95b8-1c48c81b1daf",
   "metadata": {},
   "outputs": [
    {
     "name": "stdout",
     "output_type": "stream",
     "text": [
      "Is alphanumeric: True\n"
     ]
    }
   ],
   "source": [
    "print(\"Is alphanumeric:\", text2.isalnum())"
   ]
  },
  {
   "cell_type": "code",
   "execution_count": 26,
   "id": "81804e2b-96cc-48f7-abf1-cf62b6f993db",
   "metadata": {},
   "outputs": [
    {
     "name": "stdout",
     "output_type": "stream",
     "text": [
      "Is alphabetic only: False\n"
     ]
    }
   ],
   "source": [
    "print(\"Is alphabetic only:\", text2.isalpha())"
   ]
  },
  {
   "cell_type": "markdown",
   "id": "315005da-ea37-45dc-a8e0-ffcc7ac6cbc3",
   "metadata": {},
   "source": [
    "## ***Question No.7***"
   ]
  },
  {
   "cell_type": "markdown",
   "id": "970bfc45-a857-492a-8630-ceba2fb70758",
   "metadata": {},
   "source": [
    "7- \n",
    "\n",
    "Write Python code to check and print whether the string satisfies the following:\n",
    "\n",
    "Is the string made up of digits only?\n",
    "\n",
    "Is the string all lowercase?\n",
    "\n",
    "text3 = \"helloworld\""
   ]
  },
  {
   "cell_type": "markdown",
   "id": "65623ce4-f414-4959-bc5a-0f2508bd1058",
   "metadata": {},
   "source": [
    "## ***Answer No.7***"
   ]
  },
  {
   "cell_type": "code",
   "execution_count": 27,
   "id": "4e10446b-1511-4382-8a9a-13b15ade2931",
   "metadata": {},
   "outputs": [],
   "source": [
    "text3 = \"helloworld\""
   ]
  },
  {
   "cell_type": "code",
   "execution_count": 28,
   "id": "4422d64b-82bf-4861-93f4-f29adf3aa394",
   "metadata": {},
   "outputs": [],
   "source": [
    "is_digits_only = text3.isdigit()          #Checking if the string consists of digits only by isdigit method."
   ]
  },
  {
   "cell_type": "code",
   "execution_count": 29,
   "id": "af3bec0b-d00e-4ced-a07b-dcca963034a5",
   "metadata": {},
   "outputs": [],
   "source": [
    "all_lowercase = text3.islower()           #Checking if the string is all lowercase by using islower method."
   ]
  },
  {
   "cell_type": "code",
   "execution_count": 30,
   "id": "1cd21c98-734f-49bc-b4d9-626a81580f3c",
   "metadata": {},
   "outputs": [
    {
     "name": "stdout",
     "output_type": "stream",
     "text": [
      "Is the string made up of digits only: False \n",
      "Is the string all lowercase: True\n"
     ]
    }
   ],
   "source": [
    "print(f\"Is the string made up of digits only: {is_digits_only} \\nIs the string all lowercase: {all_lowercase}\")"
   ]
  },
  {
   "cell_type": "markdown",
   "id": "dd6e1276-5b60-49e1-99fe-291d04bc6ea7",
   "metadata": {},
   "source": [
    "## ***Question No.8***"
   ]
  },
  {
   "cell_type": "markdown",
   "id": "efbf5bd9-7e96-413b-a62b-7509bde4833a",
   "metadata": {},
   "source": [
    "8-\n",
    "\n",
    "Write Python code to check and print whether the string satisfies the following:\n",
    "\n",
    "Is the string all uppercase?\n",
    "\n",
    "Is the string titlecased?\n",
    "\n",
    "text4 = 'Hi We Are Learning Python'"
   ]
  },
  {
   "cell_type": "markdown",
   "id": "68c06e7e-c500-4d7c-acc8-7f1c25ad22da",
   "metadata": {},
   "source": [
    "## ***Answer No.8***"
   ]
  },
  {
   "cell_type": "code",
   "execution_count": 31,
   "id": "4d14a2a3-c9db-4ac8-9065-4a42d4be24ab",
   "metadata": {},
   "outputs": [],
   "source": [
    "text4 = 'Hi We Are Learning Python'"
   ]
  },
  {
   "cell_type": "code",
   "execution_count": 32,
   "id": "fc9714cd-9e69-4f50-bcd5-cb0af5fc3770",
   "metadata": {},
   "outputs": [],
   "source": [
    "all_uppercase = text4.isupper()           #Checking if the string consists all uppercase by isupper method.       "
   ]
  },
  {
   "cell_type": "code",
   "execution_count": 33,
   "id": "305542a7-b9ab-41d7-bb01-f1747786bbd4",
   "metadata": {},
   "outputs": [],
   "source": [
    "is_titlecased = text4.istitle()           #Checking if the string is titlecased by istitle method."
   ]
  },
  {
   "cell_type": "code",
   "execution_count": 34,
   "id": "067b2e5c-9fc7-487f-b582-7787c72a9089",
   "metadata": {},
   "outputs": [
    {
     "name": "stdout",
     "output_type": "stream",
     "text": [
      "Is the string all uppercase: False \n",
      "Is the string titlecased: True\n"
     ]
    }
   ],
   "source": [
    "print(f\"Is the string all uppercase: {all_uppercase} \\nIs the string titlecased: {is_titlecased}\")"
   ]
  },
  {
   "cell_type": "markdown",
   "id": "c26e5fee-2df2-4d62-ba57-d85a4f58844a",
   "metadata": {},
   "source": [
    "## ***Question No.9***"
   ]
  },
  {
   "cell_type": "markdown",
   "id": "f41999ce-b8be-4916-b2d1-5bd3889187ca",
   "metadata": {},
   "source": [
    "9- \n",
    "\n",
    "Write Python code to check and print whether the string:\n",
    "\n",
    "Starts with \"data\"\n",
    "\n",
    "Ends with \".csv\"\n",
    "\n",
    "text5 = \"data_report_2023.csv\"\n"
   ]
  },
  {
   "cell_type": "markdown",
   "id": "19de7d08-651c-456c-98d7-ce4e63ee7e44",
   "metadata": {},
   "source": [
    "## ***Answer No.9***"
   ]
  },
  {
   "cell_type": "code",
   "execution_count": 35,
   "id": "d752fa31-7093-4790-80be-a6d5eabbf2e8",
   "metadata": {},
   "outputs": [],
   "source": [
    "text5 = \"data_report_2023.csv\""
   ]
  },
  {
   "cell_type": "code",
   "execution_count": 36,
   "id": "e4fcb210-72a9-4bb5-b63e-489761f6de11",
   "metadata": {},
   "outputs": [],
   "source": [
    "starts_with_data = text5.startswith(\"data\")         #Checking if string starts with data by startswith method"
   ]
  },
  {
   "cell_type": "code",
   "execution_count": 37,
   "id": "bf45b9a2-9107-453a-ac2e-0fbe1b1d0b47",
   "metadata": {},
   "outputs": [],
   "source": [
    "ends_with_csv = text5.endswith(\".csv\")               #Checking if string ends with .csv by endswith method"
   ]
  },
  {
   "cell_type": "code",
   "execution_count": 38,
   "id": "1f0073ec-6bcd-43f9-9943-ed615f083088",
   "metadata": {},
   "outputs": [
    {
     "name": "stdout",
     "output_type": "stream",
     "text": [
      "Starts with 'data': True \n",
      "Ends With '.csv':   True\n"
     ]
    }
   ],
   "source": [
    "print(f\"Starts with 'data': {starts_with_data} \\nEnds With '.csv':   {ends_with_csv}\")"
   ]
  },
  {
   "cell_type": "markdown",
   "id": "7faebe24-488c-4dee-8c6e-11154e9a3395",
   "metadata": {},
   "source": [
    "## ***Question No.10***"
   ]
  },
  {
   "cell_type": "markdown",
   "id": "5b5afe14-7a98-4b1c-b2a2-9dbafe520da3",
   "metadata": {},
   "source": [
    "10-\n",
    "\n",
    "Write Python code to:\n",
    "\n",
    "Count how many times \"banana\" appears in the string.\n",
    "\n",
    "fruit = \"banana bandana banana\"\n"
   ]
  },
  {
   "cell_type": "markdown",
   "id": "ff7d4999-bf16-4a32-ad28-6718dfe65fd7",
   "metadata": {},
   "source": [
    "## ***Answer No.10***"
   ]
  },
  {
   "cell_type": "code",
   "execution_count": 39,
   "id": "937a7b8b-c513-4907-8054-e23ae6cd49bd",
   "metadata": {},
   "outputs": [],
   "source": [
    "fruit = \"banana bandana banana\""
   ]
  },
  {
   "cell_type": "code",
   "execution_count": 40,
   "id": "9667e2ac-f5fe-49fd-89b6-75b32dd1f493",
   "metadata": {},
   "outputs": [],
   "source": [
    "count = fruit.count(\"banana\")            #Counting number of times banana appears using count method"
   ]
  },
  {
   "cell_type": "code",
   "execution_count": 41,
   "id": "6023c8f6-4919-4d70-8e32-9b0b6609990c",
   "metadata": {},
   "outputs": [
    {
     "name": "stdout",
     "output_type": "stream",
     "text": [
      "The word 'banana' appears 2 times in the string\n"
     ]
    }
   ],
   "source": [
    "print(f\"The word 'banana' appears {count} times in the string\")"
   ]
  }
 ],
 "metadata": {
  "kernelspec": {
   "display_name": "Python [conda env:base] *",
   "language": "python",
   "name": "conda-base-py"
  },
  "language_info": {
   "codemirror_mode": {
    "name": "ipython",
    "version": 3
   },
   "file_extension": ".py",
   "mimetype": "text/x-python",
   "name": "python",
   "nbconvert_exporter": "python",
   "pygments_lexer": "ipython3",
   "version": "3.13.5"
  }
 },
 "nbformat": 4,
 "nbformat_minor": 5
}
