{
 "cells": [
  {
   "cell_type": "markdown",
   "id": "ddb6de3f-3b4b-4b2d-8dd9-bb48c9b7e1bb",
   "metadata": {},
   "source": [
    "## ***Question No.1***"
   ]
  },
  {
   "cell_type": "raw",
   "id": "45f8b5d1-b939-4264-9fa2-1d2bc2243fad",
   "metadata": {},
   "source": [
    "Q1\n",
    "\n",
    "animals = [\"cat\", \"dog\", \"rabbit\", \"tiger\", \"elephant\"]\n",
    "\n",
    "Print \"tiger\" by indexing\n",
    "Print \"rabbit by negative indexing\n",
    "Print \"rabbit\" to \"elephant\" by slicing"
   ]
  },
  {
   "cell_type": "markdown",
   "id": "510d566b-9e82-49dc-9c8a-ba2961adc353",
   "metadata": {},
   "source": [
    "## ***Answer No.1***"
   ]
  },
  {
   "cell_type": "code",
   "execution_count": 1,
   "id": "0b612402-6303-47b0-b93f-13f1f4bbd910",
   "metadata": {},
   "outputs": [],
   "source": [
    "animals = [\"cat\", \"dog\", \"rabbit\", \"tiger\", \"elephant\"]"
   ]
  },
  {
   "cell_type": "code",
   "execution_count": 2,
   "id": "4d5b153e-34d0-4f41-b0bb-981c38d3305b",
   "metadata": {},
   "outputs": [
    {
     "name": "stdout",
     "output_type": "stream",
     "text": [
      "tiger\n"
     ]
    }
   ],
   "source": [
    "print(animals[3])                #print \"tiger\" by indexing"
   ]
  },
  {
   "cell_type": "code",
   "execution_count": 3,
   "id": "a16bb18e-a3c6-4b89-9cdf-092446ee5191",
   "metadata": {},
   "outputs": [
    {
     "name": "stdout",
     "output_type": "stream",
     "text": [
      "rabbit\n"
     ]
    }
   ],
   "source": [
    "print(animals[-3])               #print \"rabbit\" by negative indexing"
   ]
  },
  {
   "cell_type": "code",
   "execution_count": 4,
   "id": "7b5e6d07-2636-46fa-8af3-ec732c4f67e2",
   "metadata": {},
   "outputs": [
    {
     "name": "stdout",
     "output_type": "stream",
     "text": [
      "['rabbit', 'tiger', 'elephant']\n"
     ]
    }
   ],
   "source": [
    "print(animals[2:])               #print \"rabbit\" to \"elephant\" by slicing"
   ]
  },
  {
   "cell_type": "markdown",
   "id": "abc48983-3615-40fe-8747-26a9f8867c96",
   "metadata": {},
   "source": [
    "## ***Question No.2***"
   ]
  },
  {
   "cell_type": "raw",
   "id": "64d4c8ca-be2b-4f05-a255-b43aafd6b7b4",
   "metadata": {},
   "source": [
    "Q2.\n",
    "\n",
    "Add \"lion\" to the list of animals by list method append\n",
    "\n",
    "Remove \"rabbit\" from the list by list method remove\n",
    "\n",
    "Print the updated list."
   ]
  },
  {
   "cell_type": "markdown",
   "id": "7764744c-4f7f-449f-becb-adef4940726a",
   "metadata": {},
   "source": [
    "## ***Answer No.2***"
   ]
  },
  {
   "cell_type": "code",
   "execution_count": 5,
   "id": "68797f4c-34fc-4e61-aaac-36866f691da7",
   "metadata": {},
   "outputs": [],
   "source": [
    "animals.append(\"lion\")           #Added \"lion\" through append"
   ]
  },
  {
   "cell_type": "code",
   "execution_count": 6,
   "id": "393024e5-db21-45bd-809f-42d4ef347cb3",
   "metadata": {},
   "outputs": [],
   "source": [
    "animals.remove(\"rabbit\")        #Removed \"rabbit\" through remove"
   ]
  },
  {
   "cell_type": "code",
   "execution_count": 7,
   "id": "76855891-8d22-4168-b6b6-9c6f07141485",
   "metadata": {},
   "outputs": [
    {
     "name": "stdout",
     "output_type": "stream",
     "text": [
      "['cat', 'dog', 'tiger', 'elephant', 'lion']\n"
     ]
    }
   ],
   "source": [
    "print(animals)                  #Printed the updated list"
   ]
  },
  {
   "cell_type": "markdown",
   "id": "68c286cc-62cf-4c89-830d-5c33dbd2a770",
   "metadata": {},
   "source": [
    "## ***Question No.3***"
   ]
  },
  {
   "cell_type": "raw",
   "id": "def7f645-6820-41d1-95df-eb71c4bc9d35",
   "metadata": {},
   "source": [
    "Q3.\n",
    "\n",
    "basket = [[\"apple\", \"banana\", \"mango\"], [\"red\", \"blue\", \"green\", \"black\"]]\n",
    "\n",
    "- print list of fruits\n",
    "- print list of colors\n",
    "- print second fruit by negative indexing\n",
    "- replace color \"blue\" with \"white\"\n",
    "- print length of colors list\n"
   ]
  },
  {
   "cell_type": "markdown",
   "id": "23d26317-87c3-4ce0-80aa-4c1034c32290",
   "metadata": {},
   "source": [
    "## ***Answer No.3***"
   ]
  },
  {
   "cell_type": "code",
   "execution_count": 8,
   "id": "c1bf44ec-92bb-4fd7-84fb-87775720aaf9",
   "metadata": {},
   "outputs": [],
   "source": [
    "basket = [[\"apple\", \"banana\", \"mango\"], [\"red\", \"blue\", \"green\", \"black\"]]"
   ]
  },
  {
   "cell_type": "code",
   "execution_count": 9,
   "id": "4ab8facf-6bb9-400e-a129-864bd6643af8",
   "metadata": {},
   "outputs": [
    {
     "name": "stdout",
     "output_type": "stream",
     "text": [
      "['apple', 'banana', 'mango']\n"
     ]
    }
   ],
   "source": [
    "print(basket[0])              #Printed list of fruits"
   ]
  },
  {
   "cell_type": "code",
   "execution_count": 10,
   "id": "d420a81c-1ae1-4cb1-83b8-96c889bf63fc",
   "metadata": {},
   "outputs": [
    {
     "name": "stdout",
     "output_type": "stream",
     "text": [
      "['red', 'blue', 'green', 'black']\n"
     ]
    }
   ],
   "source": [
    "print(basket[1])             #Printed list of colors"
   ]
  },
  {
   "cell_type": "code",
   "execution_count": 11,
   "id": "60cb264d-ae6c-4e3f-9994-b0ccb57d905f",
   "metadata": {},
   "outputs": [
    {
     "name": "stdout",
     "output_type": "stream",
     "text": [
      "banana\n"
     ]
    }
   ],
   "source": [
    "print(basket[0][-2])         #Printed second fruit by negative indexing"
   ]
  },
  {
   "cell_type": "code",
   "execution_count": 12,
   "id": "c85dd7ce-f0ab-49ab-86a3-ab1c45d64558",
   "metadata": {},
   "outputs": [],
   "source": [
    "basket[1][1] = \"white\""
   ]
  },
  {
   "cell_type": "code",
   "execution_count": 13,
   "id": "c62a6eb7-2b81-4ba0-ad76-c9fd93e4abac",
   "metadata": {},
   "outputs": [
    {
     "name": "stdout",
     "output_type": "stream",
     "text": [
      "['red', 'white', 'green', 'black']\n"
     ]
    }
   ],
   "source": [
    "print(basket[1])             #Replaced \"blue\" with \"white\""
   ]
  },
  {
   "cell_type": "code",
   "execution_count": 14,
   "id": "cbac6594-86d1-4a58-adaf-fe08e4c55180",
   "metadata": {},
   "outputs": [
    {
     "name": "stdout",
     "output_type": "stream",
     "text": [
      "4\n"
     ]
    }
   ],
   "source": [
    "print(len(basket[1]))        #Printed length of colors list"
   ]
  },
  {
   "cell_type": "markdown",
   "id": "1e3f64ff-59af-4771-81ff-de2f1793a6a1",
   "metadata": {},
   "source": [
    "## ***Question No.4***"
   ]
  },
  {
   "cell_type": "raw",
   "id": "292aca88-0b3f-4529-8097-d6e0d96ca314",
   "metadata": {},
   "source": [
    "Q4.\n",
    "\n",
    "food = [\"pizza\", \"burger\", \"fries\", \"burger\", \"pasta\", \"burger\", \"biryani\", \"fries]\n",
    "\n",
    "Add \"sandwich\" to the end of the list.\n",
    "Insert \"biryani\" at index 2."
   ]
  },
  {
   "cell_type": "markdown",
   "id": "1e90509b-c4a0-48ab-8957-0510aeafd106",
   "metadata": {},
   "source": [
    "## ***Answer No.4***"
   ]
  },
  {
   "cell_type": "code",
   "execution_count": 15,
   "id": "6fcfb253-c172-4e1b-8d69-2ead23ee2b73",
   "metadata": {},
   "outputs": [],
   "source": [
    "food = [\"pizza\", \"burger\", \"fries\", \"burger\", \"pasta\", \"burger\", \"biryani\", \"fries\"]"
   ]
  },
  {
   "cell_type": "code",
   "execution_count": 16,
   "id": "54a73eb2-3c51-4c13-880a-f02645d071a6",
   "metadata": {},
   "outputs": [],
   "source": [
    "food.append(\"sandwich\")             #Adding \"sandwich\" to the end of list"
   ]
  },
  {
   "cell_type": "code",
   "execution_count": 17,
   "id": "1ce465c9-6972-4e18-82c9-330ae2b4609a",
   "metadata": {},
   "outputs": [],
   "source": [
    "food.insert(2, \"biryani\")           #Inserting \"biryani\" at index 2"
   ]
  },
  {
   "cell_type": "code",
   "execution_count": 18,
   "id": "034d48df-4fe1-4ed4-b804-78de3eea61f9",
   "metadata": {},
   "outputs": [
    {
     "name": "stdout",
     "output_type": "stream",
     "text": [
      "['pizza', 'burger', 'biryani', 'fries', 'burger', 'pasta', 'burger', 'biryani', 'fries', 'sandwich']\n"
     ]
    }
   ],
   "source": [
    "print(food)"
   ]
  },
  {
   "cell_type": "markdown",
   "id": "b82332fe-5bb2-4289-b718-868315d9b5d9",
   "metadata": {},
   "source": [
    "## ***Question No.5***"
   ]
  },
  {
   "cell_type": "raw",
   "id": "4553d524-e399-4595-818a-1c79d41d0f47",
   "metadata": {},
   "source": [
    "Q5.\n",
    "\n",
    "- Sort the food list in alphabetical order\n",
    "- Reverse the order of the list food"
   ]
  },
  {
   "cell_type": "markdown",
   "id": "6c0443d2-6a75-4a5f-92c6-efed62ad743c",
   "metadata": {},
   "source": [
    "## ***Answer No.5***"
   ]
  },
  {
   "cell_type": "code",
   "execution_count": 19,
   "id": "cc3ddeb9-c1f5-48b3-90ec-a988a13fbcc8",
   "metadata": {},
   "outputs": [],
   "source": [
    "food.sort()           #Sorting the food list in alphabetical order"
   ]
  },
  {
   "cell_type": "code",
   "execution_count": 20,
   "id": "0567e0ae-8b29-4f20-bc0b-8402ab81d896",
   "metadata": {},
   "outputs": [
    {
     "name": "stdout",
     "output_type": "stream",
     "text": [
      "['biryani', 'biryani', 'burger', 'burger', 'burger', 'fries', 'fries', 'pasta', 'pizza', 'sandwich']\n"
     ]
    }
   ],
   "source": [
    "print(food)"
   ]
  },
  {
   "cell_type": "code",
   "execution_count": 21,
   "id": "dc6122ce-66af-41b0-a084-70a1d16488b1",
   "metadata": {},
   "outputs": [],
   "source": [
    "food.reverse()        #Reversing the order of the food list"
   ]
  },
  {
   "cell_type": "code",
   "execution_count": 22,
   "id": "737e380c-a1ce-4525-b984-d52b990ecbed",
   "metadata": {},
   "outputs": [
    {
     "name": "stdout",
     "output_type": "stream",
     "text": [
      "['sandwich', 'pizza', 'pasta', 'fries', 'fries', 'burger', 'burger', 'burger', 'biryani', 'biryani']\n"
     ]
    }
   ],
   "source": [
    "print(food)"
   ]
  },
  {
   "cell_type": "markdown",
   "id": "4d5f748a-f2b7-461f-8502-2de50966a829",
   "metadata": {},
   "source": [
    "## ***Question No.6***"
   ]
  },
  {
   "cell_type": "raw",
   "id": "4fdad926-ea96-4e4b-bbf9-962d6e1f9497",
   "metadata": {},
   "source": [
    "Q6.\n",
    "\n",
    "- Find the index of \"pasta\" and print it from the list of food\n",
    "- Count how many times \"pizza\" appears in list food"
   ]
  },
  {
   "cell_type": "markdown",
   "id": "e908e413-ac6c-4acf-86e6-8cb7877c5feb",
   "metadata": {},
   "source": [
    "## ***Answer No.6***"
   ]
  },
  {
   "cell_type": "code",
   "execution_count": 23,
   "id": "17682ed4-4cb5-4795-a662-574ab30abe58",
   "metadata": {},
   "outputs": [
    {
     "name": "stdout",
     "output_type": "stream",
     "text": [
      "2\n"
     ]
    }
   ],
   "source": [
    "print(food.index(\"pasta\"))          #Finding index of \"pasta\" and printing from food list"
   ]
  },
  {
   "cell_type": "code",
   "execution_count": 24,
   "id": "dd7b6456-f033-4e0e-a1c4-1af32961edc8",
   "metadata": {},
   "outputs": [
    {
     "name": "stdout",
     "output_type": "stream",
     "text": [
      "1\n"
     ]
    }
   ],
   "source": [
    "print(food.count(\"pizza\"))"
   ]
  },
  {
   "cell_type": "markdown",
   "id": "c6fc63e9-0b9a-40f4-8351-73a8eaec31dd",
   "metadata": {},
   "source": [
    "## ***Question No.7***"
   ]
  },
  {
   "cell_type": "raw",
   "id": "55d4b2d0-206f-42fa-8931-c55469e5ae05",
   "metadata": {},
   "source": [
    "Q7.\n",
    "\n",
    "Remove \"burger\" (only the first one) from the list food.\n",
    "Remove the last item using pop() and print it"
   ]
  },
  {
   "cell_type": "markdown",
   "id": "4b0f0aa2-02f2-493c-b54a-a9ae4de3a038",
   "metadata": {},
   "source": [
    "## ***Answer No.7***"
   ]
  },
  {
   "cell_type": "code",
   "execution_count": 25,
   "id": "f0b7132f-611c-46af-82bf-6918e81adba7",
   "metadata": {},
   "outputs": [],
   "source": [
    "food.remove(\"burger\")                #Removing the first \"burger\" from the food list"
   ]
  },
  {
   "cell_type": "code",
   "execution_count": 26,
   "id": "17705581-7c7a-4d4b-a7c0-818bf7f29097",
   "metadata": {},
   "outputs": [
    {
     "name": "stdout",
     "output_type": "stream",
     "text": [
      "['sandwich', 'pizza', 'pasta', 'fries', 'fries', 'burger', 'burger', 'biryani', 'biryani']\n"
     ]
    }
   ],
   "source": [
    "print(food)"
   ]
  },
  {
   "cell_type": "code",
   "execution_count": 27,
   "id": "af289f0e-e223-4182-b994-8ad217a01bad",
   "metadata": {},
   "outputs": [
    {
     "data": {
      "text/plain": [
       "'biryani'"
      ]
     },
     "execution_count": 27,
     "metadata": {},
     "output_type": "execute_result"
    }
   ],
   "source": [
    "food.pop()                          #Removing the last item using pop"
   ]
  },
  {
   "cell_type": "code",
   "execution_count": 28,
   "id": "e38deac4-50f6-403d-9574-5afad7f212a2",
   "metadata": {},
   "outputs": [
    {
     "name": "stdout",
     "output_type": "stream",
     "text": [
      "['sandwich', 'pizza', 'pasta', 'fries', 'fries', 'burger', 'burger', 'biryani']\n"
     ]
    }
   ],
   "source": [
    "print(food)"
   ]
  },
  {
   "cell_type": "markdown",
   "id": "0f6c61e5-1111-4417-981c-51f0b3c7c260",
   "metadata": {},
   "source": [
    "## ***Question No.8***"
   ]
  },
  {
   "cell_type": "raw",
   "id": "ec795fa2-ded4-4bd3-9604-32262ff83395",
   "metadata": {},
   "source": [
    "Q8.\n",
    "\n",
    "Make a copy of the list of food and name it my_food\n",
    "Clear the original food list."
   ]
  },
  {
   "cell_type": "markdown",
   "id": "33944283-dbe8-4338-99a0-7a469f3221d6",
   "metadata": {},
   "source": [
    "## ***Answer No.8***"
   ]
  },
  {
   "cell_type": "code",
   "execution_count": 29,
   "id": "b32d7959-c807-4e7f-b2e3-e2aff5a68dd7",
   "metadata": {},
   "outputs": [],
   "source": [
    "my_food = food.copy()              # Making a copy of food list"
   ]
  },
  {
   "cell_type": "code",
   "execution_count": 30,
   "id": "b7e69660-d0bb-43e0-8878-3b4b21bb104d",
   "metadata": {},
   "outputs": [
    {
     "name": "stdout",
     "output_type": "stream",
     "text": [
      "['sandwich', 'pizza', 'pasta', 'fries', 'fries', 'burger', 'burger', 'biryani']\n"
     ]
    }
   ],
   "source": [
    "print(my_food)"
   ]
  },
  {
   "cell_type": "code",
   "execution_count": 31,
   "id": "c2b9bf6f-42cb-49ab-890f-e0efd750c316",
   "metadata": {},
   "outputs": [],
   "source": [
    "food.clear()                        #Cleared the original food list"
   ]
  },
  {
   "cell_type": "code",
   "execution_count": 32,
   "id": "14af7d86-85db-4839-ace2-d28434273400",
   "metadata": {},
   "outputs": [
    {
     "name": "stdout",
     "output_type": "stream",
     "text": [
      "[]\n"
     ]
    }
   ],
   "source": [
    "print(food)"
   ]
  },
  {
   "cell_type": "markdown",
   "id": "4637c730-3ad4-4de5-9d8d-832d36c1a8f8",
   "metadata": {},
   "source": [
    "## ***Question No.9***"
   ]
  },
  {
   "cell_type": "raw",
   "id": "33ed923e-4384-454c-8ae5-43f69236f8cb",
   "metadata": {},
   "source": [
    "Q9.\n",
    "\n",
    "Count nested list [1,2] by count method\n",
    "\n",
    "data = [[1, 2],[3, 4],[1, 2],[2,4],[1, 2],[1,3,6]]"
   ]
  },
  {
   "cell_type": "markdown",
   "id": "a4f3d1d1-b8d9-48ea-ac91-554980f60f56",
   "metadata": {},
   "source": [
    "## ***Answer No.9***"
   ]
  },
  {
   "cell_type": "code",
   "execution_count": 33,
   "id": "bd53ba49-189a-4cbb-9d6f-bf34df894ace",
   "metadata": {},
   "outputs": [],
   "source": [
    "data = [[1, 2],[3, 4],[1, 2],[2, 4],[1, 2],[1, 3, 6]]"
   ]
  },
  {
   "cell_type": "code",
   "execution_count": 34,
   "id": "400b64a6-3001-4c0d-9fd9-4746c064885c",
   "metadata": {},
   "outputs": [
    {
     "name": "stdout",
     "output_type": "stream",
     "text": [
      "3\n"
     ]
    }
   ],
   "source": [
    "print(data.count([1, 2]))                     #Counting nested list [1, 2] by count method"
   ]
  },
  {
   "cell_type": "markdown",
   "id": "1ff97c30-4df0-4b8a-a901-baff47293456",
   "metadata": {},
   "source": [
    "## ***Question No.10***"
   ]
  },
  {
   "cell_type": "raw",
   "id": "f1ec367f-fa21-4e24-b4c0-36d8181bf398",
   "metadata": {},
   "source": [
    "Q10.\n",
    "\n",
    "Replace 'cat' with 'found you' odd_item = ['almond','peanut'['onion','potato','tomato'['apple','mango','cherry',['cat'],'banana'],'lemon',],'walnut']"
   ]
  },
  {
   "cell_type": "markdown",
   "id": "f02d87c4-4e4f-4514-ba71-469aec2b0894",
   "metadata": {},
   "source": [
    "## ***Answer No.10***"
   ]
  },
  {
   "cell_type": "code",
   "execution_count": 35,
   "id": "667e4aaa-afbe-4cbd-94ef-e07e6691e9b4",
   "metadata": {},
   "outputs": [],
   "source": [
    "odd_item = ['almond','peanut',['onion','potato','tomato',['apple','mango','cherry',['cat'],'banana'],'lemon',],'walnut']"
   ]
  },
  {
   "cell_type": "code",
   "execution_count": 36,
   "id": "2be9b61f-49bc-41e4-bb5b-61561cc9f357",
   "metadata": {},
   "outputs": [],
   "source": [
    "# There were 2 commas missing so added them first."
   ]
  },
  {
   "cell_type": "code",
   "execution_count": 37,
   "id": "8e2bb553-4803-47cc-b7ea-5fc698cdb839",
   "metadata": {},
   "outputs": [],
   "source": [
    "odd_item[2][3][3][0] = 'found you'"
   ]
  },
  {
   "cell_type": "code",
   "execution_count": 38,
   "id": "a831330b-ec3d-43be-8caf-3f6d4b007fac",
   "metadata": {},
   "outputs": [
    {
     "name": "stdout",
     "output_type": "stream",
     "text": [
      "['almond', 'peanut', ['onion', 'potato', 'tomato', ['apple', 'mango', 'cherry', ['found you'], 'banana'], 'lemon'], 'walnut']\n"
     ]
    }
   ],
   "source": [
    "print(odd_item)"
   ]
  }
 ],
 "metadata": {
  "kernelspec": {
   "display_name": "Python [conda env:base] *",
   "language": "python",
   "name": "conda-base-py"
  },
  "language_info": {
   "codemirror_mode": {
    "name": "ipython",
    "version": 3
   },
   "file_extension": ".py",
   "mimetype": "text/x-python",
   "name": "python",
   "nbconvert_exporter": "python",
   "pygments_lexer": "ipython3",
   "version": "3.13.5"
  }
 },
 "nbformat": 4,
 "nbformat_minor": 5
}
