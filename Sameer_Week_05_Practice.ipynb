{
 "cells": [
  {
   "cell_type": "markdown",
   "id": "31b31596-6c79-461c-a69d-9bcdda9ff747",
   "metadata": {},
   "source": [
    "## ****Tuple****"
   ]
  },
  {
   "cell_type": "code",
   "execution_count": 10,
   "id": "052f7580-84b7-4236-bf79-42ca826b3a0c",
   "metadata": {},
   "outputs": [],
   "source": [
    "bio = (\"Mark\", 22, 182.9, \"Porsche\", \"Basketball\")"
   ]
  },
  {
   "cell_type": "code",
   "execution_count": 11,
   "id": "c6799c4b-407c-4ea6-802c-fee2ee36e485",
   "metadata": {},
   "outputs": [
    {
     "data": {
      "text/plain": [
       "tuple"
      ]
     },
     "execution_count": 11,
     "metadata": {},
     "output_type": "execute_result"
    }
   ],
   "source": [
    "type(bio)"
   ]
  },
  {
   "cell_type": "code",
   "execution_count": 12,
   "id": "c8729af0-e1f6-41a7-b66d-b3e2b0729479",
   "metadata": {},
   "outputs": [
    {
     "data": {
      "text/plain": [
       "['Mark', 22, 182.9, 'Porsche', 'Basketball']"
      ]
     },
     "execution_count": 12,
     "metadata": {},
     "output_type": "execute_result"
    }
   ],
   "source": [
    "list(bio)"
   ]
  },
  {
   "cell_type": "code",
   "execution_count": 13,
   "id": "bd7cd808-db3d-47e0-844d-bd1ffe1a1d44",
   "metadata": {},
   "outputs": [
    {
     "ename": "TypeError",
     "evalue": "'tuple' object does not support item assignment",
     "output_type": "error",
     "traceback": [
      "\u001b[1;31m---------------------------------------------------------------------------\u001b[0m",
      "\u001b[1;31mTypeError\u001b[0m                                 Traceback (most recent call last)",
      "Cell \u001b[1;32mIn[13], line 1\u001b[0m\n\u001b[1;32m----> 1\u001b[0m bio[\u001b[38;5;241m4\u001b[39m] \u001b[38;5;241m=\u001b[39m \u001b[38;5;124m\"\u001b[39m\u001b[38;5;124mBaseball\u001b[39m\u001b[38;5;124m\"\u001b[39m\n",
      "\u001b[1;31mTypeError\u001b[0m: 'tuple' object does not support item assignment"
     ]
    }
   ],
   "source": [
    "bio[4] = \"Baseball\""
   ]
  },
  {
   "cell_type": "code",
   "execution_count": 14,
   "id": "ae9279a2-ea71-49d6-b4f9-6c9dba50e3c0",
   "metadata": {},
   "outputs": [
    {
     "data": {
      "text/plain": [
       "['Mark', 22, 182.9, 'Porsche', 'Basketball']"
      ]
     },
     "execution_count": 14,
     "metadata": {},
     "output_type": "execute_result"
    }
   ],
   "source": [
    "list(bio)"
   ]
  },
  {
   "cell_type": "code",
   "execution_count": 15,
   "id": "2c26ed2a-f260-4dbe-9d26-2287fe8f6127",
   "metadata": {},
   "outputs": [
    {
     "name": "stdout",
     "output_type": "stream",
     "text": [
      "('Mark', 22, 182.9, 'Porsche', 'Basketball')\n"
     ]
    }
   ],
   "source": [
    "print(bio)"
   ]
  },
  {
   "cell_type": "code",
   "execution_count": 16,
   "id": "b6958f63-cea3-42cc-bbc3-a07f9b9d4a54",
   "metadata": {},
   "outputs": [],
   "source": [
    "bio_converted_list = list(bio)"
   ]
  },
  {
   "cell_type": "code",
   "execution_count": 17,
   "id": "caa095ac-eb27-400b-b795-63ca31abb22e",
   "metadata": {},
   "outputs": [
    {
     "name": "stdout",
     "output_type": "stream",
     "text": [
      "['Mark', 22, 182.9, 'Porsche', 'Basketball']\n"
     ]
    }
   ],
   "source": [
    "print(bio_converted_list)"
   ]
  },
  {
   "cell_type": "code",
   "execution_count": 18,
   "id": "42c578c5-a83d-4391-a98f-2c47f34b7e1a",
   "metadata": {},
   "outputs": [],
   "source": [
    "bio_converted_list[4] = \"Baseball\""
   ]
  },
  {
   "cell_type": "code",
   "execution_count": 19,
   "id": "0617be9a-8706-4bf2-a7f6-ee8f5ecc6ace",
   "metadata": {},
   "outputs": [
    {
     "name": "stdout",
     "output_type": "stream",
     "text": [
      "['Mark', 22, 182.9, 'Porsche', 'Baseball']\n"
     ]
    }
   ],
   "source": [
    "print(bio_converted_list)"
   ]
  },
  {
   "cell_type": "code",
   "execution_count": 20,
   "id": "07c49822-6fe8-4599-b66f-84f03a1a8307",
   "metadata": {},
   "outputs": [
    {
     "data": {
      "text/plain": [
       "('Mark', 22, 182.9, 'Porsche', 'Baseball')"
      ]
     },
     "execution_count": 20,
     "metadata": {},
     "output_type": "execute_result"
    }
   ],
   "source": [
    "bio = tuple(bio_converted_list)\n",
    "bio"
   ]
  },
  {
   "cell_type": "code",
   "execution_count": 21,
   "id": "871d78a5-6446-4ad4-9c79-830240a77fd6",
   "metadata": {},
   "outputs": [
    {
     "data": {
      "text/plain": [
       "1"
      ]
     },
     "execution_count": 21,
     "metadata": {},
     "output_type": "execute_result"
    }
   ],
   "source": [
    "bio.count(22)"
   ]
  },
  {
   "cell_type": "code",
   "execution_count": 22,
   "id": "652f6ab2-d45d-4429-b01d-99139131c13a",
   "metadata": {},
   "outputs": [
    {
     "data": {
      "text/plain": [
       "3"
      ]
     },
     "execution_count": 22,
     "metadata": {},
     "output_type": "execute_result"
    }
   ],
   "source": [
    "bio.index(\"Porsche\")"
   ]
  },
  {
   "cell_type": "code",
   "execution_count": 23,
   "id": "2d251f10-0c23-4772-8fca-ab83dd34f215",
   "metadata": {},
   "outputs": [],
   "source": [
    "Name, Age, Height, Car, Sports = bio"
   ]
  },
  {
   "cell_type": "code",
   "execution_count": 24,
   "id": "458c620c-9425-4f77-acd2-12cf7c449a4b",
   "metadata": {},
   "outputs": [
    {
     "data": {
      "text/plain": [
       "'Mark'"
      ]
     },
     "execution_count": 24,
     "metadata": {},
     "output_type": "execute_result"
    }
   ],
   "source": [
    "Name"
   ]
  },
  {
   "cell_type": "code",
   "execution_count": 25,
   "id": "c7008ee6-f5ee-4847-8b7e-afe8c1dfd36d",
   "metadata": {},
   "outputs": [
    {
     "data": {
      "text/plain": [
       "22"
      ]
     },
     "execution_count": 25,
     "metadata": {},
     "output_type": "execute_result"
    }
   ],
   "source": [
    "Age"
   ]
  },
  {
   "cell_type": "code",
   "execution_count": 26,
   "id": "141dfece-5cd4-4ef2-b94c-c372e17a2c79",
   "metadata": {},
   "outputs": [
    {
     "data": {
      "text/plain": [
       "182.9"
      ]
     },
     "execution_count": 26,
     "metadata": {},
     "output_type": "execute_result"
    }
   ],
   "source": [
    "Height"
   ]
  },
  {
   "cell_type": "code",
   "execution_count": 27,
   "id": "6cef3524-a2fc-4786-a4f5-63492c11b444",
   "metadata": {},
   "outputs": [
    {
     "data": {
      "text/plain": [
       "'Porsche'"
      ]
     },
     "execution_count": 27,
     "metadata": {},
     "output_type": "execute_result"
    }
   ],
   "source": [
    "Car"
   ]
  },
  {
   "cell_type": "code",
   "execution_count": 28,
   "id": "2a342b83-c4c5-491a-a129-37e8987c5fc4",
   "metadata": {},
   "outputs": [
    {
     "data": {
      "text/plain": [
       "'Baseball'"
      ]
     },
     "execution_count": 28,
     "metadata": {},
     "output_type": "execute_result"
    }
   ],
   "source": [
    "Sports"
   ]
  },
  {
   "cell_type": "code",
   "execution_count": 29,
   "id": "9d2c6e46-a75f-43cf-9a05-b0f73744b601",
   "metadata": {},
   "outputs": [],
   "source": [
    "Name, Age, *x = bio"
   ]
  },
  {
   "cell_type": "code",
   "execution_count": 30,
   "id": "38f1c94e-86ef-40a2-b983-5355a1667953",
   "metadata": {},
   "outputs": [
    {
     "data": {
      "text/plain": [
       "'Mark'"
      ]
     },
     "execution_count": 30,
     "metadata": {},
     "output_type": "execute_result"
    }
   ],
   "source": [
    "Name"
   ]
  },
  {
   "cell_type": "code",
   "execution_count": 31,
   "id": "f64fdd17-46f1-44a6-83ad-8f61dd01e658",
   "metadata": {},
   "outputs": [
    {
     "data": {
      "text/plain": [
       "22"
      ]
     },
     "execution_count": 31,
     "metadata": {},
     "output_type": "execute_result"
    }
   ],
   "source": [
    "Age"
   ]
  },
  {
   "cell_type": "code",
   "execution_count": 33,
   "id": "5a5a40d9-e5eb-4a2a-b89b-05334f3bef28",
   "metadata": {},
   "outputs": [
    {
     "data": {
      "text/plain": [
       "[182.9, 'Porsche', 'Baseball']"
      ]
     },
     "execution_count": 33,
     "metadata": {},
     "output_type": "execute_result"
    }
   ],
   "source": [
    "x"
   ]
  },
  {
   "cell_type": "code",
   "execution_count": 34,
   "id": "52f72177-e4a0-4b80-92db-44158f8c94b1",
   "metadata": {},
   "outputs": [],
   "source": [
    "nested_tuple = (\"Smith\", 20, \"Male\", bio, bio_converted_list)"
   ]
  },
  {
   "cell_type": "code",
   "execution_count": 35,
   "id": "ab59aaaf-a0ae-4e21-870c-823b9e9a9542",
   "metadata": {},
   "outputs": [
    {
     "data": {
      "text/plain": [
       "('Smith',\n",
       " 20,\n",
       " 'Male',\n",
       " ('Mark', 22, 182.9, 'Porsche', 'Baseball'),\n",
       " ['Mark', 22, 182.9, 'Porsche', 'Baseball'])"
      ]
     },
     "execution_count": 35,
     "metadata": {},
     "output_type": "execute_result"
    }
   ],
   "source": [
    "nested_tuple"
   ]
  },
  {
   "cell_type": "code",
   "execution_count": 37,
   "id": "c3c68eb9-9b7f-4a6a-ba3b-70ae14d952bc",
   "metadata": {},
   "outputs": [
    {
     "data": {
      "text/plain": [
       "('Smith',\n",
       " 20,\n",
       " 'Male',\n",
       " ('Mark', 22, 182.9, 'Porsche', 'Baseball'),\n",
       " ['Mark', 22, 182.9, 'Lamborghini', 'Baseball'])"
      ]
     },
     "execution_count": 37,
     "metadata": {},
     "output_type": "execute_result"
    }
   ],
   "source": [
    "nested_tuple[4][3] = \"Lamborghini\"\n",
    "nested_tuple"
   ]
  },
  {
   "cell_type": "markdown",
   "id": "af2d3446-98d2-4ab1-ba47-6cd062bfd85f",
   "metadata": {},
   "source": [
    "## ****Dictionary****"
   ]
  },
  {
   "cell_type": "code",
   "execution_count": 38,
   "id": "19e09b98-11bf-4316-812f-6d72ac88ae65",
   "metadata": {},
   "outputs": [],
   "source": [
    "my_dictionary = {\"Name\":\"John\", \"Age\":31, \"Qualification\":\"Masters\"}"
   ]
  },
  {
   "cell_type": "code",
   "execution_count": 39,
   "id": "3da6ee49-e29e-4603-8b8f-1e005f9e7afb",
   "metadata": {},
   "outputs": [
    {
     "data": {
      "text/plain": [
       "{'Name': 'John', 'Age': 31, 'Qualification': 'Masters'}"
      ]
     },
     "execution_count": 39,
     "metadata": {},
     "output_type": "execute_result"
    }
   ],
   "source": [
    "my_dictionary"
   ]
  },
  {
   "cell_type": "code",
   "execution_count": 40,
   "id": "2ad830d9-f23e-46e3-a3e4-5ce307be26c7",
   "metadata": {},
   "outputs": [
    {
     "data": {
      "text/plain": [
       "31"
      ]
     },
     "execution_count": 40,
     "metadata": {},
     "output_type": "execute_result"
    }
   ],
   "source": [
    "my_dictionary[\"Age\"]"
   ]
  },
  {
   "cell_type": "code",
   "execution_count": 41,
   "id": "341803e4-8a6a-4c46-b09b-a9d3b07fc71e",
   "metadata": {},
   "outputs": [
    {
     "data": {
      "text/plain": [
       "31"
      ]
     },
     "execution_count": 41,
     "metadata": {},
     "output_type": "execute_result"
    }
   ],
   "source": [
    "my_dictionary.get(\"Age\")"
   ]
  },
  {
   "cell_type": "code",
   "execution_count": 42,
   "id": "d087339c-531d-4b9b-808e-275e85947e31",
   "metadata": {},
   "outputs": [
    {
     "data": {
      "text/plain": [
       "dict_keys(['Name', 'Age', 'Qualification'])"
      ]
     },
     "execution_count": 42,
     "metadata": {},
     "output_type": "execute_result"
    }
   ],
   "source": [
    "my_dictionary.keys()"
   ]
  },
  {
   "cell_type": "code",
   "execution_count": 43,
   "id": "4388922a-fd0a-425b-8bed-e0212c1703cb",
   "metadata": {},
   "outputs": [
    {
     "data": {
      "text/plain": [
       "dict_values(['John', 31, 'Masters'])"
      ]
     },
     "execution_count": 43,
     "metadata": {},
     "output_type": "execute_result"
    }
   ],
   "source": [
    "my_dictionary.values()"
   ]
  },
  {
   "cell_type": "code",
   "execution_count": 44,
   "id": "9e4d10f5-3c54-4452-9018-602eae66d837",
   "metadata": {},
   "outputs": [
    {
     "data": {
      "text/plain": [
       "dict_items([('Name', 'John'), ('Age', 31), ('Qualification', 'Masters')])"
      ]
     },
     "execution_count": 44,
     "metadata": {},
     "output_type": "execute_result"
    }
   ],
   "source": [
    "my_dictionary.items()"
   ]
  },
  {
   "cell_type": "code",
   "execution_count": 45,
   "id": "c9842252-21a6-4018-b069-545235e98abc",
   "metadata": {},
   "outputs": [
    {
     "data": {
      "text/plain": [
       "'Masters'"
      ]
     },
     "execution_count": 45,
     "metadata": {},
     "output_type": "execute_result"
    }
   ],
   "source": [
    "my_dictionary.pop(\"Qualification\")"
   ]
  },
  {
   "cell_type": "code",
   "execution_count": 46,
   "id": "fcad941b-92eb-4473-bf8a-29e8e6713525",
   "metadata": {},
   "outputs": [
    {
     "data": {
      "text/plain": [
       "{'Name': 'John', 'Age': 31}"
      ]
     },
     "execution_count": 46,
     "metadata": {},
     "output_type": "execute_result"
    }
   ],
   "source": [
    "my_dictionary"
   ]
  },
  {
   "cell_type": "code",
   "execution_count": 50,
   "id": "1d22349b-9f96-45a2-b230-90ad5b9b1922",
   "metadata": {},
   "outputs": [
    {
     "data": {
      "text/plain": [
       "{'Name': 'John', 'Age': 31, 'Qualification': 'Masters'}"
      ]
     },
     "execution_count": 50,
     "metadata": {},
     "output_type": "execute_result"
    }
   ],
   "source": [
    "my_dictionary.update({\"Qualification\":\"Masters\"})\n",
    "my_dictionary"
   ]
  },
  {
   "cell_type": "code",
   "execution_count": 52,
   "id": "02588096-59c7-429b-9e12-8e0004dbc2f5",
   "metadata": {},
   "outputs": [
    {
     "data": {
      "text/plain": [
       "{'Name': 'John', 'Age': 31}"
      ]
     },
     "execution_count": 52,
     "metadata": {},
     "output_type": "execute_result"
    }
   ],
   "source": [
    "my_dictionary.popitem()\n",
    "my_dictionary"
   ]
  },
  {
   "cell_type": "code",
   "execution_count": 53,
   "id": "f4bff6c3-1970-4ff0-8f1f-92082eee591c",
   "metadata": {},
   "outputs": [
    {
     "data": {
      "text/plain": [
       "{'Name': 'John', 'Age': 31, 'Qualification': 'Masters'}"
      ]
     },
     "execution_count": 53,
     "metadata": {},
     "output_type": "execute_result"
    }
   ],
   "source": [
    "my_dictionary.update({\"Qualification\":\"Masters\"})\n",
    "my_dictionary"
   ]
  },
  {
   "cell_type": "code",
   "execution_count": 54,
   "id": "faa53f62-5e69-46ef-9e76-59d409d8ca2f",
   "metadata": {},
   "outputs": [
    {
     "data": {
      "text/plain": [
       "{}"
      ]
     },
     "execution_count": 54,
     "metadata": {},
     "output_type": "execute_result"
    }
   ],
   "source": [
    "my_dictionary.clear()\n",
    "my_dictionary"
   ]
  },
  {
   "cell_type": "code",
   "execution_count": 56,
   "id": "e0f8f337-4361-4cd5-ad33-d91d80e0e8c8",
   "metadata": {},
   "outputs": [
    {
     "data": {
      "text/plain": [
       "{'Name': 'John', 'Age': 31, 'Qualification': 'Masters'}"
      ]
     },
     "execution_count": 56,
     "metadata": {},
     "output_type": "execute_result"
    }
   ],
   "source": [
    "my_dictionary.update({\"Name\":\"John\", \"Age\":31, \"Qualification\":\"Masters\"})\n",
    "my_dictionary"
   ]
  },
  {
   "cell_type": "code",
   "execution_count": 57,
   "id": "fb6f2f97-c07e-4f4d-96df-d37b27ad9214",
   "metadata": {},
   "outputs": [
    {
     "data": {
      "text/plain": [
       "'John'"
      ]
     },
     "execution_count": 57,
     "metadata": {},
     "output_type": "execute_result"
    }
   ],
   "source": [
    "my_dictionary.setdefault(\"Name\")"
   ]
  },
  {
   "cell_type": "code",
   "execution_count": 58,
   "id": "9dfe0a8e-7838-40c1-a3b8-2fc8947a3394",
   "metadata": {},
   "outputs": [
    {
     "data": {
      "text/plain": [
       "{'Name': 'John', 'Age': 31, 'Qualification': 'Masters'}"
      ]
     },
     "execution_count": 58,
     "metadata": {},
     "output_type": "execute_result"
    }
   ],
   "source": [
    "my_dictionary"
   ]
  },
  {
   "cell_type": "code",
   "execution_count": 59,
   "id": "b4520cdc-b4a7-4588-a6f8-92efb9346f29",
   "metadata": {},
   "outputs": [
    {
     "data": {
      "text/plain": [
       "{'Name': 'John', 'Age': 31, 'Qualification': 'Masters', 'Salary': None}"
      ]
     },
     "execution_count": 59,
     "metadata": {},
     "output_type": "execute_result"
    }
   ],
   "source": [
    "my_dictionary.setdefault(\"Salary\")\n",
    "my_dictionary"
   ]
  },
  {
   "cell_type": "code",
   "execution_count": 63,
   "id": "b5af426c-4ad4-49da-83e4-565461211675",
   "metadata": {},
   "outputs": [],
   "source": [
    "my_dictionary.setdefault(\"Salary\", 79000)"
   ]
  },
  {
   "cell_type": "code",
   "execution_count": 64,
   "id": "856e17c0-7efc-4fb3-944e-b409523b5292",
   "metadata": {},
   "outputs": [
    {
     "data": {
      "text/plain": [
       "{'Name': 'John', 'Age': 31, 'Qualification': 'Masters', 'Salary': None}"
      ]
     },
     "execution_count": 64,
     "metadata": {},
     "output_type": "execute_result"
    }
   ],
   "source": [
    "my_dictionary"
   ]
  },
  {
   "cell_type": "code",
   "execution_count": 65,
   "id": "f0dd36be-7150-41cc-8b71-0775c99390d6",
   "metadata": {},
   "outputs": [
    {
     "data": {
      "text/plain": [
       "{'Name': 'John', 'Age': 31, 'Qualification': 'Masters'}"
      ]
     },
     "execution_count": 65,
     "metadata": {},
     "output_type": "execute_result"
    }
   ],
   "source": [
    "my_dictionary.popitem()\n",
    "my_dictionary"
   ]
  },
  {
   "cell_type": "code",
   "execution_count": 66,
   "id": "d3483039-5ed0-4ebc-bfce-759eec8c4f5a",
   "metadata": {},
   "outputs": [
    {
     "data": {
      "text/plain": [
       "{'Name': 'John', 'Age': 31, 'Qualification': 'Masters', 'Salary': 78000}"
      ]
     },
     "execution_count": 66,
     "metadata": {},
     "output_type": "execute_result"
    }
   ],
   "source": [
    "my_dictionary.setdefault(\"Salary\", 78000)\n",
    "my_dictionary"
   ]
  },
  {
   "cell_type": "code",
   "execution_count": 67,
   "id": "db33cf18-781f-4f64-8ac7-3060205ca448",
   "metadata": {},
   "outputs": [
    {
     "data": {
      "text/plain": [
       "['__class__',\n",
       " '__class_getitem__',\n",
       " '__contains__',\n",
       " '__delattr__',\n",
       " '__delitem__',\n",
       " '__dir__',\n",
       " '__doc__',\n",
       " '__eq__',\n",
       " '__format__',\n",
       " '__ge__',\n",
       " '__getattribute__',\n",
       " '__getitem__',\n",
       " '__getstate__',\n",
       " '__gt__',\n",
       " '__hash__',\n",
       " '__init__',\n",
       " '__init_subclass__',\n",
       " '__ior__',\n",
       " '__iter__',\n",
       " '__le__',\n",
       " '__len__',\n",
       " '__lt__',\n",
       " '__ne__',\n",
       " '__new__',\n",
       " '__or__',\n",
       " '__reduce__',\n",
       " '__reduce_ex__',\n",
       " '__repr__',\n",
       " '__reversed__',\n",
       " '__ror__',\n",
       " '__setattr__',\n",
       " '__setitem__',\n",
       " '__sizeof__',\n",
       " '__str__',\n",
       " '__subclasshook__',\n",
       " 'clear',\n",
       " 'copy',\n",
       " 'fromkeys',\n",
       " 'get',\n",
       " 'items',\n",
       " 'keys',\n",
       " 'pop',\n",
       " 'popitem',\n",
       " 'setdefault',\n",
       " 'update',\n",
       " 'values']"
      ]
     },
     "execution_count": 67,
     "metadata": {},
     "output_type": "execute_result"
    }
   ],
   "source": [
    "dir({})"
   ]
  },
  {
   "cell_type": "code",
   "execution_count": 68,
   "id": "c4395d09-9dbb-4941-b5ac-b8d6b8338bee",
   "metadata": {},
   "outputs": [
    {
     "data": {
      "text/plain": [
       "{'Name': 'John', 'Age': 31, 'Qualification': 'Masters', 'Salary': 78000}"
      ]
     },
     "execution_count": 68,
     "metadata": {},
     "output_type": "execute_result"
    }
   ],
   "source": [
    "my_dictionary.copy()\n",
    "my_dictionary"
   ]
  },
  {
   "cell_type": "code",
   "execution_count": 69,
   "id": "4843bc19-5dde-4f69-99f2-c75bfabe1938",
   "metadata": {},
   "outputs": [],
   "source": [
    "permission = [\"Write\", \"Delete\", \"Update\", \"Create\", \"Copy\"]"
   ]
  },
  {
   "cell_type": "code",
   "execution_count": 80,
   "id": "2566a5b2-6655-4b5a-b5d8-e0a362f36643",
   "metadata": {},
   "outputs": [
    {
     "data": {
      "text/plain": [
       "{'Write': 'Not Allowed',\n",
       " 'Delete': 'Not Allowed',\n",
       " 'Update': 'Not Allowed',\n",
       " 'Create': 'Not Allowed',\n",
       " 'Copy': 'Not Allowed'}"
      ]
     },
     "execution_count": 80,
     "metadata": {},
     "output_type": "execute_result"
    }
   ],
   "source": [
    "dict.fromkeys(permission, \"Not Allowed\")"
   ]
  },
  {
   "cell_type": "code",
   "execution_count": 82,
   "id": "a8c18eef-c535-4268-95d7-63750f39e0a8",
   "metadata": {},
   "outputs": [],
   "source": [
    "library = {\n",
    "    \"Fiction\": {\"books\": [\"Harry Potter\", \"Lord of the Rings\"]},\n",
    "    \"Science\": {\"books\": [\"Physics Fundamentals\", \"Chemistry 101\"]},\n",
    "    \"History\": {\"books\": [\"World War II\", \"Ancient Egypt\"]}\n",
    "}\n"
   ]
  },
  {
   "cell_type": "code",
   "execution_count": 85,
   "id": "069ccb8e-54ca-4916-91b6-6009183a411b",
   "metadata": {},
   "outputs": [
    {
     "data": {
      "text/plain": [
       "'Harry Potter'"
      ]
     },
     "execution_count": 85,
     "metadata": {},
     "output_type": "execute_result"
    }
   ],
   "source": [
    "library[\"Fiction\"][\"books\"][0]"
   ]
  },
  {
   "cell_type": "code",
   "execution_count": 86,
   "id": "687a7ee7-feb4-4e85-8894-889811008145",
   "metadata": {},
   "outputs": [],
   "source": [
    "thisdict = {\n",
    "    \"Model\":\"Probook\",\n",
    "    \"Color\":\"Grey\",\n",
    "    \"Processor\":\"Ryzen\",\n",
    "    \"Release\":\"2019\",\n",
    "    \"Ram Partition\":[\"A\",\"B\",\"C\"],\n",
    "    \"Touch\":False\n",
    "}"
   ]
  },
  {
   "cell_type": "code",
   "execution_count": 87,
   "id": "f4f3dfe1-3c68-49b1-8b1a-0e092f52a6f4",
   "metadata": {},
   "outputs": [
    {
     "data": {
      "text/plain": [
       "{'Model': 'Probook',\n",
       " 'Color': 'Grey',\n",
       " 'Processor': 'Ryzen',\n",
       " 'Release': '2019',\n",
       " 'Ram Partition': ['A', 'B', 'C'],\n",
       " 'Touch': False}"
      ]
     },
     "execution_count": 87,
     "metadata": {},
     "output_type": "execute_result"
    }
   ],
   "source": [
    "thisdict"
   ]
  },
  {
   "cell_type": "code",
   "execution_count": 89,
   "id": "d1bb81ec-42aa-4809-95b6-a9472d8906aa",
   "metadata": {},
   "outputs": [
    {
     "data": {
      "text/plain": [
       "{'University': 'Bahria', 'Department': 'Computer Science', 'Section': 'D'}"
      ]
     },
     "execution_count": 89,
     "metadata": {},
     "output_type": "execute_result"
    }
   ],
   "source": [
    "anotherdict = dict(University = \"Bahria\", Department = \"Computer Science\", Section = \"D\")\n",
    "anotherdict"
   ]
  },
  {
   "cell_type": "markdown",
   "id": "8b46e42c-0fe3-44ca-9475-65c3d13b8f9e",
   "metadata": {},
   "source": [
    "## ****Set****"
   ]
  },
  {
   "cell_type": "code",
   "execution_count": 90,
   "id": "6c266ab6-a724-46ec-bf9f-0917afc17969",
   "metadata": {},
   "outputs": [
    {
     "name": "stdout",
     "output_type": "stream",
     "text": [
      "{1, 2, 3, 4, 5, 7}\n"
     ]
    }
   ],
   "source": [
    "numbers = {1,1,1,2,4,3,5,7}\n",
    "print(numbers)"
   ]
  },
  {
   "cell_type": "code",
   "execution_count": 91,
   "id": "8b50131c-7dd6-461e-bb0d-261c6723d983",
   "metadata": {},
   "outputs": [
    {
     "name": "stdout",
     "output_type": "stream",
     "text": [
      "True\n",
      "False\n"
     ]
    }
   ],
   "source": [
    "print(2 in numbers)\n",
    "print(6 in numbers)"
   ]
  },
  {
   "cell_type": "code",
   "execution_count": 93,
   "id": "d85d6d57-ee70-4412-957f-8ce8d8b580a0",
   "metadata": {},
   "outputs": [
    {
     "data": {
      "text/plain": [
       "['__and__',\n",
       " '__class__',\n",
       " '__class_getitem__',\n",
       " '__contains__',\n",
       " '__delattr__',\n",
       " '__dir__',\n",
       " '__doc__',\n",
       " '__eq__',\n",
       " '__format__',\n",
       " '__ge__',\n",
       " '__getattribute__',\n",
       " '__getstate__',\n",
       " '__gt__',\n",
       " '__hash__',\n",
       " '__iand__',\n",
       " '__init__',\n",
       " '__init_subclass__',\n",
       " '__ior__',\n",
       " '__isub__',\n",
       " '__iter__',\n",
       " '__ixor__',\n",
       " '__le__',\n",
       " '__len__',\n",
       " '__lt__',\n",
       " '__ne__',\n",
       " '__new__',\n",
       " '__or__',\n",
       " '__rand__',\n",
       " '__reduce__',\n",
       " '__reduce_ex__',\n",
       " '__repr__',\n",
       " '__ror__',\n",
       " '__rsub__',\n",
       " '__rxor__',\n",
       " '__setattr__',\n",
       " '__sizeof__',\n",
       " '__str__',\n",
       " '__sub__',\n",
       " '__subclasshook__',\n",
       " '__xor__',\n",
       " 'add',\n",
       " 'clear',\n",
       " 'copy',\n",
       " 'difference',\n",
       " 'difference_update',\n",
       " 'discard',\n",
       " 'intersection',\n",
       " 'intersection_update',\n",
       " 'isdisjoint',\n",
       " 'issubset',\n",
       " 'issuperset',\n",
       " 'pop',\n",
       " 'remove',\n",
       " 'symmetric_difference',\n",
       " 'symmetric_difference_update',\n",
       " 'union',\n",
       " 'update']"
      ]
     },
     "execution_count": 93,
     "metadata": {},
     "output_type": "execute_result"
    }
   ],
   "source": [
    "dir(set)"
   ]
  },
  {
   "cell_type": "code",
   "execution_count": 94,
   "id": "b856d74b-d6c0-4f47-90c0-e263c299f019",
   "metadata": {},
   "outputs": [],
   "source": [
    "a = {1,4,6,7}\n",
    "b = {1,44,1,9,13}"
   ]
  },
  {
   "cell_type": "code",
   "execution_count": 144,
   "id": "54bcd85f-c497-4b95-996b-b6cf1c07c0bd",
   "metadata": {},
   "outputs": [
    {
     "data": {
      "text/plain": [
       "{1, 4, 6, 7, 9}"
      ]
     },
     "execution_count": 144,
     "metadata": {},
     "output_type": "execute_result"
    }
   ],
   "source": [
    "set.add(a, 9)\n",
    "a"
   ]
  },
  {
   "cell_type": "code",
   "execution_count": 96,
   "id": "f197b401-f684-483d-9be6-37b813debc5e",
   "metadata": {},
   "outputs": [
    {
     "data": {
      "text/plain": [
       "set()"
      ]
     },
     "execution_count": 96,
     "metadata": {},
     "output_type": "execute_result"
    }
   ],
   "source": [
    "set.clear(b)\n",
    "b"
   ]
  },
  {
   "cell_type": "code",
   "execution_count": 97,
   "id": "b4327d89-8e53-4ed3-af62-4a388af8075c",
   "metadata": {},
   "outputs": [
    {
     "data": {
      "text/plain": [
       "{1, 4, 6, 7, 9}"
      ]
     },
     "execution_count": 97,
     "metadata": {},
     "output_type": "execute_result"
    }
   ],
   "source": [
    "set.copy(a)\n",
    "a"
   ]
  },
  {
   "cell_type": "code",
   "execution_count": 98,
   "id": "1fa8a286-8f99-468a-85a6-7efa00fab1f8",
   "metadata": {},
   "outputs": [],
   "source": [
    "d = {11,38,12,15,17}\n",
    "e = {11,17,15,12}"
   ]
  },
  {
   "cell_type": "code",
   "execution_count": 99,
   "id": "0d7d40b9-ba6e-4623-b1df-0b5c8cb3e9fe",
   "metadata": {},
   "outputs": [
    {
     "data": {
      "text/plain": [
       "{38}"
      ]
     },
     "execution_count": 99,
     "metadata": {},
     "output_type": "execute_result"
    }
   ],
   "source": [
    "d.difference(e)"
   ]
  },
  {
   "cell_type": "code",
   "execution_count": 100,
   "id": "eaa477b9-1248-4c75-9d78-89c3c0d0640b",
   "metadata": {},
   "outputs": [],
   "source": [
    "d = {11,38,12,15,17}\n",
    "e = {11,17,15,12}"
   ]
  },
  {
   "cell_type": "code",
   "execution_count": 102,
   "id": "4e8abfc5-a176-4848-a096-560225556238",
   "metadata": {},
   "outputs": [
    {
     "name": "stdout",
     "output_type": "stream",
     "text": [
      "{38}\n"
     ]
    }
   ],
   "source": [
    "d.difference_update(e)\n",
    "print(d)"
   ]
  },
  {
   "cell_type": "code",
   "execution_count": 108,
   "id": "3e4bc7f0-9e82-4b15-aa1d-53d038215c6e",
   "metadata": {},
   "outputs": [],
   "source": [
    "f = {1,2,5,6}"
   ]
  },
  {
   "cell_type": "code",
   "execution_count": 109,
   "id": "0d87569d-d858-4913-83e0-c5c0cd37190b",
   "metadata": {},
   "outputs": [
    {
     "data": {
      "text/plain": [
       "{1, 2, 6}"
      ]
     },
     "execution_count": 109,
     "metadata": {},
     "output_type": "execute_result"
    }
   ],
   "source": [
    "f.discard(5)\n",
    "f"
   ]
  },
  {
   "cell_type": "code",
   "execution_count": 110,
   "id": "f668dbdc-5c23-4f15-bde6-85faf2b71e25",
   "metadata": {},
   "outputs": [],
   "source": [
    "data = {178, 222, 92}"
   ]
  },
  {
   "cell_type": "code",
   "execution_count": 111,
   "id": "6b88392f-949b-4e47-aab8-dc2a96f9aa00",
   "metadata": {},
   "outputs": [
    {
     "data": {
      "text/plain": [
       "{92, 178}"
      ]
     },
     "execution_count": 111,
     "metadata": {},
     "output_type": "execute_result"
    }
   ],
   "source": [
    "data.remove(222)\n",
    "data"
   ]
  },
  {
   "cell_type": "code",
   "execution_count": 113,
   "id": "aef3efad-d9a4-4675-b7a5-caabcfdca69f",
   "metadata": {},
   "outputs": [
    {
     "data": {
      "text/plain": [
       "{'Anthony', 'James', 'Richard'}"
      ]
     },
     "execution_count": 113,
     "metadata": {},
     "output_type": "execute_result"
    }
   ],
   "source": [
    "using_pop = {\"James\", \"Anthony\", \"John\", \"Richard\"}\n",
    "using_pop.pop()\n",
    "using_pop"
   ]
  },
  {
   "cell_type": "code",
   "execution_count": 116,
   "id": "19125aa1-2501-4861-81ac-3a82959cf292",
   "metadata": {},
   "outputs": [],
   "source": [
    "pak = {322, 166, 234}\n",
    "sa = {422, 166, 398}"
   ]
  },
  {
   "cell_type": "code",
   "execution_count": 117,
   "id": "8a20480c-02fe-48c9-93da-1a16ee20bf4f",
   "metadata": {},
   "outputs": [
    {
     "data": {
      "text/plain": [
       "{166}"
      ]
     },
     "execution_count": 117,
     "metadata": {},
     "output_type": "execute_result"
    }
   ],
   "source": [
    "pak.intersection(pak, sa)"
   ]
  },
  {
   "cell_type": "code",
   "execution_count": 123,
   "id": "f70aed4f-773f-4ece-93b7-2f6f5a8c175b",
   "metadata": {},
   "outputs": [],
   "source": [
    "f = {21, 22, 29, 20}\n",
    "g = {13, 23, 20, 30}\n",
    "f.intersection_update(f, g)"
   ]
  },
  {
   "cell_type": "code",
   "execution_count": 124,
   "id": "39cf4d93-5a2b-445a-adce-2409aacd7769",
   "metadata": {},
   "outputs": [
    {
     "name": "stdout",
     "output_type": "stream",
     "text": [
      "{20}\n"
     ]
    }
   ],
   "source": [
    "print(f)"
   ]
  },
  {
   "cell_type": "code",
   "execution_count": 125,
   "id": "ad8ebc70-423b-4397-bbb9-a3715544a028",
   "metadata": {},
   "outputs": [],
   "source": [
    "f = {21, 22, 29, 20}\n",
    "g = {13, 23, 20, 30}"
   ]
  },
  {
   "cell_type": "code",
   "execution_count": 126,
   "id": "d754d078-93c9-4697-b569-e2af3573c559",
   "metadata": {},
   "outputs": [
    {
     "data": {
      "text/plain": [
       "{13, 20, 21, 22, 23, 29, 30}"
      ]
     },
     "execution_count": 126,
     "metadata": {},
     "output_type": "execute_result"
    }
   ],
   "source": [
    "f.union(f,g)"
   ]
  },
  {
   "cell_type": "code",
   "execution_count": 128,
   "id": "f1217619-5ae6-4504-8f9c-08ac4dac0780",
   "metadata": {},
   "outputs": [
    {
     "data": {
      "text/plain": [
       "{13, 20, 21, 22, 23, 29, 30}"
      ]
     },
     "execution_count": 128,
     "metadata": {},
     "output_type": "execute_result"
    }
   ],
   "source": [
    "f.update(f, g)\n",
    "f"
   ]
  },
  {
   "cell_type": "code",
   "execution_count": 130,
   "id": "ad2aed22-99a9-4ce3-81b3-fce57851a2e9",
   "metadata": {},
   "outputs": [
    {
     "data": {
      "text/plain": [
       "{21, 22, 29}"
      ]
     },
     "execution_count": 130,
     "metadata": {},
     "output_type": "execute_result"
    }
   ],
   "source": [
    "f.symmetric_difference(g)"
   ]
  },
  {
   "cell_type": "code",
   "execution_count": 134,
   "id": "93d2a1f6-b02c-4dd3-81e9-40979458d253",
   "metadata": {},
   "outputs": [],
   "source": [
    "num1 = {10, 13, 14}\n",
    "num2 = {10, 14}"
   ]
  },
  {
   "cell_type": "code",
   "execution_count": 135,
   "id": "13fbbad0-aaf1-4e7c-8c6a-de3d8a75d513",
   "metadata": {},
   "outputs": [],
   "source": [
    "num1.symmetric_difference_update(num2)"
   ]
  },
  {
   "cell_type": "code",
   "execution_count": 136,
   "id": "2bbe0b2e-996b-4bdc-91ec-a1ea820bb7f0",
   "metadata": {},
   "outputs": [
    {
     "name": "stdout",
     "output_type": "stream",
     "text": [
      "{13}\n"
     ]
    }
   ],
   "source": [
    "print(num1)"
   ]
  },
  {
   "cell_type": "code",
   "execution_count": 138,
   "id": "4872be28-0e10-4ed7-b08c-8dec0fb14859",
   "metadata": {},
   "outputs": [
    {
     "name": "stdout",
     "output_type": "stream",
     "text": [
      "True\n"
     ]
    }
   ],
   "source": [
    "num3 = {12, 14, 15}\n",
    "num4 = {16, 18, 19}\n",
    "print(num3.isdisjoint(num4))"
   ]
  },
  {
   "cell_type": "code",
   "execution_count": 140,
   "id": "ce9fdc6e-6a3d-4ebb-92bf-63818a1ad386",
   "metadata": {},
   "outputs": [
    {
     "name": "stdout",
     "output_type": "stream",
     "text": [
      "True\n"
     ]
    }
   ],
   "source": [
    "num5 = {22,27,28}\n",
    "num6 = {22, 28}\n",
    "print(num5.issuperset(num6))"
   ]
  },
  {
   "cell_type": "code",
   "execution_count": 143,
   "id": "47488942-4249-4292-ae49-b5ea0287c47e",
   "metadata": {},
   "outputs": [
    {
     "name": "stdout",
     "output_type": "stream",
     "text": [
      "True\n"
     ]
    }
   ],
   "source": [
    "num7 = {22,27}\n",
    "num8 = {22, 27, 29, 25}\n",
    "print(num7.issubset(num8))"
   ]
  },
  {
   "cell_type": "code",
   "execution_count": 146,
   "id": "f8b44c44-40cf-45eb-8633-0fdfc3c88543",
   "metadata": {},
   "outputs": [
    {
     "name": "stdout",
     "output_type": "stream",
     "text": [
      "{1, 2, 3, 4}\n"
     ]
    }
   ],
   "source": [
    "s1 = {1, 2}\n",
    "s2 = {3, 4}\n",
    "s1.update(s2)\n",
    "print(s1)"
   ]
  },
  {
   "cell_type": "code",
   "execution_count": null,
   "id": "946e9aa0-6498-4349-baca-63da98fb716f",
   "metadata": {},
   "outputs": [],
   "source": []
  }
 ],
 "metadata": {
  "kernelspec": {
   "display_name": "Python [conda env:base] *",
   "language": "python",
   "name": "conda-base-py"
  },
  "language_info": {
   "codemirror_mode": {
    "name": "ipython",
    "version": 3
   },
   "file_extension": ".py",
   "mimetype": "text/x-python",
   "name": "python",
   "nbconvert_exporter": "python",
   "pygments_lexer": "ipython3",
   "version": "3.13.5"
  }
 },
 "nbformat": 4,
 "nbformat_minor": 5
}
