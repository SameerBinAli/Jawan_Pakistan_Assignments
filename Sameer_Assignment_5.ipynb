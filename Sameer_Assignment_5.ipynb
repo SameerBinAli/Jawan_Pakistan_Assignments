{
 "cells": [
  {
   "cell_type": "markdown",
   "id": "8aa728bf-e4cd-48bf-b535-071e59ce4aee",
   "metadata": {},
   "source": [
    "# ***Question No.1***"
   ]
  },
  {
   "cell_type": "markdown",
   "id": "8f983e1f-9b2b-4c05-890b-074b04b65147",
   "metadata": {},
   "source": [
    "Q1. An e-commerce store stores information about its products in a nested dictionary. The outer dictionary uses product IDs as keys, and the inner dictionary stores product details like name, category, price, and stock quantity. products = { 101: {\"name\": \"Laptop\", \"category\": \"Electronics\", \"price\": 1200, \"stock\": 50}, 102: {\"name\": \"Shirt\", \"category\": \"Apparel\", \"price\": 25, \"stock\": 200}, 103: {\"name\": \"Coffee Maker\", \"category\": \"Home Appliances\", \"price\": 80, \"stock\": 30} }\n",
    "\n",
    "• Increase the stock of the \"Shirt\" product (add 50 more units) using increment/decrement operators\n",
    "\n",
    "• Add a new product (e.g., \"Smartphone\")\n",
    "\n",
    "Expected Output:\n",
    "\n",
    "{101: {'name': 'Laptop', 'category': 'Electronics', 'price': 1200, 'stock': 50}, 102: {'name': 'Shirt', 'category': 'Apparel', 'price': 25, 'stock': 250}, 103: {'name': 'Coffee Maker', 'category': 'Home Appliances', 'price': 80, 'stock': 30}}\n",
    "{101: {'name': 'Laptop', 'category': 'Electronics', 'price': 1200, 'stock': 50}, 102: {'name': 'Shirt', 'category': 'Apparel', 'price': 25, 'stock': 250}, 103: {'name': 'Coffee Maker', 'category': 'Home Appliances', 'price': 80, 'stock': 30}, 104: {'name': 'Smartphone', 'category': 'Electronics', 'price': 800, 'stock': 100}}"
   ]
  },
  {
   "cell_type": "markdown",
   "id": "50fabf50-a140-472a-9aee-7272d4cbfb6c",
   "metadata": {},
   "source": [
    "# ***Answer No.1***"
   ]
  },
  {
   "cell_type": "code",
   "execution_count": 1,
   "id": "0a628646-9553-43c9-9af5-f8f0b588af50",
   "metadata": {},
   "outputs": [],
   "source": [
    "products = { \n",
    "    101: {\"name\": \"Laptop\", \"category\": \"Electronics\", \"price\": 1200, \"stock\": 50}, \n",
    "    102: {\"name\": \"Shirt\", \"category\": \"Apparel\", \"price\": 25, \"stock\": 200}, \n",
    "    103: {\"name\": \"Coffee Maker\", \"category\": \"Home Appliances\", \"price\": 80, \"stock\": 30}\n",
    "}"
   ]
  },
  {
   "cell_type": "code",
   "execution_count": 2,
   "id": "b74e39e4-11fb-4811-bcb8-d3ed7a2d5dc7",
   "metadata": {},
   "outputs": [],
   "source": [
    "products[102][\"stock\"]+=50"
   ]
  },
  {
   "cell_type": "code",
   "execution_count": 3,
   "id": "b2fe3dad-f883-49c6-a53d-305af0ac3436",
   "metadata": {},
   "outputs": [
    {
     "name": "stdout",
     "output_type": "stream",
     "text": [
      "{101: {'name': 'Laptop', 'category': 'Electronics', 'price': 1200, 'stock': 50}, 102: {'name': 'Shirt', 'category': 'Apparel', 'price': 25, 'stock': 250}, 103: {'name': 'Coffee Maker', 'category': 'Home Appliances', 'price': 80, 'stock': 30}}\n"
     ]
    }
   ],
   "source": [
    "print(products)"
   ]
  },
  {
   "cell_type": "code",
   "execution_count": 4,
   "id": "4856917a-f629-41a5-910e-9a76407bcc8c",
   "metadata": {},
   "outputs": [],
   "source": [
    "products[104] = {'name': 'Smartphone', 'category': 'Electronics', 'price': 800, 'stock': 100}"
   ]
  },
  {
   "cell_type": "code",
   "execution_count": 5,
   "id": "69bd5cfc-5243-43f6-8787-72022de7915f",
   "metadata": {},
   "outputs": [
    {
     "name": "stdout",
     "output_type": "stream",
     "text": [
      "{101: {'name': 'Laptop', 'category': 'Electronics', 'price': 1200, 'stock': 50}, 102: {'name': 'Shirt', 'category': 'Apparel', 'price': 25, 'stock': 250}, 103: {'name': 'Coffee Maker', 'category': 'Home Appliances', 'price': 80, 'stock': 30}, 104: {'name': 'Smartphone', 'category': 'Electronics', 'price': 800, 'stock': 100}}\n"
     ]
    }
   ],
   "source": [
    "print(products)"
   ]
  },
  {
   "cell_type": "markdown",
   "id": "340fa64c-7005-495c-bcf5-15aa0783f40c",
   "metadata": {},
   "source": [
    "# ***Question No.2***"
   ]
  },
  {
   "cell_type": "markdown",
   "id": "66309159-f1d7-46c8-a618-ed5ef872a240",
   "metadata": {},
   "source": [
    "Q2. You are given a list that contains some duplicate items. Remove the duplicates by converting the list to a set. Final output should be in list\n",
    "\n",
    "shopping_list = [\"apple\", \"banana\", \"apple\", \"orange\", \"banana\", \"grape\"]\n",
    "\n",
    "Expected Output:\n",
    "['apple', 'grape', 'banana', 'orange']"
   ]
  },
  {
   "cell_type": "markdown",
   "id": "72827e68-999f-4028-bf25-d7be84dc3499",
   "metadata": {},
   "source": [
    "# ***Answer No.2***"
   ]
  },
  {
   "cell_type": "code",
   "execution_count": 6,
   "id": "3ae2e958-e6fd-4f05-8993-277a65f9ac79",
   "metadata": {},
   "outputs": [],
   "source": [
    "shopping_list = [\"apple\", \"banana\", \"apple\", \"orange\", \"banana\", \"grape\"]"
   ]
  },
  {
   "cell_type": "code",
   "execution_count": 7,
   "id": "026b5906-ba40-4180-8370-42538f7687e0",
   "metadata": {},
   "outputs": [],
   "source": [
    "shopping_list_new = list(set(shopping_list))"
   ]
  },
  {
   "cell_type": "code",
   "execution_count": 8,
   "id": "dc220fbd-1a9d-432d-81d9-bc8062c08467",
   "metadata": {},
   "outputs": [
    {
     "name": "stdout",
     "output_type": "stream",
     "text": [
      "['grape', 'banana', 'apple', 'orange']\n"
     ]
    }
   ],
   "source": [
    "print(shopping_list_new)"
   ]
  },
  {
   "cell_type": "markdown",
   "id": "1d8458cc-8e10-440e-b709-9a58f20985f7",
   "metadata": {},
   "source": [
    "# ***Question No.3***"
   ]
  },
  {
   "cell_type": "markdown",
   "id": "ba2a9c55-651f-4b2f-9107-d8d6a4644ff5",
   "metadata": {},
   "source": [
    "Q3. You are managing a list of students enrolled in two different courses. You need to perform various set operations to understand the student enrollment. Task: Create two sets: one for students in \"Course A\" and one for students in \"Course B\". Find the students who are in \"Course A\" but not in \"Course B\" (difference). Find students who are only in one of the two courses (symmetric difference). course_a = {\"John\", \"Alice\", \"Bob\", \"David\"} course_b = {\"Alice\", \"Eve\", \"Charlie\", \"David\"}\n",
    "\n",
    "Using set methods\n",
    "\n",
    "• Find students who are in Course A but not in Course B (difference)\n",
    "\n",
    "• Find students who are only in one of the two courses (symmetric difference)\n",
    "\n",
    "Expected Output:\n",
    "\n",
    "Students in Course A but not in Course B: {'Bob', 'John'}\n",
    "\n",
    "Students only in one of the two courses: {'Eve', 'John', 'Bob', 'Charlie'}\n"
   ]
  },
  {
   "cell_type": "markdown",
   "id": "ae3b7429-adc4-4cf3-ad43-21775bee8777",
   "metadata": {},
   "source": [
    "# ***Answer No.3***"
   ]
  },
  {
   "cell_type": "code",
   "execution_count": 9,
   "id": "2ae60b55-a2b8-40f3-b143-04d3b6480e0b",
   "metadata": {},
   "outputs": [],
   "source": [
    "course_a = {\"John\", \"Alice\", \"Bob\", \"David\"}\n",
    "course_b = {\"Alice\", \"Eve\", \"Charlie\", \"David\"}"
   ]
  },
  {
   "cell_type": "code",
   "execution_count": 10,
   "id": "ea8f6bd8-c2d6-4f7c-b2a0-72a547ff0225",
   "metadata": {},
   "outputs": [],
   "source": [
    "#Finding students who are in course_a but not in course_b through difference method."
   ]
  },
  {
   "cell_type": "code",
   "execution_count": 11,
   "id": "8730cefa-34ca-4c24-bc9c-3044c4654878",
   "metadata": {},
   "outputs": [
    {
     "name": "stdout",
     "output_type": "stream",
     "text": [
      "Students in Course A but not in Course B: {'John', 'Bob'}\n"
     ]
    }
   ],
   "source": [
    "print(\"Students in Course A but not in Course B:\" , course_a.difference(course_b))"
   ]
  },
  {
   "cell_type": "code",
   "execution_count": 12,
   "id": "8f37c06c-6512-4ddf-9675-f2c0789098be",
   "metadata": {},
   "outputs": [],
   "source": [
    "#Finding students who are only in one of the two courses through symmetric_difference method."
   ]
  },
  {
   "cell_type": "code",
   "execution_count": 13,
   "id": "497a49b9-5624-4861-808c-b57935a8b945",
   "metadata": {},
   "outputs": [
    {
     "name": "stdout",
     "output_type": "stream",
     "text": [
      "Students only in one of the two courses: {'Bob', 'John', 'Charlie', 'Eve'}\n"
     ]
    }
   ],
   "source": [
    "print(\"Students only in one of the two courses:\", course_a.symmetric_difference(course_b))"
   ]
  },
  {
   "cell_type": "markdown",
   "id": "01fce896-a86d-4fdc-967a-90f1022ac8c2",
   "metadata": {},
   "source": [
    "# ***Question No.4***"
   ]
  },
  {
   "cell_type": "markdown",
   "id": "63c3d2cb-cfe1-476c-a4fe-4961c339aa18",
   "metadata": {},
   "source": [
    "Q4. Write a Python program to store and display the details of a book.\n",
    "\n",
    "The program should ask the user to input the following information:\n",
    "\n",
    "Title of the book\n",
    "\n",
    "Author’s name\n",
    "\n",
    "Year of publication\n",
    "\n",
    "Price of the booK\n",
    "\n",
    "Store the entered details in a tuple.\n",
    "\n",
    "Finally, display the book details in a proper format as shown below:\n",
    "\n",
    "Expected Output:\n",
    "\n",
    "Title: Harry Potter\n",
    "\n",
    "Author: JK Rowlings\n",
    "\n",
    "Year of Publication: 2000\n",
    "\n",
    "Price: $180.0"
   ]
  },
  {
   "cell_type": "markdown",
   "id": "51e9da8d-545e-4a14-890e-67aafa12033a",
   "metadata": {},
   "source": [
    "# ***Answer No.4***"
   ]
  },
  {
   "cell_type": "code",
   "execution_count": 14,
   "id": "64673270-644b-4193-a746-e2c849e652ab",
   "metadata": {},
   "outputs": [
    {
     "name": "stdin",
     "output_type": "stream",
     "text": [
      "Title of the Book: Harry Potter\n"
     ]
    }
   ],
   "source": [
    "title = input(\"Title of the Book:\")"
   ]
  },
  {
   "cell_type": "code",
   "execution_count": 15,
   "id": "667777f3-df4d-4da8-ad57-60d0df060247",
   "metadata": {},
   "outputs": [
    {
     "name": "stdin",
     "output_type": "stream",
     "text": [
      "Name of Author: Jk Rowlings\n"
     ]
    }
   ],
   "source": [
    "author = input(\"Name of Author:\")"
   ]
  },
  {
   "cell_type": "code",
   "execution_count": 16,
   "id": "677627e7-b200-40e3-a24f-8c83db981c97",
   "metadata": {},
   "outputs": [
    {
     "name": "stdin",
     "output_type": "stream",
     "text": [
      "Year of Publication: 2000\n"
     ]
    }
   ],
   "source": [
    "year = input(\"Year of Publication:\")"
   ]
  },
  {
   "cell_type": "code",
   "execution_count": 17,
   "id": "a11f24fc-1483-4545-be20-ed14cc0bd6ee",
   "metadata": {},
   "outputs": [
    {
     "name": "stdin",
     "output_type": "stream",
     "text": [
      "Price of the Book: $180.0\n"
     ]
    }
   ],
   "source": [
    "price = input(\"Price of the Book:\")"
   ]
  },
  {
   "cell_type": "code",
   "execution_count": 18,
   "id": "bb89dd7f-8f28-4969-8891-d2a1fec61222",
   "metadata": {},
   "outputs": [],
   "source": [
    "details = (title, author, year, price)"
   ]
  },
  {
   "cell_type": "code",
   "execution_count": 19,
   "id": "6bae1244-04c3-400c-9b29-6ca7efd723d5",
   "metadata": {},
   "outputs": [
    {
     "name": "stdout",
     "output_type": "stream",
     "text": [
      "Title: Harry Potter\n",
      "Author: Jk Rowlings\n",
      "Year of Publication: 2000\n",
      "Price: $180.0\n"
     ]
    }
   ],
   "source": [
    "print(f\"Title: {details[0]}\\nAuthor: {details[1]}\\nYear of Publication: {details[2]}\\nPrice: {details[3]}\")"
   ]
  },
  {
   "cell_type": "markdown",
   "id": "7813acd3-db77-489a-a219-632df7d2861e",
   "metadata": {},
   "source": [
    "# ***Question No.5***"
   ]
  },
  {
   "cell_type": "markdown",
   "id": "72083eff-b024-4f49-893d-66979ef8981f",
   "metadata": {},
   "source": [
    "Q5. Write a program to check if a user’s chosen subject is available in the list of offered subjects.\n",
    "\n",
    "Instructions:\n",
    "\n",
    "Given a list of subjects, ask the user to input a subject.\n",
    "\n",
    "Display whether the subject is available or not.\n",
    "\n",
    "Expected Output:\n",
    "\n",
    "Enter the subject you are interested in:  art\n",
    "\n",
    "art is available."
   ]
  },
  {
   "cell_type": "markdown",
   "id": "baf098da-ea53-4b78-aa25-592b091ea9b6",
   "metadata": {},
   "source": [
    "# ***Answer No.5***"
   ]
  },
  {
   "cell_type": "code",
   "execution_count": 20,
   "id": "94b4938e-8efd-4cd3-9ef5-4d480b737c8b",
   "metadata": {},
   "outputs": [],
   "source": [
    "subjects = [\"art\", \"commerce\", \"science\", \"econnomics\", \"computer\", \"maths\", \"biology\", \"physics\"]"
   ]
  },
  {
   "cell_type": "code",
   "execution_count": 21,
   "id": "3ef78cef-3acc-4e5a-bd9a-c64fd9121fb2",
   "metadata": {},
   "outputs": [
    {
     "name": "stdin",
     "output_type": "stream",
     "text": [
      "Enter the subject you are interested in: art\n"
     ]
    }
   ],
   "source": [
    "subject_recall = input(\"Enter the subject you are interested in:\").lower()"
   ]
  },
  {
   "cell_type": "code",
   "execution_count": 22,
   "id": "712180cf-c21b-43e7-b2e7-d232d619ebb1",
   "metadata": {},
   "outputs": [
    {
     "name": "stdout",
     "output_type": "stream",
     "text": [
      "art is available\n"
     ]
    }
   ],
   "source": [
    "if subject_recall in subjects:\n",
    "    print(f\"{subject_recall} is available\")\n",
    "\n",
    "else:\n",
    "    print(f\"not available\")"
   ]
  },
  {
   "cell_type": "markdown",
   "id": "7535f3f6-429d-4df3-b194-1ead7d13d219",
   "metadata": {},
   "source": [
    "# ***Question No.6***"
   ]
  },
  {
   "cell_type": "markdown",
   "id": "046f3471-0e2e-4893-95e5-f89756862236",
   "metadata": {},
   "source": [
    "Q6. Write a Python program that asks the user to enter a number.\n",
    "\n",
    "If the number is greater than 0, print \"Positive\".\n",
    "\n",
    "If the number is less than 0, print \"Negative\".\n",
    "\n",
    "If the number is exactly 0, print \"Zero\".\n",
    "\n",
    "Expected Output:\n",
    "\n",
    "Enter a number:  2\n",
    "\n",
    "The number is Positive\n",
    "\n",
    "---\n",
    "\n",
    "Enter a number:  0\n",
    "\n",
    "The number is Zero\n",
    "\n",
    "---\n",
    "\n",
    "Enter a number:  -1\n",
    "\n",
    "The number is Negative"
   ]
  },
  {
   "cell_type": "markdown",
   "id": "9d03f4b8-8fe4-47be-b05d-59baf5e9b829",
   "metadata": {},
   "source": [
    "# ***Answer No.6***"
   ]
  },
  {
   "cell_type": "code",
   "execution_count": 23,
   "id": "d0ea7df7-a680-4294-8637-db043225cb9b",
   "metadata": {},
   "outputs": [
    {
     "name": "stdin",
     "output_type": "stream",
     "text": [
      "Enter a number: 22\n"
     ]
    }
   ],
   "source": [
    "number = float(input(\"Enter a number:\"))"
   ]
  },
  {
   "cell_type": "code",
   "execution_count": 24,
   "id": "e17b53f5-71aa-4419-9853-3354d8accdc1",
   "metadata": {},
   "outputs": [
    {
     "name": "stdout",
     "output_type": "stream",
     "text": [
      "The number is Positive\n"
     ]
    }
   ],
   "source": [
    "if number > 0:\n",
    "    print(f\"The number is Positive\")\n",
    "elif number < 0:\n",
    "    print(f\"The number is Negative\")\n",
    "else:\n",
    "    print(f\"The number is Zero\")"
   ]
  },
  {
   "cell_type": "markdown",
   "id": "6f384836-1d47-4012-894b-c35ad1fed194",
   "metadata": {},
   "source": [
    "# ***Question No.7***"
   ]
  },
  {
   "cell_type": "markdown",
   "id": "9b1d77c0-33c2-46a6-b90c-5cd0a0491f08",
   "metadata": {},
   "source": [
    "Q7. Write a Python program that simulates a simple login system.\n",
    "\n",
    "The correct username is 'admin' and the correct password is 'admin@123'\n",
    "\n",
    "The program should take username and password as input from the user.\n",
    "\n",
    "It should check the input and display messages according to the following conditions:\n",
    "\n",
    "- If both username and password are correct → print \"Login Successful\".\n",
    "\n",
    "- If username is wrong but password is correct → print \"Invalid Username\".\n",
    "\n",
    "- If username is correct but password is wrong → print \"Invalid Password\".\n",
    "\n",
    "- If both username and password are wrong → print \"Invalid Username and Password\"."
   ]
  },
  {
   "cell_type": "markdown",
   "id": "0d61d5dc-addb-42ec-8878-05d9f6306a8f",
   "metadata": {},
   "source": [
    "# ***Answer No.7***"
   ]
  },
  {
   "cell_type": "code",
   "execution_count": 25,
   "id": "addaae73-482f-4d00-8094-8e79b79207c4",
   "metadata": {},
   "outputs": [],
   "source": [
    "username = \"admin\""
   ]
  },
  {
   "cell_type": "code",
   "execution_count": 26,
   "id": "e1f85fb1-7a4d-4555-84bf-e8124e96c60b",
   "metadata": {},
   "outputs": [],
   "source": [
    "password = \"admin@123\""
   ]
  },
  {
   "cell_type": "code",
   "execution_count": 27,
   "id": "94f005cb-6f44-4c9f-922c-ca62a64947bd",
   "metadata": {},
   "outputs": [
    {
     "name": "stdin",
     "output_type": "stream",
     "text": [
      "Please Enter Username: admin\n"
     ]
    }
   ],
   "source": [
    "username_input = input(\"Please Enter Username:\")"
   ]
  },
  {
   "cell_type": "code",
   "execution_count": 28,
   "id": "d685e51a-4d5f-464b-b482-23e5a55ca7e6",
   "metadata": {},
   "outputs": [
    {
     "name": "stdin",
     "output_type": "stream",
     "text": [
      "Please Enter Password: admin@123\n"
     ]
    }
   ],
   "source": [
    "password_input = input(\"Please Enter Password:\")"
   ]
  },
  {
   "cell_type": "code",
   "execution_count": 29,
   "id": "ae30f0ae-7501-469a-bdba-e150cb7c1cdb",
   "metadata": {},
   "outputs": [
    {
     "name": "stdout",
     "output_type": "stream",
     "text": [
      "Login Successful\n"
     ]
    }
   ],
   "source": [
    "if username_input == username and password_input == password:\n",
    "    print(f\"Login Successful\")\n",
    "elif username_input != username and password_input == password:\n",
    "    print(f\"Invalid Username\")\n",
    "elif username_input == username and password_input != password:\n",
    "    print(f\"Invalid Password\")\n",
    "elif username_input != username and password_input != password:\n",
    "    print(f\"Invalid Username and Password\")"
   ]
  },
  {
   "cell_type": "markdown",
   "id": "e4dfaf23-7eff-4150-bb1c-34ba5dfba8b4",
   "metadata": {},
   "source": [
    "# ***Question No.8***"
   ]
  },
  {
   "cell_type": "markdown",
   "id": "b2dc2bff-e7de-4ad4-a226-5fbc0d784dfe",
   "metadata": {},
   "source": [
    "Q8.\n",
    "\n",
    "student_details = {\n",
    "    \"Ali\": {\"age\": 20, \"grade\": \"A\", \"city\": \"Karachi\"},\n",
    "    \"Sara\": {\"age\": 21, \"grade\": \"B\", \"city\": \"Lahore\"},\n",
    "    \"Omar\": {\"age\": 19, \"grade\": \"A\", \"city\": \"Islamabad\"},\n",
    "    \"Hina\": {\"age\": 22, \"grade\": \"C\", \"city\": \"Faisalabad\"}\n",
    "}\n",
    "\n",
    "- Add a new student using method:\n",
    "  \"Zara\": {\"age\": 20, \"grade\": \"B\", \"city\": \"Multan\"}\n",
    "\n",
    "- Remove a student \"Omer\" using method\n",
    "\n",
    "Expected Output:\n",
    "\n",
    "{'Ali': {'age': 20, 'grade': 'A', 'city': 'Karachi'}, 'Sara': {'age': 21, 'grade': 'B', 'city': 'Lahore'}, 'Hina': {'age': 22, 'grade': 'C', 'city': 'Faisalabad'}, 'Zara': {'age': 20, 'grade': 'B', 'city': 'Multan'}}\n",
    "  "
   ]
  },
  {
   "cell_type": "markdown",
   "id": "50174efa-6a11-483c-9258-e9a8ee11b2ce",
   "metadata": {},
   "source": [
    "# ***Answer No.8***"
   ]
  },
  {
   "cell_type": "code",
   "execution_count": 63,
   "id": "30dbc39a-5903-4136-bd1d-c2fc67e5167d",
   "metadata": {},
   "outputs": [],
   "source": [
    "student_details = {\n",
    "    \"Ali\": {\"age\": 20, \"grade\": \"A\", \"city\": \"Karachi\"},\n",
    "    \"Sara\": {\"age\": 21, \"grade\": \"B\", \"city\": \"Lahore\"},\n",
    "    \"Omar\": {\"age\": 19, \"grade\": \"A\", \"city\": \"Islamabad\"},\n",
    "    \"Hina\": {\"age\": 22, \"grade\": \"C\", \"city\": \"Faisalabad\"}\n",
    "}"
   ]
  },
  {
   "cell_type": "code",
   "execution_count": 64,
   "id": "ec821caa-cb1e-4078-8fd2-a1f3d89d9479",
   "metadata": {},
   "outputs": [],
   "source": [
    "#Adding a new student by method"
   ]
  },
  {
   "cell_type": "code",
   "execution_count": 65,
   "id": "9f806a07-37d2-4c0e-8753-48a3b6dde48f",
   "metadata": {},
   "outputs": [],
   "source": [
    "student_details.update({\"Zara\": {\"age\": 20, \"grade\": \"B\", \"city\": \"Multan\"}})"
   ]
  },
  {
   "cell_type": "code",
   "execution_count": 66,
   "id": "c0f0ffaf-a580-49a5-a023-b7f87d0003dd",
   "metadata": {},
   "outputs": [
    {
     "data": {
      "text/plain": [
       "{'Ali': {'age': 20, 'grade': 'A', 'city': 'Karachi'},\n",
       " 'Sara': {'age': 21, 'grade': 'B', 'city': 'Lahore'},\n",
       " 'Omar': {'age': 19, 'grade': 'A', 'city': 'Islamabad'},\n",
       " 'Hina': {'age': 22, 'grade': 'C', 'city': 'Faisalabad'},\n",
       " 'Zara': {'age': 20, 'grade': 'B', 'city': 'Multan'}}"
      ]
     },
     "execution_count": 66,
     "metadata": {},
     "output_type": "execute_result"
    }
   ],
   "source": [
    "student_details"
   ]
  },
  {
   "cell_type": "code",
   "execution_count": 67,
   "id": "9d2b6050-0b39-4262-89a9-c9373f6e8040",
   "metadata": {},
   "outputs": [],
   "source": [
    "#Removing a student by method"
   ]
  },
  {
   "cell_type": "code",
   "execution_count": 68,
   "id": "71c15357-9023-4c81-a231-78f8f6586613",
   "metadata": {},
   "outputs": [],
   "source": [
    "removed_student = student_details.pop(\"Omar\")"
   ]
  },
  {
   "cell_type": "code",
   "execution_count": 69,
   "id": "006b50b4-f41a-4e38-9749-58c41dc94858",
   "metadata": {},
   "outputs": [
    {
     "data": {
      "text/plain": [
       "{'Ali': {'age': 20, 'grade': 'A', 'city': 'Karachi'},\n",
       " 'Sara': {'age': 21, 'grade': 'B', 'city': 'Lahore'},\n",
       " 'Hina': {'age': 22, 'grade': 'C', 'city': 'Faisalabad'},\n",
       " 'Zara': {'age': 20, 'grade': 'B', 'city': 'Multan'}}"
      ]
     },
     "execution_count": 69,
     "metadata": {},
     "output_type": "execute_result"
    }
   ],
   "source": [
    "student_details"
   ]
  },
  {
   "cell_type": "markdown",
   "id": "7f8124cb-92bf-4d8a-9648-af26998312c3",
   "metadata": {},
   "source": [
    "# ***Question No.9***"
   ]
  },
  {
   "cell_type": "markdown",
   "id": "d3ca0856-b155-4210-bcac-aaded32c6863",
   "metadata": {},
   "source": [
    "Q9. Write program to check a person’s eligibility for a loan based on age, credit score, and income. This time, the eligibility criteria will be:\n",
    "\n",
    "The person must be 18 years or older. The person must have a credit score of 650 or higher. The person must have an annual income of at least 30000 dollars If the person has a credit score of 700 or higher, they may still be eligible with an income of 25000 dollars or more.\n",
    "\n",
    "Expected Output:\n",
    "\n",
    "Enter your age:  22\n",
    "\n",
    "Enter your credit score:  888\n",
    "\n",
    "Enter your annual income: $ 800000\n",
    "\n",
    "You are eligible for the loan!\n",
    "\n",
    "---\n",
    "\n",
    "Enter your age:  15\n",
    "\n",
    "Enter your credit score:  800\n",
    "\n",
    "Enter your annual income: $ 900000\n",
    "\n",
    "You are not eligible for the loan due to age.\n",
    "\n",
    "---\n",
    "\n",
    "Enter your age:  35\n",
    "\n",
    "Enter your credit score:  99\n",
    "\n",
    "Enter your annual income: $ 900000\n",
    "\n",
    "You are not eligible for the loan due to low credit score."
   ]
  },
  {
   "cell_type": "markdown",
   "id": "8b0fd5ce-b7cc-47cb-a980-8006b6dde4d6",
   "metadata": {},
   "source": [
    "# ***Answer No.9***"
   ]
  },
  {
   "cell_type": "code",
   "execution_count": 81,
   "id": "4536ffa0-2907-4a28-85f1-b9faaed24488",
   "metadata": {},
   "outputs": [
    {
     "name": "stdin",
     "output_type": "stream",
     "text": [
      "Enter your age:  15\n"
     ]
    }
   ],
   "source": [
    "age = float(input(\"Enter your age: \"))"
   ]
  },
  {
   "cell_type": "code",
   "execution_count": 82,
   "id": "db442f34-b051-4772-9ced-52bca9ee6cab",
   "metadata": {},
   "outputs": [
    {
     "name": "stdin",
     "output_type": "stream",
     "text": [
      "Enter your credit score: 44444\n"
     ]
    }
   ],
   "source": [
    "credit_score = float(input(\"Enter your credit score:\"))"
   ]
  },
  {
   "cell_type": "code",
   "execution_count": 83,
   "id": "d6de430e-182e-4268-92f9-025328fb3b42",
   "metadata": {},
   "outputs": [
    {
     "name": "stdin",
     "output_type": "stream",
     "text": [
      "Enter your annual income: 22222\n"
     ]
    }
   ],
   "source": [
    "annual_income = float(input(\"Enter your annual income:\"))"
   ]
  },
  {
   "cell_type": "code",
   "execution_count": 84,
   "id": "5f65cfd3-d519-4d3e-bacd-65c67f015a5d",
   "metadata": {},
   "outputs": [
    {
     "name": "stdout",
     "output_type": "stream",
     "text": [
      "You are not eligible for the loan due to age.\n"
     ]
    }
   ],
   "source": [
    "if age < 18:\n",
    "    print(f\"You are not eligible for the loan due to age.\")\n",
    "elif credit_score < 650:\n",
    "    print(f\"You are not eligible for the loan due to low credit score.\")\n",
    "else:\n",
    "    if credit_score >= 700:\n",
    "        if annual_income >= 25000:\n",
    "            print(f\"You are eligible for the loan!\")\n",
    "        else:\n",
    "            print(f\"You are not eligible for the loan due to insufficient annual income\")\n",
    "    else:\n",
    "        if annual_income >= 30000:\n",
    "            print(f\"You are eligible for the loan!\")\n",
    "        else:\n",
    "            print(f\"You are not eligible for the loan due to low annual income.\")\n"
   ]
  },
  {
   "cell_type": "markdown",
   "id": "61253af9-4e4a-494e-ba13-0eefc272b904",
   "metadata": {},
   "source": [
    "# ***Question No.10***"
   ]
  },
  {
   "cell_type": "markdown",
   "id": "a383ffd9-b142-4229-80a3-7f30fee8144b",
   "metadata": {},
   "source": [
    "Q10. Write a Python program to check whether the entered letter is a vowel, a consonant, or invalid input.\n",
    "\n",
    "The program should take a single character as input. If the character is a vowel (a, e, i, o, u in both upper and lower case), it will print \"Vowel\". If it is an alphabet but not a vowel, it will print \"Consonant\". Otherwise, it will print \"Please enter valid alphabet\".\n",
    "\n",
    "Expected Output:\n",
    "\n",
    "Enter a single letter:  a\n",
    "\n",
    "a is a Vowel\n",
    "\n",
    "---\n",
    "\n",
    "Enter a single letter:  E\n",
    "\n",
    "E is a Vowel\n",
    "\n",
    "---\n",
    "\n",
    "Enter a single letter:  z\n",
    "\n",
    "z is a Consonant\n",
    "\n",
    "---\n",
    "\n",
    "Enter a single letter:  7\n",
    "\n",
    "Please enter valid alphabet\n"
   ]
  },
  {
   "cell_type": "markdown",
   "id": "0587adbc-8972-4c9f-96b4-fe10ad5a6439",
   "metadata": {},
   "source": [
    "# ***Answer No.10***"
   ]
  },
  {
   "cell_type": "code",
   "execution_count": 79,
   "id": "50ffc84c-785d-4a50-ab6a-8298fd8a22da",
   "metadata": {},
   "outputs": [
    {
     "name": "stdin",
     "output_type": "stream",
     "text": [
      "Enter a single letter: A\n"
     ]
    }
   ],
   "source": [
    "character = input(\"Enter a single letter:\")"
   ]
  },
  {
   "cell_type": "code",
   "execution_count": 80,
   "id": "0d639436-e820-4f4b-9435-408903107f0c",
   "metadata": {},
   "outputs": [
    {
     "name": "stdout",
     "output_type": "stream",
     "text": [
      "Vowel\n"
     ]
    }
   ],
   "source": [
    "if len(character) != 1:\n",
    "    print(f\"Please enter valid alphabet\")\n",
    "elif not character.isalpha():\n",
    "    print(f\"Please enter valid alphabet\")\n",
    "elif character.lower() in 'aeiou':\n",
    "    print(f\"Vowel\")\n",
    "else: print(f\"Consonant\")"
   ]
  },
  {
   "cell_type": "code",
   "execution_count": null,
   "id": "98580d19-d3ee-45d4-bafe-7fa3eb89206e",
   "metadata": {},
   "outputs": [],
   "source": []
  }
 ],
 "metadata": {
  "kernelspec": {
   "display_name": "Python [conda env:base] *",
   "language": "python",
   "name": "conda-base-py"
  },
  "language_info": {
   "codemirror_mode": {
    "name": "ipython",
    "version": 3
   },
   "file_extension": ".py",
   "mimetype": "text/x-python",
   "name": "python",
   "nbconvert_exporter": "python",
   "pygments_lexer": "ipython3",
   "version": "3.13.5"
  }
 },
 "nbformat": 4,
 "nbformat_minor": 5
}
