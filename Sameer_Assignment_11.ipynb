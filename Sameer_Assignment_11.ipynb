{
 "cells": [
  {
   "cell_type": "code",
   "execution_count": 1,
   "id": "2e3d62a8-1ebd-40a9-a584-afc3d04945f0",
   "metadata": {},
   "outputs": [],
   "source": [
    "import csv\n",
    "\n",
    "with open(\"student data.csv\", mode = \"r\") as open_file:\n",
    "\n",
    "    reader = csv.reader(open_file)\n",
    "\n",
    "    data = list(reader)"
   ]
  },
  {
   "cell_type": "code",
   "execution_count": 2,
   "id": "2d2e4f84-22ac-4ba2-8d36-f73b13c1d890",
   "metadata": {},
   "outputs": [],
   "source": [
    "data[0].extend(['Percentage', 'Grade'])"
   ]
  },
  {
   "cell_type": "code",
   "execution_count": 3,
   "id": "6abc7042-7cba-43c2-bc8d-b6b596b5650f",
   "metadata": {},
   "outputs": [
    {
     "name": "stdout",
     "output_type": "stream",
     "text": [
      "['roll no', 'Name', 'Chemistry', 'Physics', 'Math', 'Percentage', 'Grade']\n",
      "['101', 'Aliza', '50', '23', '87', 53.33, 'D']\n",
      "['102', 'Fareed', '45', '24', '88', 52.33, 'D']\n",
      "['103', 'Basit', '46', '25', '89', 53.33, 'D']\n",
      "['104', 'Abdullah', '47', '26', '90', 54.33, 'D']\n",
      "['105', 'Ali', '48', '27', '67', 47.33, 'F']\n",
      "['106', 'Mubashir', '49', '28', '68', 48.33, 'F']\n",
      "['107', 'Waleed', '50', '29', '69', 49.33, 'F']\n",
      "['108', 'Mansoor', '51', '30', '70', 50.33, 'D']\n",
      "['109', 'Zain', '52', '31', '71', 51.33, 'D']\n",
      "['110', 'Mohsin', '53', '67', '72', 64.0, 'C']\n",
      "['111', 'Shahmeer', '54', '68', '73', 65.0, 'C']\n",
      "['112', 'Rao', '55', '69', '74', 66.0, 'C']\n",
      "['113', 'Aurangzeb', '56', '70', '75', 67.0, 'C']\n",
      "['114', 'Zeeshan', '57', '71', '76', 68.0, 'C']\n",
      "['115', 'Hamna', '58', '72', '77', 69.0, 'C']\n",
      "['116', 'Hamza', '59', '73', '78', 70.0, 'B']\n",
      "['117', 'Khalid', '60', '74', '79', 71.0, 'B']\n",
      "['118', 'Behroz', '61', '75', '80', 72.0, 'B']\n",
      "['119', 'Justin', '62', '76', '81', 73.0, 'B']\n",
      "['120', 'Danish', '63', '77', '82', 74.0, 'B']\n",
      "['121', 'Kainat', '64', '78', '83', 75.0, 'B']\n",
      "['122', 'Sameer', '65', '79', '84', 76.0, 'B']\n",
      "['123', 'Raza', '66', '80', '85', 77.0, 'B']\n",
      "['124', 'Kumar', '67', '81', '86', 78.0, 'B']\n",
      "['125', 'Komal', '68', '82', '87', 79.0, 'B']\n",
      "['126', 'Erum', '69', '83', '88', 80.0, 'A']\n",
      "['127', 'Faiza', '70', '84', '89', 81.0, 'A']\n",
      "['128', 'Saeed', '71', '85', '90', 82.0, 'A']\n",
      "['129', 'Waqar', '72', '86', '91', 83.0, 'A']\n",
      "['130', 'Wali', '73', '87', '92', 84.0, 'A']\n",
      "['131', 'Wajid', '74', '88', '93', 85.0, 'A']\n",
      "['132', 'Waseeb', '75', '89', '94', 86.0, 'A']\n",
      "['133', 'Shiza', '76', '90', '95', 87.0, 'A']\n",
      "['134', 'Shabina', '77', '91', '96', 88.0, 'A']\n",
      "['135', 'Shazain', '78', '55', '97', 76.67, 'B']\n",
      "['136', 'Lubna', '79', '61', '98', 79.33, 'B']\n",
      "['137', 'Laiba', '80', '88', '78', 82.0, 'A']\n",
      "['138', 'Khursheed', '81', '56', '45', 60.67, 'C']\n",
      "['139', 'Ali', '82', '89', '46', 72.33, 'B']\n",
      "['140', 'Aiza', '83', '45', '89', 72.33, 'B']\n",
      "['141', 'Aiman', '84', '92', '78', 84.67, 'A']\n",
      "['142', 'Yasmeen', '85', '36', '56', 59.0, 'D']\n",
      "['143', 'Tasbeel', '86', '78', '78', 80.67, 'A']\n",
      "['144', 'Laraib', '87', '56', '54', 65.67, 'C']\n",
      "['145', 'Saleem', '88', '78', '78', 81.33, 'A']\n",
      "['146', 'Bismil', '89', '89', '46', 74.67, 'B']\n",
      "['147', 'Batool', '90', '56', '79', 75.0, 'B']\n",
      "['148', 'Iqra', '91', '33', '46', 56.67, 'D']\n",
      "['149', 'Zarnish', '92', '78', '45', 71.67, 'B']\n",
      "['150', 'Zara', '83', '45', '56', 61.33, 'C']\n"
     ]
    }
   ],
   "source": [
    "for r in data[1:]:\n",
    "    chem = float(r[2])\n",
    "    phy = float(r[3])\n",
    "    math = float(r[4])\n",
    "    percentage = round(((chem + phy + math)/300) *100 ,2)\n",
    "\n",
    "    if percentage >= 80: grade = 'A'\n",
    "    elif percentage >= 70: grade = 'B'\n",
    "    elif percentage >= 60: grade = 'C'\n",
    "    elif percentage >= 50: grade = 'D'\n",
    "    else: grade = 'F'\n",
    "\n",
    "    r.extend([percentage, grade])\n",
    "\n",
    "for r in data:\n",
    "    print(r)"
   ]
  },
  {
   "cell_type": "code",
   "execution_count": 4,
   "id": "7b13016c-d765-4828-85a4-2df01321b313",
   "metadata": {},
   "outputs": [],
   "source": [
    "with open(\"student_data_grades_updated.csv\", \"w\", newline=\"\") as new_file:\n",
    "    writer = csv.writer(new_file)\n",
    "    writer.writerows(data)"
   ]
  }
 ],
 "metadata": {
  "kernelspec": {
   "display_name": "Python [conda env:base] *",
   "language": "python",
   "name": "conda-base-py"
  },
  "language_info": {
   "codemirror_mode": {
    "name": "ipython",
    "version": 3
   },
   "file_extension": ".py",
   "mimetype": "text/x-python",
   "name": "python",
   "nbconvert_exporter": "python",
   "pygments_lexer": "ipython3",
   "version": "3.13.5"
  }
 },
 "nbformat": 4,
 "nbformat_minor": 5
}
