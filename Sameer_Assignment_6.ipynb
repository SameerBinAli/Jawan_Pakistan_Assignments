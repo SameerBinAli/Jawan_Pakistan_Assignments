{
 "cells": [
  {
   "cell_type": "markdown",
   "id": "e099ee24-3789-4bce-a73f-e0d4881bf495",
   "metadata": {},
   "source": [
    "## ***Question No.1***"
   ]
  },
  {
   "cell_type": "markdown",
   "id": "0544eec8-59e0-4c21-bdc3-9791d15fc238",
   "metadata": {},
   "source": [
    "Q1. Write a Python program that prints the multiplication table for a given number (between 1 and 10) using a for loop.\n",
    "\n",
    "Hint:\n",
    "\n",
    "Ask the user for a number between 1 and 10 .\n",
    "Use a for loop to iterate through the numbers from 1 to 10.\n",
    "For each iteration, calculate the product of the given number and the current number in the loop.\n",
    "Print the result in a readable format (e.g., 5 x 1 = 5).\n",
    "Ensure the program works correctly for any number between 1 and 10.\n",
    "Output Hint:\n",
    "\n",
    "- 4 x 1 = 4\n",
    "- 4 x 2 = 8\n",
    "- 4 x 3 = 12\n",
    "- 4 x 4 = 16\n",
    "- 4 x 5 = 20\n",
    "- 4 x 6 = 24\n",
    "- 4 x 7 = 28\n",
    "- 4 x 8 = 32\n",
    "- 4 x 9 = 36\n",
    "- 4 x 10 = 40"
   ]
  },
  {
   "cell_type": "markdown",
   "id": "30bf0ee6-7f43-4482-8e13-87c27fa6e76e",
   "metadata": {},
   "source": [
    "## ***Answer No.1***"
   ]
  },
  {
   "cell_type": "code",
   "execution_count": 1,
   "id": "98d03148-90ed-4bf2-87ef-a26b89f75d34",
   "metadata": {},
   "outputs": [
    {
     "name": "stdin",
     "output_type": "stream",
     "text": [
      "Enter Number for Multiplication Between 1 to 10: 7\n"
     ]
    }
   ],
   "source": [
    "number = int(input(\"Enter Number for Multiplication Between 1 to 10:\"))"
   ]
  },
  {
   "cell_type": "code",
   "execution_count": 2,
   "id": "8b9930e2-9539-40a9-8928-2502e900e0bd",
   "metadata": {},
   "outputs": [
    {
     "name": "stdout",
     "output_type": "stream",
     "text": [
      "7 x 1 = 7\n",
      "7 x 2 = 14\n",
      "7 x 3 = 21\n",
      "7 x 4 = 28\n",
      "7 x 5 = 35\n",
      "7 x 6 = 42\n",
      "7 x 7 = 49\n",
      "7 x 8 = 56\n",
      "7 x 9 = 63\n",
      "7 x 10 = 70\n"
     ]
    }
   ],
   "source": [
    "for n in range(1,11):\n",
    "    print(f\"{number} x {n} = {number*n}\")"
   ]
  },
  {
   "cell_type": "markdown",
   "id": "7105b391-f7da-4a95-a11e-8bfbf3964bc5",
   "metadata": {},
   "source": [
    "## ***Question No.2***"
   ]
  },
  {
   "cell_type": "markdown",
   "id": "c04daf3e-ef38-41f5-85d9-d8d4a6064921",
   "metadata": {},
   "source": [
    "Q2. Stop sending emails after 3 users (Using for loop and break)\n",
    "\n",
    "users = [\"Ali\", \"Sara\", \"John\", \"Zara\", \"Mike\"]\n",
    "\n",
    "Output:\n",
    "\n",
    "Email sent to Ali\n",
    "\n",
    "Email sent to Sara\n",
    "\n",
    "Email sent to John\n",
    "\n",
    "Limit reached. Stop sending emails."
   ]
  },
  {
   "cell_type": "markdown",
   "id": "11593357-84d6-4875-bd4c-5e61ad02d1d8",
   "metadata": {},
   "source": [
    "## ***Answer No.2***"
   ]
  },
  {
   "cell_type": "code",
   "execution_count": 3,
   "id": "d88c9e35-06a0-4f8f-8cca-22b2e69747c6",
   "metadata": {},
   "outputs": [],
   "source": [
    "users = [\"Ali\", \"Sara\", \"John\", \"Zara\", \"Mike\"]"
   ]
  },
  {
   "cell_type": "code",
   "execution_count": 4,
   "id": "e09ffbaf-e931-47b8-9f3e-7ae0e5cf6e37",
   "metadata": {},
   "outputs": [
    {
     "name": "stdout",
     "output_type": "stream",
     "text": [
      "Email sent to Ali\n",
      "Email sent to Sara\n",
      "Email sent to John\n",
      "Limit reached. Stop sending emails.\n"
     ]
    }
   ],
   "source": [
    "for i, user in enumerate(users):                           #Used enumerate() here because we need the count/index.\n",
    "    if i >= 3:\n",
    "        print(f\"Limit reached. Stop sending emails.\")\n",
    "        break\n",
    "    else:\n",
    "        print(f\"Email sent to {user}\")"
   ]
  },
  {
   "cell_type": "markdown",
   "id": "2a277e51-2664-4418-acb6-ca30e81c2ccb",
   "metadata": {},
   "source": [
    "## ***Question No.3***"
   ]
  },
  {
   "cell_type": "markdown",
   "id": "2e5f58a3-fb42-4575-b5e7-3ed181af173b",
   "metadata": {},
   "source": [
    "Q3. Stop monitoring temperature if critical temperature reached (Using for loop and break)\n",
    "\n",
    "temps = [22, 25, 30, 45, 28]\n",
    "critical = 40\n",
    "\n",
    "Output:\n",
    "\n",
    "Temperature: 22\n",
    "\n",
    "Temperature: 25\n",
    "\n",
    "Temperature: 30\n",
    "\n",
    "Critical temperature reached! Stop monitoring."
   ]
  },
  {
   "cell_type": "markdown",
   "id": "1571d99b-26f0-49b7-905b-66da443fffe6",
   "metadata": {},
   "source": [
    "## ***Answer No.3***"
   ]
  },
  {
   "cell_type": "code",
   "execution_count": 5,
   "id": "be355550-f6a6-4783-9d9c-2204fe11c8e9",
   "metadata": {},
   "outputs": [],
   "source": [
    "temps = [22, 25, 30, 45, 28]\n",
    "critical = 40"
   ]
  },
  {
   "cell_type": "code",
   "execution_count": 6,
   "id": "f600e1c8-32b1-4c5c-9eab-40730a777a57",
   "metadata": {},
   "outputs": [
    {
     "name": "stdout",
     "output_type": "stream",
     "text": [
      "Temperature: 22\n",
      "Temperature: 25\n",
      "Temperature: 30\n",
      "Critical temperature reached! Stop monitoring.\n"
     ]
    }
   ],
   "source": [
    "for temp in temps:\n",
    "    if temp >= 40:\n",
    "        print(f\"Critical temperature reached! Stop monitoring.\")\n",
    "        break\n",
    "    else:\n",
    "        print(f\"Temperature: {temp}\")"
   ]
  },
  {
   "cell_type": "markdown",
   "id": "23145e18-6463-4888-a29e-9681f9cab08d",
   "metadata": {},
   "source": [
    "## ***Question No.4***"
   ]
  },
  {
   "cell_type": "markdown",
   "id": "6ac32476-06f5-4954-9050-48f9e83d4b09",
   "metadata": {},
   "source": [
    "Q4. Calculate total price of items in a shopping cart (Using For loop)\n",
    "\n",
    "cart = [100, 250, 50, 300]\n",
    "\n",
    "Output:\n",
    "\n",
    "Total Price: 700"
   ]
  },
  {
   "cell_type": "markdown",
   "id": "b30f4471-988a-4ab8-ab67-56baba944fc7",
   "metadata": {},
   "source": [
    "## ***Answer No.4***"
   ]
  },
  {
   "cell_type": "code",
   "execution_count": 7,
   "id": "f22791f8-a954-4485-b3b2-aaab9a2f980f",
   "metadata": {},
   "outputs": [],
   "source": [
    "cart = [100, 250, 50, 300]"
   ]
  },
  {
   "cell_type": "code",
   "execution_count": 8,
   "id": "5d658e81-251c-4c82-b8d7-ef671e231a09",
   "metadata": {},
   "outputs": [],
   "source": [
    "total = 0"
   ]
  },
  {
   "cell_type": "code",
   "execution_count": 9,
   "id": "61c731e1-ca1b-415d-9ebd-330db8818427",
   "metadata": {},
   "outputs": [
    {
     "name": "stdout",
     "output_type": "stream",
     "text": [
      "Total Price: 700\n"
     ]
    }
   ],
   "source": [
    "for price in cart:\n",
    "    total += price\n",
    "print(f\"Total Price: {total}\")"
   ]
  },
  {
   "cell_type": "markdown",
   "id": "d545f30a-900b-48ab-b1dc-5db406c16007",
   "metadata": {},
   "source": [
    "## ***Question No.5***"
   ]
  },
  {
   "cell_type": "markdown",
   "id": "27b2f17d-8dc3-4b4c-bbfc-50d8cf33df13",
   "metadata": {},
   "source": [
    "Q5. Skip customers with unpaid bills (Using For loop and continue)\n",
    "\n",
    "customers = [\n",
    "    {\"name\": \"Ali\", \"paid\": True},\n",
    "    \n",
    "    {\"name\": \"Sara\", \"paid\": False},\n",
    "    \n",
    "    {\"name\": \"John\", \"paid\": True}\n",
    "]\n",
    "\n",
    "\n",
    "Output:\n",
    "\n",
    "Access granted to: Ali\n",
    "\n",
    "Access granted to: John\n"
   ]
  },
  {
   "cell_type": "markdown",
   "id": "e01c7cd5-95b3-4f32-a9f3-50898a3109aa",
   "metadata": {},
   "source": [
    "## ***Answer No.5***"
   ]
  },
  {
   "cell_type": "code",
   "execution_count": 10,
   "id": "76fb3be0-3e5b-4953-8a6b-ddd247211e4b",
   "metadata": {},
   "outputs": [],
   "source": [
    "customers = [\n",
    "{\"name\": \"Ali\", \"paid\": True},\n",
    "\n",
    "{\"name\": \"Sara\", \"paid\": False},\n",
    "\n",
    "{\"name\": \"John\", \"paid\": True}\n",
    "]"
   ]
  },
  {
   "cell_type": "code",
   "execution_count": 11,
   "id": "765a5765-0acf-4515-a855-f88edc4a5834",
   "metadata": {},
   "outputs": [
    {
     "name": "stdout",
     "output_type": "stream",
     "text": [
      "Access granted to: Ali\n",
      "Access granted to: John\n"
     ]
    }
   ],
   "source": [
    "for customer in customers:\n",
    "    if not customer[\"paid\"]:\n",
    "        continue\n",
    "    print(f\"Access granted to: {customer[\"name\"]}\")"
   ]
  },
  {
   "cell_type": "markdown",
   "id": "bc3e31bc-2162-4d84-91b1-8a3f3fb112f6",
   "metadata": {},
   "source": [
    "## ***Question No.6***"
   ]
  },
  {
   "cell_type": "markdown",
   "id": "51a8af34-2afa-4c01-9675-6f18a656ebee",
   "metadata": {},
   "source": [
    "Q6. Send personalized emails to a list of users (Using for loop)\n",
    "\n",
    "users = [\"Ali\", \"Sara\", \"John\"]\n",
    "\n",
    "Output:\n",
    "\n",
    "- Hello Ali, your subscription is active!\n",
    "- Hello Sara, your subscription is active!\n",
    "- Hello John, your subscription is active!\n"
   ]
  },
  {
   "cell_type": "markdown",
   "id": "273eb72a-0509-490c-90aa-97b84ebec9e0",
   "metadata": {},
   "source": [
    "## ***Answer No.6***"
   ]
  },
  {
   "cell_type": "code",
   "execution_count": 12,
   "id": "7bdfb111-b511-4c12-b4e9-01b254d6616e",
   "metadata": {},
   "outputs": [],
   "source": [
    "users = [\"Ali\", \"Sara\", \"John\"]"
   ]
  },
  {
   "cell_type": "code",
   "execution_count": 13,
   "id": "478d3f03-b119-4747-92da-46dc71ac1ca7",
   "metadata": {},
   "outputs": [
    {
     "name": "stdout",
     "output_type": "stream",
     "text": [
      "Hello Ali, your subscription is active!\n",
      "Hello Sara, your subscription is active!\n",
      "Hello John, your subscription is active!\n"
     ]
    }
   ],
   "source": [
    "for user in users:\n",
    "    print(f\"Hello {user}, your subscription is active!\")"
   ]
  },
  {
   "cell_type": "markdown",
   "id": "f0643897-c6c4-41d7-9539-1e445c6f8d74",
   "metadata": {},
   "source": [
    "## ***Question No.7***"
   ]
  },
  {
   "cell_type": "markdown",
   "id": "ba05519a-5ee0-4fef-a295-1b2fbd761c77",
   "metadata": {},
   "source": [
    "Q7. Extract domain names from email list (Using for loop)\n",
    "\n",
    "emails = [\"ali@gmail.com\", \"sara@yahoo.com\", \"john@hotmail.com\"]\n",
    "\n",
    "Output:\n",
    "\n",
    "domains: ['gmail.com', 'yahoo.com', 'hotmail.com']\n"
   ]
  },
  {
   "cell_type": "markdown",
   "id": "9f76b7d2-7f65-4031-9bf5-1a749982e2ed",
   "metadata": {},
   "source": [
    "## ***Answer No.7***"
   ]
  },
  {
   "cell_type": "code",
   "execution_count": 14,
   "id": "0b2abd70-f2bc-47e1-b309-ff0ba5aa42bc",
   "metadata": {},
   "outputs": [],
   "source": [
    "emails = [\"ali@gmail.com\", \"sara@yahoo.com\", \"john@hotmail.com\"]"
   ]
  },
  {
   "cell_type": "code",
   "execution_count": 15,
   "id": "5cf8aef1-73b5-4694-aec8-6885ae652947",
   "metadata": {},
   "outputs": [],
   "source": [
    "domains = []"
   ]
  },
  {
   "cell_type": "code",
   "execution_count": 16,
   "id": "93d0ad39-16d6-45d7-8e9e-5bfd5e3ed849",
   "metadata": {},
   "outputs": [
    {
     "name": "stdout",
     "output_type": "stream",
     "text": [
      "['gmail.com', 'yahoo.com', 'hotmail.com']\n"
     ]
    }
   ],
   "source": [
    "for email in emails:\n",
    "    domain = email.split(\"@\")[1]\n",
    "    domains.append(domain)\n",
    "print(domains)"
   ]
  },
  {
   "cell_type": "markdown",
   "id": "e304b16f-0f91-4a8d-a2b2-03fe0ec681cd",
   "metadata": {},
   "source": [
    "## ***Question No.8***"
   ]
  },
  {
   "cell_type": "markdown",
   "id": "c8b061e3-e6da-43ac-955d-a74832ee210b",
   "metadata": {},
   "source": [
    "Q8. Print only overdue tasks (Using for loop)\n",
    "\n",
    "tasks = [\n",
    "    {\"task\": \"Pay bills\", \"status\": \"done\"},\n",
    "    \n",
    "    {\"task\": \"Submit report\", \"status\": \"pending\"},\n",
    "    \n",
    "    {\"task\": \"Clean house\", \"status\": \"pending\"}\n",
    "]\n",
    "\n",
    "\n",
    "Output:\n",
    "\n",
    "Overdue: Submit report\n",
    "\n",
    "Overdue: Clean house"
   ]
  },
  {
   "cell_type": "markdown",
   "id": "ca7aca0b-60e6-46df-b815-66c0698e74fb",
   "metadata": {},
   "source": [
    "## ***Answer No.8***"
   ]
  },
  {
   "cell_type": "code",
   "execution_count": 17,
   "id": "6c5fd8b3-ea83-4d2c-a12e-de546d00ef32",
   "metadata": {},
   "outputs": [],
   "source": [
    "tasks = [ \n",
    "{\"task\": \"Pay bills\", \"status\": \"done\"},\n",
    "\n",
    "{\"task\": \"Submit report\", \"status\": \"pending\"},\n",
    "\n",
    "{\"task\": \"Clean house\", \"status\": \"pending\"}\n",
    "]"
   ]
  },
  {
   "cell_type": "code",
   "execution_count": 18,
   "id": "68a666c6-0a29-4188-b742-6e10de9072ed",
   "metadata": {},
   "outputs": [
    {
     "name": "stdout",
     "output_type": "stream",
     "text": [
      "Overdue: Submit report\n",
      "Overdue: Clean house\n"
     ]
    }
   ],
   "source": [
    "for task in tasks:\n",
    "    if task[\"status\"] == \"pending\":\n",
    "        print(f\"Overdue: {task[\"task\"]}\")"
   ]
  },
  {
   "cell_type": "markdown",
   "id": "d2a4b083-8978-4772-9ddc-c431fa481117",
   "metadata": {},
   "source": [
    "## ***Question No.9***"
   ]
  },
  {
   "cell_type": "markdown",
   "id": "4bfa6b1a-e8d1-4e3e-8091-3d4967eebb3d",
   "metadata": {},
   "source": [
    "Q9. Extract names of employees with salary above 50,000\n",
    "\n",
    "employees = [\n",
    "    {\"name\": \"Ali\", \"salary\": 60000},\n",
    "    \n",
    "    {\"name\": \"Sara\", \"salary\": 45000},\n",
    "    \n",
    "    {\"name\": \"John\", \"salary\": 70000}\n",
    "]\n",
    "\n",
    "\n",
    "Output:\n",
    "\n",
    "Ali earns above 50,000\n",
    "\n",
    "John earns above 50,000"
   ]
  },
  {
   "cell_type": "markdown",
   "id": "c28d7db0-3d4d-49e7-8f74-3a64c5392109",
   "metadata": {},
   "source": [
    "## ***Answer No.9***"
   ]
  },
  {
   "cell_type": "code",
   "execution_count": 19,
   "id": "0efcd06e-0a5c-4844-9f8e-e6a7fb10c994",
   "metadata": {},
   "outputs": [],
   "source": [
    "employees = [ \n",
    "{\"name\": \"Ali\", \"salary\": 60000},\n",
    "\n",
    "{\"name\": \"Sara\", \"salary\": 45000},\n",
    "\n",
    "{\"name\": \"John\", \"salary\": 70000}\n",
    "]"
   ]
  },
  {
   "cell_type": "code",
   "execution_count": 20,
   "id": "aa371883-1f25-40f3-bf7a-33dcd22b7b56",
   "metadata": {},
   "outputs": [
    {
     "name": "stdout",
     "output_type": "stream",
     "text": [
      "Ali earns more then 50,000\n",
      "John earns more then 50,000\n"
     ]
    }
   ],
   "source": [
    "for employee in employees:\n",
    "    if employee[\"salary\"] > 50000:\n",
    "        print(f\"{employee[\"name\"]} earns more then 50,000\")"
   ]
  },
  {
   "cell_type": "markdown",
   "id": "f3fa3eb0-5e12-4fc6-bcef-5003a873e5ab",
   "metadata": {},
   "source": [
    "## ***Question No.10***"
   ]
  },
  {
   "cell_type": "markdown",
   "id": "3190af66-18dc-439e-a676-982f371d93eb",
   "metadata": {},
   "source": [
    "Q10. Skip weekends while printing workdays (Using for loop and continue)\n",
    "\n",
    "days = [\"Monday\", \"Tuesday\", \"Wednesday\", \"Thursday\", \"Friday\", \"Saturday\", \"Sunday\"]\n",
    "\n",
    "Output:\n",
    "\n",
    "Workday: Monday\n",
    "\n",
    "Workday: Tuesday\n",
    "\n",
    "Workday: Wednesday\n",
    "\n",
    "Workday: Thursday\n",
    "\n",
    "Workday: Friday\n"
   ]
  },
  {
   "cell_type": "markdown",
   "id": "2b0d62a7-323e-4338-a46d-052fcd9a57fe",
   "metadata": {},
   "source": [
    "## ***Answer No.10***"
   ]
  },
  {
   "cell_type": "code",
   "execution_count": 21,
   "id": "2b274593-9d7c-4bf0-9cde-4e03f445a0af",
   "metadata": {},
   "outputs": [],
   "source": [
    "days = [\"Monday\", \"Tuesday\", \"Wednesday\", \"Thursday\", \"Friday\", \"Saturday\", \"Sunday\"]"
   ]
  },
  {
   "cell_type": "code",
   "execution_count": 22,
   "id": "4062d73d-2bad-48ba-9264-ff8e75b0bd80",
   "metadata": {},
   "outputs": [
    {
     "name": "stdout",
     "output_type": "stream",
     "text": [
      "Workday: Monday\n",
      "\n",
      "Workday: Tuesday\n",
      "\n",
      "Workday: Wednesday\n",
      "\n",
      "Workday: Thursday\n",
      "\n",
      "Workday: Friday\n",
      "\n"
     ]
    }
   ],
   "source": [
    "for day in days:\n",
    "    if day == \"Saturday\" or day == \"Sunday\":\n",
    "        continue\n",
    "    print(f\"Workday: {day}\")\n",
    "    print()"
   ]
  }
 ],
 "metadata": {
  "kernelspec": {
   "display_name": "Python [conda env:base] *",
   "language": "python",
   "name": "conda-base-py"
  },
  "language_info": {
   "codemirror_mode": {
    "name": "ipython",
    "version": 3
   },
   "file_extension": ".py",
   "mimetype": "text/x-python",
   "name": "python",
   "nbconvert_exporter": "python",
   "pygments_lexer": "ipython3",
   "version": "3.13.5"
  }
 },
 "nbformat": 4,
 "nbformat_minor": 5
}
