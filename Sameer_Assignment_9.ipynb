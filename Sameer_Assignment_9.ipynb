{
 "cells": [
  {
   "cell_type": "markdown",
   "id": "bd7d7404-e337-4302-a621-1d37ef5cd88f",
   "metadata": {},
   "source": [
    "## ***Question No.1***"
   ]
  },
  {
   "cell_type": "markdown",
   "id": "edefad45-dcd4-4b18-a7c1-e61d37a80201",
   "metadata": {},
   "source": [
    "Q1:\n",
    "Write a Python program that:\n",
    "\n",
    "Has a balance of 1000.\n",
    "\n",
    "Asks the user for a withdrawal amount.\n",
    "\n",
    "Checks for these errors:\n",
    "\n",
    "Non-numeric input → print \"Please enter a valid number.\"\n",
    "\n",
    "Amount ≤ 0 → print \"Amount must be more than zero.\"\n",
    "\n",
    "Amount > balance → print \"Insufficient balance.\"\n",
    "\n",
    "If valid, deducts amount and shows remaining balance.\n",
    "\n",
    "Always prints \"Thank you for using the ATM.\"\n",
    "\n",
    "Expected Output:\n",
    "\n",
    "- Enter amount to withdraw: 1500\n",
    "\n",
    "  Insufficient balance.\n",
    "\n",
    "  Thank you for using the ATM.\n",
    "\n",
    "\n",
    "- Enter amount to withdraw:  0\n",
    "\n",
    "  Amount must be more than zero.\n",
    "\n",
    "  Thank you for using the ATM.\n",
    "\n",
    "\n",
    "- Enter amount to withdraw:  K\n",
    "\n",
    "\n",
    "  Please enter a valid number.\n",
    "\n",
    "  Thank you for using the ATM."
   ]
  },
  {
   "cell_type": "markdown",
   "id": "28ceec36-cde2-4a5b-b853-362a04b64c99",
   "metadata": {},
   "source": [
    "## ***Answer No.1***"
   ]
  },
  {
   "cell_type": "code",
   "execution_count": 1,
   "id": "2056e5ae-dc52-44f3-a848-f755a5c82730",
   "metadata": {},
   "outputs": [
    {
     "name": "stdin",
     "output_type": "stream",
     "text": [
      "Enter amount to withdraw:  500\n"
     ]
    },
    {
     "name": "stdout",
     "output_type": "stream",
     "text": [
      "Withdrawal Successful! Remaining Balance: 500\n",
      "Thank you for using the ATM.\n"
     ]
    }
   ],
   "source": [
    "balance = 1000\n",
    "\n",
    "try:\n",
    "    amount = int(input(\"Enter amount to withdraw: \"))\n",
    "\n",
    "    if amount > balance:\n",
    "        print('Insufficient balance.')\n",
    "    elif amount <= 0:\n",
    "        print('Amount must be more than zero.')\n",
    "    else:\n",
    "        balance -= amount\n",
    "        print(f'Withdrawal Successful! Remaining Balance: {balance}')\n",
    "\n",
    "except ValueError:\n",
    "    print('Please enter a valid number.')\n",
    "\n",
    "finally:\n",
    "    print('Thank you for using the ATM.')"
   ]
  },
  {
   "cell_type": "markdown",
   "id": "c6ad36ab-6924-4a78-af76-32981ce50163",
   "metadata": {},
   "source": [
    "## ***Question No.2***"
   ]
  },
  {
   "cell_type": "markdown",
   "id": "6964348b-58c9-491c-8037-f13e82d8bea5",
   "metadata": {},
   "source": [
    "Q2\n",
    "\n",
    "Write a Python program that:\n",
    "\n",
    "Has 5 seats available (available_seats = 5).\n",
    "\n",
    "Asks the user how many tickets they want to book.\n",
    "\n",
    "Checks for these cases:\n",
    "\n",
    "Non-numeric input → print \"Please enter a valid number.\"\n",
    "\n",
    "Tickets ≤ 0 → print \"You must book at least 1 ticket.\"\n",
    "\n",
    "Tickets more than available seats → print \"Not enough seats available.\"\n",
    "\n",
    "If valid, confirms the booking by printing how many tickets were booked.\n",
    "\n",
    "Always prints \"Thank you for booking with us.\" at the end.\n",
    "\n",
    "Expected Output:\n",
    "\n",
    "How many tickets do you want to book? 3\n",
    "\n",
    "3 ticket(s) booked successfully.\n",
    "\n",
    "Thank you for booking with us.\n",
    "\n",
    "How many tickets do you want to book? 0\n",
    "\n",
    "You must book at least 1 ticket.\n",
    "\n",
    "Thank you for booking with us.\n",
    "\n",
    "How many tickets do you want to book? 7\n",
    "\n",
    "Not enough seats available.\n",
    "\n",
    "Thank you for booking with us.\n",
    "\n",
    "How many tickets do you want to book? five\n",
    "\n",
    "Please enter a valid number.\n",
    "\n",
    "Thank you for booking with us."
   ]
  },
  {
   "cell_type": "markdown",
   "id": "b7b4a304-db8f-46a7-96fe-99b005dc13c5",
   "metadata": {},
   "source": [
    "## ***Answer No.2***"
   ]
  },
  {
   "cell_type": "code",
   "execution_count": 2,
   "id": "1fb8a126-e5d6-4586-948d-e30f8b762a32",
   "metadata": {},
   "outputs": [
    {
     "name": "stdin",
     "output_type": "stream",
     "text": [
      "How many tickets do you want to book?  4\n"
     ]
    },
    {
     "name": "stdout",
     "output_type": "stream",
     "text": [
      "4 ticket(s) booked successfully.\n",
      "Thank you for booking with us.\n"
     ]
    }
   ],
   "source": [
    "available_seats = 5\n",
    "\n",
    "try:\n",
    "    tickets = int(input('How many tickets do you want to book? '))\n",
    "\n",
    "    if tickets <= 0:\n",
    "        print('You must book at least 1 ticket.')\n",
    "    elif tickets > available_seats:\n",
    "        print('Not enough seats available.')\n",
    "    else:\n",
    "        available_seats -= tickets\n",
    "        print(f'{tickets} ticket(s) booked successfully.')\n",
    "\n",
    "except ValueError:\n",
    "    print('Please enter a valid number.')\n",
    "\n",
    "finally:\n",
    "    print('Thank you for booking with us.')"
   ]
  },
  {
   "cell_type": "markdown",
   "id": "2de4e8fa-7320-40d0-aba3-39d1d3f16c04",
   "metadata": {},
   "source": [
    "## ***Question No.3***"
   ]
  },
  {
   "cell_type": "markdown",
   "id": "197e6c36-1fd2-4300-b78e-2e94de22520b",
   "metadata": {},
   "source": [
    "Q3:\n",
    "\n",
    "Write a Python program that:\n",
    "\n",
    "Asks the user how many items they want to buy.\n",
    "\n",
    "If the user enters a non-number, print: \"Please enter a valid quantity.\"\n",
    "\n",
    "If the user enters a number less than 1, print: \"You must buy at least one item.\"\n",
    "\n",
    "If the input is valid, print: \"You added {quantity} item(s) to your cart.\"\n",
    "\n",
    "Expected Output:\n",
    "\n",
    "Enter the number of items you want to buy: 3\n",
    "\n",
    "You added 3 item(s) to your cart.\n",
    "\n",
    "Enter the number of items you want to buy: 0\n",
    "\n",
    "You must buy at least one item.\n",
    "\n",
    "Enter the number of items you want to buy: five\n",
    "\n",
    "Please enter a valid quantity."
   ]
  },
  {
   "cell_type": "markdown",
   "id": "5a596a0c-a2cf-4acf-9e25-bf3611b78b32",
   "metadata": {},
   "source": [
    "## ***Answer No.3***"
   ]
  },
  {
   "cell_type": "code",
   "execution_count": 3,
   "id": "c4fbec51-b698-4b06-9769-56de0e5505ee",
   "metadata": {},
   "outputs": [
    {
     "name": "stdin",
     "output_type": "stream",
     "text": [
      "Enter the number of items you want to buy:  7\n"
     ]
    },
    {
     "name": "stdout",
     "output_type": "stream",
     "text": [
      "You added 7 item(s) to your cart.\n"
     ]
    }
   ],
   "source": [
    "try:\n",
    "    quantity = int(input('Enter the number of items you want to buy: '))\n",
    "    \n",
    "    if quantity < 1:\n",
    "        print('You must buy at least one item.')\n",
    "    \n",
    "    else:\n",
    "        print(f'You added {quantity} item(s) to your cart.')\n",
    "\n",
    "except ValueError:\n",
    "    print('Please enter a valid quantity.')"
   ]
  },
  {
   "cell_type": "markdown",
   "id": "6b7605a9-cf98-4020-9676-14e1da4df680",
   "metadata": {},
   "source": [
    "## ***Question No.4***"
   ]
  },
  {
   "cell_type": "markdown",
   "id": "2bc18117-c892-4b4d-b0f2-d65df86a2e56",
   "metadata": {},
   "source": [
    "Q4: Write a Python program that:\n",
    "\n",
    "Asks the user to enter a number between 1 and 7.\n",
    "\n",
    "If the number is between 1 and 7, prints the corresponding day of the week (1 = Monday, 7 = Sunday).\n",
    "\n",
    "If the number is outside this range, prints: \"Please enter a number between 1 and 7.\"\n",
    "\n",
    "Handles invalid input (non-numbers) by printing: \"Please enter a valid number.\"\n",
    "\n",
    "Expected Output:\n",
    "\n",
    "Enter a day number (1-7): 3\n",
    "\n",
    "Day is Wednesday\n",
    "\n",
    "Enter a day number (1-7): 9\n",
    "\n",
    "Please enter a number between 1 and 7.\n",
    "\n",
    "Enter a day number (1-7): five\n",
    "\n",
    "Please enter a valid number."
   ]
  },
  {
   "cell_type": "markdown",
   "id": "1b804eb2-1b32-4f6c-95bb-b0f75afa9f96",
   "metadata": {},
   "source": [
    "## ***Answer No.4***"
   ]
  },
  {
   "cell_type": "code",
   "execution_count": 4,
   "id": "c352a92e-5e1a-4328-8406-3829151b8ee0",
   "metadata": {},
   "outputs": [
    {
     "name": "stdin",
     "output_type": "stream",
     "text": [
      "Enter a day number (1-7):  2\n"
     ]
    },
    {
     "name": "stdout",
     "output_type": "stream",
     "text": [
      "Day is Tuesday\n"
     ]
    }
   ],
   "source": [
    "try:\n",
    "    day_number = int(input('Enter a day number (1-7): '))\n",
    "    \n",
    "    if day_number == 1:\n",
    "        print('Day is Monday')\n",
    "    elif day_number == 2:\n",
    "        print('Day is Tuesday')\n",
    "    elif day_number == 3:\n",
    "        print('Day is Wednesday')\n",
    "    elif day_number == 4:\n",
    "        print('Day is Thursday')\n",
    "    elif day_number == 5:\n",
    "        print('Day is Friday')\n",
    "    elif day_number == 6:\n",
    "        print('Day is Saturday')\n",
    "    elif day_number == 7:\n",
    "        print('Day is Sunday')\n",
    "    else:\n",
    "        print('Please enter a number between 1 and 7.')\n",
    "\n",
    "except ValueError:\n",
    "    print('Please enter a valid number.')"
   ]
  },
  {
   "cell_type": "markdown",
   "id": "29626aab-eca0-4109-8700-56af76ff713e",
   "metadata": {},
   "source": [
    "## ***Question No.5***"
   ]
  },
  {
   "cell_type": "markdown",
   "id": "b2c817b5-c8e9-4eb7-8eda-27db99a728a1",
   "metadata": {},
   "source": [
    "Q5:\n",
    "\n",
    "Write a Python program that:\n",
    "\n",
    "Asks the user how many days late they are returning a book.\n",
    "\n",
    "Calculates a fine: $0.50 per day late.\n",
    "\n",
    "If the user enters a negative number, print: \"Days late cannot be negative.\"\n",
    "\n",
    "If the input is invalid (not a number), print: \"Please enter a valid number.\"\n",
    "\n",
    "Otherwise, print the total fine.\n",
    "\n",
    "Expected Output:\n",
    "\n",
    "Enter the number of days late: 4\n",
    "\n",
    "Total fine: $2.00\n",
    "\n",
    "Enter the number of days late: 0\n",
    "\n",
    "Total fine: $0.00\n",
    "\n",
    "Enter the number of days late: -3\n",
    "\n",
    "Days late cannot be negative.\n",
    "\n",
    "Enter the number of days late: five\n",
    "\n",
    "Please enter a valid number."
   ]
  },
  {
   "cell_type": "markdown",
   "id": "cad11a93-b883-46bc-a87e-2b3d91f15b72",
   "metadata": {},
   "source": [
    "## ***Answer No.5***"
   ]
  },
  {
   "cell_type": "code",
   "execution_count": 5,
   "id": "7aefb244-a489-45c3-bf3e-d7333545d1d3",
   "metadata": {},
   "outputs": [
    {
     "name": "stdin",
     "output_type": "stream",
     "text": [
      "Enter the number of days late:  6\n"
     ]
    },
    {
     "name": "stdout",
     "output_type": "stream",
     "text": [
      "Total fine: $3.00\n"
     ]
    }
   ],
   "source": [
    "try:\n",
    "    number_of_days_late = int(input('Enter the number of days late: '))\n",
    "\n",
    "    if number_of_days_late < 0:\n",
    "        print('Days late cannot be negative.')\n",
    "    else:\n",
    "        fine = number_of_days_late * 0.5\n",
    "        print(f'Total fine: ${fine:.2f}')\n",
    "\n",
    "except ValueError:\n",
    "    print('Please enter a valid number.')"
   ]
  },
  {
   "cell_type": "markdown",
   "id": "947c98f3-7e9f-43c3-8e07-03c0b010f55e",
   "metadata": {},
   "source": [
    "## ***Question No.6***"
   ]
  },
  {
   "cell_type": "markdown",
   "id": "decc29d7-73c8-4626-9818-b1102ac0f623",
   "metadata": {},
   "source": [
    "Q6: Define a class named Book that has the following attributes:\n",
    "\n",
    "title (string)\n",
    "\n",
    "author (string)\n",
    "\n",
    "year (integer)\n",
    "\n",
    "Write a constructor (init) that initializes these attributes when a Book object is created.\n",
    "\n",
    "Then, create an object of the Book class with sample data (e.g., title = \"To Kill a Mockingbird\", author = \"Harper Lee\", year = 1960).\n",
    "\n",
    "Finally, print the values of the object's attributes (title, author, and year\n",
    "\n",
    "Expected Output:\n",
    "\n",
    "To Kill a Mockingbird\n",
    "\n",
    "Harper Lee\n",
    "\n",
    "1960"
   ]
  },
  {
   "cell_type": "markdown",
   "id": "94a6eda4-d8a2-4904-9084-f74e0482e928",
   "metadata": {},
   "source": [
    "## ***Answer No.6***"
   ]
  },
  {
   "cell_type": "code",
   "execution_count": 6,
   "id": "34c9f742-a222-4ded-9a9d-7a9af2bf695e",
   "metadata": {},
   "outputs": [
    {
     "name": "stdout",
     "output_type": "stream",
     "text": [
      "To Kill a Mockingbird\n",
      "\n",
      "Harper Lee\n",
      "\n",
      "1960\n"
     ]
    }
   ],
   "source": [
    "class book:    \n",
    "    def __init__(self, title, author, year):\n",
    "        self.title = title\n",
    "        self.author = author\n",
    "        self.year = year\n",
    "\n",
    "book1 = book(\"To Kill a Mockingbird\", \"Harper Lee\", 1960)\n",
    "\n",
    "print(book1.title + \"\\n\")\n",
    "print(book1.author + \"\\n\")\n",
    "print(book1.year)"
   ]
  },
  {
   "cell_type": "markdown",
   "id": "307613b6-5f89-4f9f-b738-211be6b038e8",
   "metadata": {},
   "source": [
    "## ***Question No.7***"
   ]
  },
  {
   "cell_type": "markdown",
   "id": "8f5a94bc-2abb-49f4-9e9c-9e661bcb21bc",
   "metadata": {},
   "source": [
    "Q7:\n",
    "\n",
    "Define a class named Book with the following:\n",
    "\n",
    "A constructor (init) that initializes three attributes: title, author, and year.\n",
    "\n",
    "A method display_info() that prints the book details in the format:\n",
    "\n",
    "'{title}' by {author}, published in {year}.\n",
    "\n",
    "A method is_classic() that simply prints:\n",
    "\n",
    "\"This is a book.\"\n",
    "\n",
    "Create an object of the Book class using this data:\n",
    "\n",
    "Title: \"To Kill a Mockingbird\"\n",
    "\n",
    "Author: \"Harper Lee\"\n",
    "\n",
    "Year: 1960\n",
    "\n",
    "Call both methods on the object.\n",
    "\n",
    "Expected Output:\n",
    "\n",
    "'To Kill a Mockingbird' by Harper Lee, published in 1960.\n",
    "\n",
    "This is a book."
   ]
  },
  {
   "cell_type": "markdown",
   "id": "6f16933f-145f-48c7-9075-7d9d466aa672",
   "metadata": {},
   "source": [
    "## ***Answer No.7***"
   ]
  },
  {
   "cell_type": "code",
   "execution_count": 7,
   "id": "3de0e363-3ce0-444e-b8aa-d4baafe21edc",
   "metadata": {},
   "outputs": [
    {
     "name": "stdout",
     "output_type": "stream",
     "text": [
      "'To Kill a Mockingbird' by Harper Lee, published in 1960.\n",
      "\n",
      "This is a book.\n"
     ]
    }
   ],
   "source": [
    "class book:    \n",
    "    def __init__(self, title, author, year):\n",
    "        self.title = title\n",
    "        self.author = author\n",
    "        self.year = year\n",
    "\n",
    "    def display_info(self):\n",
    "        print(f\"'{self.title}' by {self.author}, published in {self.year}.\\n\")\n",
    "\n",
    "    def is_classic(self):\n",
    "        print('This is a book.')\n",
    "\n",
    "book2 = book(\"To Kill a Mockingbird\", \"Harper Lee\", 1960)\n",
    "\n",
    "book2.display_info()\n",
    "\n",
    "book2.is_classic()"
   ]
  },
  {
   "cell_type": "markdown",
   "id": "a0413970-a0d7-4604-9573-cf34a6cd3fd3",
   "metadata": {},
   "source": [
    "## ***Question No.8***"
   ]
  },
  {
   "cell_type": "markdown",
   "id": "d6593e69-d88c-4517-b7c0-f407ae6aa30c",
   "metadata": {},
   "source": [
    "Define a class named Student that has the following:\n",
    "\n",
    "Attributes: name, grade, and age.\n",
    "\n",
    "A method introduce() that prints:\n",
    "\n",
    "\"My name is {name}, I am {age} years old.\"\n",
    "\n",
    "A method show_grade() that prints:\n",
    "\n",
    "\"My grade is {grade}.\"\n",
    "\n",
    "Create an object of the Student class with sample data (e.g., \"Alice\", \"A\", 16), and call both methods on the object.\n",
    "\n",
    "Expected Output:\n",
    "\n",
    "My name is Alice, I am 16 years old.\n",
    "\n",
    "My grade is A."
   ]
  },
  {
   "cell_type": "markdown",
   "id": "aa63d523-618c-4c59-8f98-8c2fb86d3255",
   "metadata": {},
   "source": [
    "## ***Answer No.8***"
   ]
  },
  {
   "cell_type": "code",
   "execution_count": 8,
   "id": "c4904a56-d2b5-46ff-a503-b191d728ebee",
   "metadata": {},
   "outputs": [
    {
     "name": "stdout",
     "output_type": "stream",
     "text": [
      "My name is Alice, I am 16 years old.\n",
      "\n",
      "My grade is A.\n"
     ]
    }
   ],
   "source": [
    "class Student:\n",
    "    def __init__(self, name, grade, age):\n",
    "        self.name = name\n",
    "        self.grade = grade\n",
    "        self.age = age\n",
    "\n",
    "    def introduce(self):\n",
    "        print(f\"My name is {self.name}, I am {self.age} years old.\\n\")\n",
    "\n",
    "    def show_grade(self):\n",
    "        print(f\"My grade is {self.grade}.\")\n",
    "\n",
    "st = Student(\"Alice\", \"A\", 16)\n",
    "\n",
    "st.introduce()\n",
    "\n",
    "st.show_grade()"
   ]
  },
  {
   "cell_type": "markdown",
   "id": "95b5a598-d362-4080-afa3-f4a874e0883e",
   "metadata": {},
   "source": [
    "## ***Question No.9***"
   ]
  },
  {
   "cell_type": "markdown",
   "id": "1217ea82-c1ca-44ac-babe-12645698e1f0",
   "metadata": {},
   "source": [
    "Q9:\n",
    "\n",
    "Define a class named Light with two methods:\n",
    "\n",
    "turn_on() — prints: \"The light is now ON.\"\n",
    "\n",
    "check_status() — prints: \"The light is bright and working.\"\n",
    "\n",
    "Create an object of the Light class and call both methods.\n",
    "\n",
    "Expected Output:\n",
    "\n",
    "The light is now ON.\n",
    "\n",
    "The light is bright and working."
   ]
  },
  {
   "cell_type": "markdown",
   "id": "19c1bbdd-05b5-49b7-b4d7-7c395a221dae",
   "metadata": {},
   "source": [
    "## ***Answer No.9***"
   ]
  },
  {
   "cell_type": "code",
   "execution_count": 9,
   "id": "ee1b0000-a172-40ee-9733-6dd6c38eeb03",
   "metadata": {},
   "outputs": [
    {
     "name": "stdout",
     "output_type": "stream",
     "text": [
      "The light is now ON.\n",
      "\n",
      "The light is bright and working.\n"
     ]
    }
   ],
   "source": [
    "class Light:\n",
    "   \n",
    "    def turn_on(self):\n",
    "        print('The light is now ON.\\n')\n",
    "\n",
    "    def check_status(self):\n",
    "        print('The light is bright and working.')\n",
    "\n",
    "light1 = Light()\n",
    "\n",
    "light1.turn_on()\n",
    "\n",
    "light1.check_status()"
   ]
  },
  {
   "cell_type": "markdown",
   "id": "ae880688-2e32-4497-938d-240e48c3f03f",
   "metadata": {},
   "source": [
    "## ***Question No.10***"
   ]
  },
  {
   "cell_type": "markdown",
   "id": "b175cea4-f1a6-4778-bf98-141fd9e5755f",
   "metadata": {},
   "source": [
    "Q10:\n",
    "\n",
    "available_slots = [101, 102, 103, 104, 105]\n",
    "\n",
    "reserved = [106, 107, 108, 109, 110]\n",
    "\n",
    "You manage a parking lot with two lists:\n",
    "\n",
    "available_slots — parking slots that are free and can be reserved.\n",
    "\n",
    "reserved — parking slots that are already taken.\n",
    "\n",
    "Write a program that:\n",
    "\n",
    "Asks the user to enter a parking slot number they want to reserve.\n",
    "\n",
    "Checks the slot number:\n",
    "\n",
    "If the slot is in available_slots, confirm the reservation by printing:\n",
    "\n",
    "\"Slot {slot} is reserved for you.\"\n",
    "\n",
    "If the slot is in reserved, print:\n",
    "\n",
    "\"Slot {slot} is already reserved by someone else.\"\n",
    "\n",
    "If the slot is not in either list, print:\n",
    "\n",
    "\"Slot {slot} does not exist.\"\n",
    "\n",
    "Handles invalid input (non-integer) with an error message:\n",
    "\n",
    "\"Invalid input. Please enter a valid slot number.\"\n",
    "\n",
    "Expected Output:\n",
    "\n",
    "Enter the parking slot number you want to reserve: 103\n",
    "\n",
    "Slot 103 is reserved for you.\n",
    "\n",
    "Enter the parking slot number you want to reserve: 107\n",
    "\n",
    "Slot 107 is already reserved by someone else.\n",
    "\n",
    "Enter the parking slot number you want to reserve: 999\n",
    "\n",
    "Slot 999 does not exist.\n",
    "\n",
    "Enter the parking slot number you want to reserve: abc\n",
    "\n",
    "Invalid input. Please enter a valid slot number."
   ]
  },
  {
   "cell_type": "markdown",
   "id": "5a6aa93b-5ab1-433f-882a-4055eaa004d9",
   "metadata": {},
   "source": [
    "## ***Answer No.10***"
   ]
  },
  {
   "cell_type": "code",
   "execution_count": 10,
   "id": "f5e71838-3917-4eed-ac31-d381480e102c",
   "metadata": {},
   "outputs": [
    {
     "name": "stdin",
     "output_type": "stream",
     "text": [
      "Enter the parking slot number you want to reserve:  103\n"
     ]
    },
    {
     "name": "stdout",
     "output_type": "stream",
     "text": [
      "Slot 103 is reserved for you. \n"
     ]
    }
   ],
   "source": [
    "available_slots = [101, 102, 103, 104, 105]\n",
    "\n",
    "reserved = [106, 107, 108, 109, 110]\n",
    "\n",
    "try:\n",
    "    slot = int(input(\"Enter the parking slot number you want to reserve: \"))\n",
    "\n",
    "    if slot in available_slots:\n",
    "        print(f\"Slot {slot} is reserved for you. \")\n",
    "    elif slot in reserved:\n",
    "        print(f\"Slot {slot} is already reserved by someone else. \")\n",
    "    else:\n",
    "        print(f'Slot {slot} does not exist.')\n",
    "\n",
    "except ValueError:\n",
    "    print('Invalid input. Please enter a valid slot number.')"
   ]
  }
 ],
 "metadata": {
  "kernelspec": {
   "display_name": "Python [conda env:base] *",
   "language": "python",
   "name": "conda-base-py"
  },
  "language_info": {
   "codemirror_mode": {
    "name": "ipython",
    "version": 3
   },
   "file_extension": ".py",
   "mimetype": "text/x-python",
   "name": "python",
   "nbconvert_exporter": "python",
   "pygments_lexer": "ipython3",
   "version": "3.13.5"
  }
 },
 "nbformat": 4,
 "nbformat_minor": 5
}
